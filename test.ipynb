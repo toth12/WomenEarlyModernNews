{
 "cells": [
  {
   "cell_type": "markdown",
   "id": "28f7168b",
   "metadata": {
    "tags": [
     "aaa"
    ]
   },
   "source": [
    "# My first automatic Jupyter Notebook\n",
    "This is an auto-generated notebook."
   ]
  },
  {
   "cell_type": "code",
   "execution_count": null,
   "id": "e31f957f",
   "metadata": {
    "tags": [
     "aaa"
    ]
   },
   "outputs": [],
   "source": [
    "%pylab inline\n",
    "hist(normal(size=2000), bins=50);"
   ]
  }
 ],
 "metadata": {},
 "nbformat": 4,
 "nbformat_minor": 5
}
