{
 "cells": [
  {
   "cell_type": "markdown",
   "id": "409c8f4c",
   "metadata": {},
   "source": [
    "# Transforms my paper into a notebook"
   ]
  },
  {
   "cell_type": "code",
   "execution_count": 50,
   "id": "373ce592",
   "metadata": {},
   "outputs": [],
   "source": [
    "import nbformat as nb"
   ]
  },
  {
   "cell_type": "markdown",
   "id": "97174448",
   "metadata": {},
   "source": [
    "## Load the data"
   ]
  },
  {
   "cell_type": "code",
   "execution_count": 51,
   "id": "80cf4b90",
   "metadata": {},
   "outputs": [],
   "source": [
    "text = open('data/input/myPaper.txt').readlines()\n",
    "paragraphs = [line.strip() for line in text if line!='\\n']"
   ]
  },
  {
   "cell_type": "markdown",
   "id": "ce98e0c6",
   "metadata": {},
   "source": [
    "## Create the notebook"
   ]
  },
  {
   "cell_type": "code",
   "execution_count": 52,
   "id": "7b27cd6c",
   "metadata": {},
   "outputs": [],
   "source": [
    "import nbformat as nbf\n",
    "nb = nbf.v4.new_notebook()\n",
    "nb['cells'] = [nbf.v4.new_markdown_cell(paragraph) for paragraph in paragraphs]\n",
    "\n",
    "# Add metadata\n",
    "for cell in nb['cells']:\n",
    "    cell['metadata']['tags'] = ['hermeneutics']\n",
    "\n",
    "fname = 'paper.ipynb'\n",
    "with open(fname, 'w') as f:\n",
    "    nbf.write(nb, f)"
   ]
  }
 ],
 "metadata": {
  "kernelspec": {
   "display_name": "Python 3 (ipykernel)",
   "language": "python",
   "name": "python3"
  },
  "language_info": {
   "codemirror_mode": {
    "name": "ipython",
    "version": 3
   },
   "file_extension": ".py",
   "mimetype": "text/x-python",
   "name": "python",
   "nbconvert_exporter": "python",
   "pygments_lexer": "ipython3",
   "version": "3.10.6"
  },
  "varInspector": {
   "cols": {
    "lenName": 16,
    "lenType": 16,
    "lenVar": 40
   },
   "kernels_config": {
    "python": {
     "delete_cmd_postfix": "",
     "delete_cmd_prefix": "del ",
     "library": "var_list.py",
     "varRefreshCmd": "print(var_dic_list())"
    },
    "r": {
     "delete_cmd_postfix": ") ",
     "delete_cmd_prefix": "rm(",
     "library": "var_list.r",
     "varRefreshCmd": "cat(var_dic_list()) "
    }
   },
   "types_to_exclude": [
    "module",
    "function",
    "builtin_function_or_method",
    "instance",
    "_Feature"
   ],
   "window_display": false
  }
 },
 "nbformat": 4,
 "nbformat_minor": 5
}
