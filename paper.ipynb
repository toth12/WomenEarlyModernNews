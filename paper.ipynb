{
 "cells": [
  {
   "cell_type": "markdown",
   "id": "e5b40e86",
   "metadata": {
    "tags": [
     "title"
    ]
   },
   "source": [
    "# Women in Early Modern Handwritten News: Random Walks and Semantic Wanderings in the Medici Archive"
   ]
  },
  {
   "cell_type": "markdown",
   "id": "8dc7164f",
   "metadata": {
    "tags": [
     "contributor"
    ]
   },
   "source": [
    "### Contributor Gabor Mihaly Toth\n",
    "\n",
    "University College Cork, gabor.toth@maximilianeum.de"
   ]
  },
  {
   "cell_type": "markdown",
   "id": "640611ad",
   "metadata": {
    "tags": [
     "copyright"
    ]
   },
   "source": [
    "[![cc-by-nc-nd](https://licensebuttons.net/l/by-nc-nd/4.0/88x31.png)](https://creativecommons.org/licenses/by-nc-nd/4.0/) \n",
    "©<GABOR MIHALY TOTH / UNIVERSITY COLLEGE CORK>. Published by De Gruyter in cooperation with the University of Luxembourg Centre for Contemporary and Digital History. This is an Open Access article distributed under the terms of the [Creative Commons Attribution License CC-BY-NC-ND](https://creativecommons.org/licenses/by-nc-nd/4.0/)"
   ]
  },
  {
   "cell_type": "markdown",
   "id": "77b29086",
   "metadata": {},
   "source": [
    "Abbreviations:"
   ]
  },
  {
   "cell_type": "markdown",
   "id": "74dffb24",
   "metadata": {},
   "source": [
    "- ASF MdP: Archivio di Stato di Firenze, Fondo Mediceo del Principato"
   ]
  },
  {
   "cell_type": "markdown",
   "id": "a83cd8eb",
   "metadata": {
    "tags": [
     "keywords"
    ]
   },
   "source": [
    "early modern history, media history, simulation, gender, manuscript news, semantic modelling, Bayesian inference"
   ]
  },
  {
   "cell_type": "markdown",
   "id": "61fb72e7",
   "metadata": {},
   "source": [
    "**Abstract**"
   ]
  },
  {
   "cell_type": "markdown",
   "id": "e846017f",
   "metadata": {
    "tags": [
     "abstract"
    ]
   },
   "source": [
    "Early modern Europe witnessed an unprecedented revolution in information culture. This gave rise to new means of communication that include handwritten news sheets. Throughout the 16th and 17th century information circulated in the form of regular manuscript newsletters. Even though these newsletters had a significant impact on European history, their study has remained challenging. Most of the once existing news sheets did not survive. Those news sheets that survived are dispersed in different collections of the world. These collections are just random and incomplete samples from the once existing corpus of handwritten news. How can we unlock and study the lost early modern corpus of handwritten news? To tackle this problem, this study draws on various methods applied in dynamic system modeling and AI (Bootstrapping, Markovian simulation, and Random Walks), as well as on Bayesian statistics and semantic modeling. Precisely, the paper investigates a collection of one thousand Italian manuscript newsletters from the Medici Archive (today part of the Florentine State Archive) with a focus on the presence and the perception of women in the news. First, it discusses how loss and incompleteness generate the randomness of archival assets. Second, it offers an accessible introduction into an array of methods that natural sciences and AI apply to tackle randomness and incompleteness. Third, by analyzing the representation and presence of women in early modern news, the paper presents these methods in action."
   ]
  },
  {
   "cell_type": "markdown",
   "id": "c6ba0dfa",
   "metadata": {},
   "source": [
    "# Introduction"
   ]
  },
  {
   "cell_type": "markdown",
   "id": "517b9942",
   "metadata": {},
   "source": [
    "## Background"
   ]
  },
  {
   "cell_type": "markdown",
   "id": "fa3a8bfa",
   "metadata": {},
   "source": [
    "In February 1600 a seemingly peculiar news reached the Medici court in Florence: a woman ambassador from Persia arrived at the Ottoman court in Constantinople. The short report about her arrival came as part of a handwritten news sheet compiled in Wien (ASF MdP, 3087). How did contemporary news mongers receive this news? Were they surprised? Or was reading about a woman who acted decisively and boldly a common experience for early modern news consumers?"
   ]
  },
  {
   "cell_type": "markdown",
   "id": "3d0bba8d",
   "metadata": {},
   "source": [
    "Answering these questions is not easy. Early modern Europe witnessed an information revolution featured - in part - by the continual circulation of handwritten news sheets (<cite data-cite=\"14123371/DNJG2PAA\"></cite>, <cite data-cite=\"14123371/YUIGK4W8\"></cite>). Later, from the early 1600s, handwritten news sheets were complemented with printed news, though handwritten news continued to play an important role until the mid 18th century. News were collected in large urban centers (henceforth, news hubs) of the continent by semi-professional newsagents; they assembled single news items into handwritten news sheets <cite data-cite=\"14123371/DNJG2PAA\"></cite>. Hence each news sheet is a consecutive sequence of news items that are organized into separate paragraphs. News agents, who could be postmasters, merchants or even diplomats and ambassadors residing abroad, sold their news sheets to a great variety of customers including ducal courts and merchant houses such as for instance the grand ducal court of the Medici in Florence and the Fuggers in Augsburg (<cite data-cite=\"14123371/C9YWKU9W\"></cite>,<cite data-cite=\"14123371/WI9Z4FWN\"></cite>)."
   ]
  },
  {
   "cell_type": "markdown",
   "id": "6615a488",
   "metadata": {},
   "source": [
    "These news sheets were usually compiled in the native language of the customers; hence, the Medici received most of the news sheets in Italian and the Fuggers mainly read news in German. What types of information handwritten news sheets spread about women have not been studied. Hence it remains difficult to judge to which extent the story of the woman ambassador was a genuine novelty for contemporary readers."
   ]
  },
  {
   "cell_type": "markdown",
   "id": "8ed15bf1",
   "metadata": {},
   "source": [
    "Scholarship on women history cannot offer an answer either. Recent scholarship of women's history has challenged the traditional perception of early modern women as passive protagonists of history <cite data-cite=\"14123371/EG2Q7AVT\"></cite>. Through the systematic study of a great variety of records and sources (such as for instance court papers, diaries, and letters) historians have uncovered different areas of woman agency and pointed out that woman agency was not altogether exceptional. Women agency manifested in specific domains of knowledge and skills such as medicine and household management (<cite data-cite=\"14123371/VUNYRXSG\"></cite>, <cite data-cite=\"14123371/YUIGK4W8\"></cite>, <cite data-cite=\"14123371/URZW6Q9G\"></cite>). Women did engage with political and material culture, as well as with knowledge production; they did shape history and occasionally challenged social order framed by male dominance. Throughout the early modern period there were a number of powerful women, such as for instance the English queen Elisabeth I. (1558 - 1603), who ruled entire countries. However, students of women’s history have not surveyed handwritten news. We do not therefore know what perceptions of womanhood were conveyed in this important group of historical sources."
   ]
  },
  {
   "cell_type": "markdown",
   "id": "b8d05c01",
   "metadata": {},
   "source": [
    "This lacuna is due to the fact that handwritten news sheets were not easy to research until not long ago. Most of the surviving news sheets remained unpublished and untranscribed in various archives and libraries of the world. Recently, thanks to the Euronews Project (https://euronewsproject.org) funded by the Irish Research Council and to the Medici Archive Project (https://www.medici.org/) funded by the Mellon Foundation, a large number of transcribed Italian language handwritten news sheets (a corpus of approximately 1250 news sheets and 10800 individual news items) from the Florentine State Archive became publicly available on the MIA platform and database ([https://mia.medici.org/](https://mia.medici.org/)). At the same time, the MIA database still contains a large number of untranscribed news sheets. Despite its incompleteness, the transcribed news corpus in MIA is an important snapshot of the once flourishing early modern news culture. In this essay I will investigate this snapshot and I will refer to it as the MIA-Euronews Corpus; specifically, the focus of my investigation will be women and their representation in early modern handwritten news sheets."
   ]
  },
  {
   "cell_type": "markdown",
   "id": "4da15c98",
   "metadata": {},
   "source": [
    "## Research questions"
   ]
  },
  {
   "cell_type": "markdown",
   "id": "c2b503a6",
   "metadata": {},
   "source": [
    "The investigation of women's presence in early modern handwritten news involves a number of questions that I will address in different sections of this paper. First, how often did contemporary readers hear about women? This question implies further questions. Generally, who were the main characters in the news world of the early modern period? What was the social status of those women who occurred in the news? Second, if women appear in the news, in what context are they mentioned? In other words, what are those topics that are associated with women? Again, before answering this question, I will address the question, what are the main themes in the early modern news world? As a whole, answering these questions will help understand not only the presence of women in early modern news; it will also offer fresh insights into the early modern news culture."
   ]
  },
  {
   "cell_type": "markdown",
   "id": "fd6792ac",
   "metadata": {},
   "source": [
    "The new sheets I worked with  cover a period of 200 years (see Figure 1 ) and they arrived from a great variety of source locations (see Figure 2). These 200 years mark a particularly tumultuous period of the old continent and beyond. The early modern period witnessed not only an information revolution but also other profound social and economic transformations and historical events: the discovery of the new world, the Reformation and subsequent religious divides, witch hunts and long lasting wars (30 year war, the war against the Ottoman Empire, etc). Despite the urgent need to study how the presence and the perception of women changed in space and time, the diachronic and synchronic analysis of the MIA-Euronews Corpus will be limited in this study. This is due to the fact that the corpus is not balanced; yet, as Figure 1 and Figure 2 demonstrate, news sheets available in the corpus are quite unevenly distributed in space and time. I will therefore limit the diachronic and synchronic approaches to the study of women’s presence or absence. By contrast, when studying the perception of women, I will treat the corpus as one monolithic whole; the diachronic and synchronic analysis of the women’s perception will be accomplished once a more balanced data will be available. In particular, I will compare the presence or absence of women in two periods (before and after 1600) and in the new sheets that came from the seven most important news hubs in the MIA-Euronews Corpus: London, Naples, Rome, Milan, Venice, Wien, Antwerp."
   ]
  },
  {
   "cell_type": "markdown",
   "id": "4f4b7cc3",
   "metadata": {},
   "source": [
    "At the same time, due to a key feature of the news sheet data I worked with, answering the research questions above needs very specific methods. This key feature is randomness. Before analyzing the presence of women in the news sheet data, I will first discuss what randomness in archival research implies in general and in the context of this project. I will then outline the methodology (Random Walks, Markovian simulation, Bayesian inference and semantic modeling) I applied to address randomness. I will keep this discussion accessible to non-specialist audiences. An indepth and technical discussion of the methodology will be presented in the section called Implementation, which follows the general conclusions of this paper."
   ]
  },
  {
   "cell_type": "code",
   "execution_count": 19,
   "id": "cc76f56c",
   "metadata": {
    "tags": [
     "figure(-insert-name)-*"
    ]
   },
   "outputs": [
    {
     "data": {
      "image/png": "[encoded data removed]",
      "text/plain": [
       "<IPython.core.display.Image object>"
      ]
     },
     "execution_count": 19,
     "metadata": {
      "image/png": {
       "jdh": {
        "module": "object",
        "object": {
         "source": [
          "figure 1:  The temporal distribution of news sheets in the MIA-Euronews Corpus"
         ],
         "type": "image"
        }
       }
      }
     },
     "output_type": "execute_result"
    }
   ],
   "source": [
    "from IPython.display import Image\n",
    "metadata={\n",
    "    \"jdh\": {\n",
    "        \"module\": \"object\",\n",
    "        \"object\": {\n",
    "            \"type\":\"image\",\n",
    "            \"source\": [\n",
    "                \"figure 1:  The temporal distribution of news sheets in the MIA-Euronews Corpus\"\n",
    "            ]\n",
    "        }\n",
    "    }\n",
    "}\n",
    "Image('media/image19.png',metadata=metadata)"
   ]
  },
  {
   "cell_type": "code",
   "execution_count": 20,
   "id": "dd9afa85",
   "metadata": {
    "tags": [
     "figure(-insert-name)-*"
    ]
   },
   "outputs": [
    {
     "data": {
      "image/png": "[encoded data removed]",
      "text/plain": [
       "<IPython.core.display.Image object>"
      ]
     },
     "execution_count": 20,
     "metadata": {},
     "output_type": "execute_result"
    }
   ],
   "source": [
    "metadata={\n",
    "    \"jdh\": {\n",
    "        \"module\": \"object\",\n",
    "        \"object\": {\n",
    "            \"type\":\"image\",\n",
    "            \"source\": [\n",
    "                \"figure 2:  The fifteen most frequent news hubs in the transcribed news sheet corpus in the MIA-Euronews Corpus\"\n",
    "            ]\n",
    "        }\n",
    "    }\n",
    "}\n",
    "\n",
    "Image('media/image6.png')"
   ]
  },
  {
   "cell_type": "markdown",
   "id": "8f7b7d88",
   "metadata": {},
   "source": [
    "# Methodology"
   ]
  },
  {
   "cell_type": "markdown",
   "id": "c91b58fd",
   "metadata": {},
   "source": [
    "## Two layers of randomness"
   ]
  },
  {
   "cell_type": "markdown",
   "id": "e70556e0",
   "metadata": {},
   "source": [
    "The story of the boldly acting woman ambassador is a random finding by my colleague (see the Acknowledgements). This story is just one of those millions of stories that the so-called _Mediceo del Principato_, the Medici family’s major archive from the early modern period, preserves. The _Mediceo del Principato_ is a gigantic archival division in the Florentine State Archive <cite data-cite=\"14123371/27AKK3NB\"></cite>; it incorporates some 6500 archival units and occupies approximately one and half kilometers of shelf space. News sheets are dispersed through these 6500 archival units. To understand better how randomness and archival research go hands in hands, consider the following thought experiment."
   ]
  },
  {
   "cell_type": "markdown",
   "id": "5db75d73",
   "metadata": {},
   "source": [
    "We have a person who is literally a random walker. He keeps wandering in the physical spaces where the _Mediceo del Principato_ is housed; furthermore, he keeps opening boxes and folders containing news sheets. He finds that sometimes women are mentioned, sometimes there is a complete silence on them. As he continues to explore news sheets in the archive, he also finds that the type of information conveyed about women is in constant change. Sometimes women act boldly; sometimes they are passive agents of history; sometimes our random walker reads about noble women, sometimes he reads about peasant women. Our random walker concludes that the presence and the absence of women in news sheets, as well as the information presented about women, feature a high degree of randomness."
   ]
  },
  {
   "cell_type": "markdown",
   "id": "87324802",
   "metadata": {},
   "source": [
    "On the one hand, the randomness that our imaginary walker witnesses is due to the organic development of the _Mediceo del Principato_ <cite data-cite=\"14123371/BI7JMMQL\"></cite>. As any other archival collection, the _Mediceo del Principato_ underwent frequent reorganizations, which led to the reshuffling of the collection. Furthermore, even though the _Mediceo del Principato_ is considered to be one of the most intact early modern collections, it incurred serious losses over the centuries. As a result, the collection of news sheets it preserves features gaps in space and time. There are years from which no news sheets are available; there are locations about which there are no news. The news sheets that are available today in the _Mediceo del Principato_ are just a random and incomplete sample from the corpus of news sheets that once existed and circulated throughout the early modern period. _Incompleteness_ and subsequent randomness are features of the MIA database as well. Again MIA is the digital catalog of the _Mediceo del Principato_ developed by the Medici Archive Project. It includes metadata about documents preserved in the _Mediceo del Principato_: synopses, keyword annotations, places of origin, dates of compilation, and occasionally transcripts. MIA is not a perfect digital surrogate of the original analogue collection. While many of the original archival documents have been processed and entered into the database, others are still waiting to be included into the database. The collection of news sheets available in the MIA database is also incomplete. In general, both digital and analogue archives are often fragmentary and somewhat random snapshots of a lost totality of documents that once existed <cite data-cite=\"14123371/XTI8JBV7\"></cite> ."
   ]
  },
  {
   "cell_type": "markdown",
   "id": "e5a221bd",
   "metadata": {},
   "source": [
    "On the other hand, the randomness of information conveyed about women in thousands of early modern news sheets is also due to the very nature of news circulation in the early modern period and beyond. New sheets provided readers with information about the world. As the world was changing, the information about it was also in constant change. Today when one reads the news sheets in the _Mediceo del Principato_, quite understandably she or he experiences the always changing nature of news as something totally random."
   ]
  },
  {
   "cell_type": "markdown",
   "id": "ab760809",
   "metadata": {},
   "source": [
    "To sum up, the study of women’s presence in early modern handwritten news sheets involves two layers of randomness (see Table 1 for a summary). The first layer is the randomness of those news sheets that survived and remained available to us. The second layer is the randomness of information in news sheets. In light of these two layers, establishing a stable truth about the extraordinary or ordinary nature of the news about the woman ambassador is a daunting task. We need specific methods that can uncover information about women in early modern news and at the same can also tackle the two layers of randomness."
   ]
  },
  {
   "cell_type": "markdown",
   "id": "ee5c2e56",
   "metadata": {
    "jdh": {
     "module": "object",
     "object": {
      "source": [
       "table 1: two layers of randomness that the study of women’s presence in early modern news involves and methods applied to tackle the two layers."
      ],
      "type": "html"
     }
    },
    "tags": [
     "table(-insert-name)-*"
    ]
   },
   "source": [
    "<table>\n",
    "  <tr>\n",
    "   <td><strong>Layer of randomness</strong>\n",
    "   </td>\n",
    "   <td><strong>Description</strong>\n",
    "   </td>\n",
    "   <td><strong>Consequence</strong>\n",
    "   </td>\n",
    "   <td><strong>Methods to tackle the layer of randomness </strong>\n",
    "   </td>\n",
    "   <td><strong>Outcome</strong>\n",
    "   </td>\n",
    "  </tr>\n",
    "  <tr>\n",
    "   <td>Randomness of news sheets that survived or got lost.\n",
    "   </td>\n",
    "   <td>The collection of news sheets in the Medici Archive is an incomplete and random snapshot of those news sheets that once circulated in the early modern times.\n",
    "   </td>\n",
    "   <td>The presence or absence of women in the existing news sheets does not give direct information about their “true” presence or absence as existed in the totality of news sheets in the early modern period.\n",
    "   </td>\n",
    "   <td><strong>Repeated random sampling of news sheets and news items:</strong>\n",
    "<ol>\n",
    "\n",
    "<li>Random selection of news sheets  / news items\n",
    "\n",
    "<li>Counting the number of news sheets / news items in which women are mentioned (“success”) and unmentioned (“failure”) \n",
    "\n",
    "<li>Repeating the step 1 and 2 for 10000 times\n",
    "\n",
    "<li>Summarizing steps 1, 2 and 3 by taking the mean number of successes and failures and representing the result as a binomial random variable. \n",
    "\n",
    "<li>Applying Bayesian inference by taking the resulting binomial distribution from step 4 as evidence and by calculating the most likely prior distribution that must have given rise to this evidence, i.e. use of the beta distribution as the conjugate prior of the binomial distribution\n",
    "</li>\n",
    "</ol>\n",
    "   </td>\n",
    "   <td>Probability distribution that represents the probability of hearing about women in the totality of early modern news that once existed.\n",
    "   </td>\n",
    "  </tr>\n",
    "  <tr>\n",
    "   <td>Randomness of information conveyed in surviving news sheets.\n",
    "   </td>\n",
    "   <td>Early modern news culture was a dynamic system; it provided always-changing information about an always changing world; the content of surviving news sheets also features dynamicity and randomness.\n",
    "   </td>\n",
    "   <td>Information about women conveyed by surviving news sheets is always changing and it is random.\n",
    "   </td>\n",
    "   <td><strong>A. Markovian simulation of the news corpus: </strong>\n",
    "<ol>\n",
    "\n",
    "<li>Learning the probabilities of how words follow each other in the news corpus with a Markov chain \n",
    "\n",
    "<li>Simulating the resulting Markov chain and observing the stable state of the news corpus as a dynamic system \n",
    "\n",
    "<li>Observing how words are likely to follow each other and discovering how strongly they are connected with one another\n",
    "\n",
    "<p>\n",
    "<strong>B. Reconstruction of the semantic space underlying the news corpus:</strong>\n",
    "<ol>\n",
    "\n",
    "<li>Representing each word in the news corpus as vectors \n",
    "\n",
    "<li>Projecting the resulting n-dimensional vector space into a two dimensional space and observing clusters of semantically related words \n",
    "\n",
    "<li>Calculating the semantic similarities between terms\n",
    "</li>\n",
    "</ol>\n",
    "</li>\n",
    "</ol>\n",
    "   </td>\n",
    "   <td><strong>A. Markovian simulation:</strong>\n",
    "<p>\n",
    "The mapping of all possible words that follow or precede words denoting women. This includes the - stable - probability that a given word follows or precedes words denoting women, as well as the strength of association between that word and the words denoting women. \n",
    "<p>\n",
    "<strong>B. Semantic space:</strong>\n",
    "<p>\n",
    "The discovery of words semantically related to words denoting women.\n",
    "   </td>\n",
    "  </tr>\n",
    "</table>"
   ]
  },
  {
   "cell_type": "markdown",
   "id": "9a3a67d7",
   "metadata": {
    "tags": [
     "narrative"
    ]
   },
   "source": [
    "## Tackling the first layer of randomness"
   ]
  },
  {
   "cell_type": "markdown",
   "id": "9f05ff96",
   "metadata": {},
   "source": [
    "Unlocking randomness of archives must seem to be an impossible undertaking. The thought experiment of the random walker highlighted the crucial role that chance plays when researching an archive. However, it is important to emphasize that randomness of archives is finite and as such it can be discovered and analyzed (or more technically speaking modeled). Given that an understanding of finite randomness and the way it can be unlocked are crucial to understand the methodology of this paper, I am first giving a simplified explanation. By drawing on this simplified explanation, I will then elaborate the methodology that I applied to tackle the first layer of randomness, i.e. randomness due to the loss of many news sheets that once circulated in the early modern period."
   ]
  },
  {
   "cell_type": "markdown",
   "id": "ca7cef69",
   "metadata": {},
   "source": [
    "To understand what finite randomness means and how we can harness it, let’s imagine rolling a dice. When rolling the dice repeatedly, sometimes we get 4, sometimes we get 6, and so on. The outcome that each rolling brings about is random. But this randomness is finite given that it can have only six possible outcomes. Furthermore, given that the dice is even, we know the overall probability of getting 4. It is 0.16 (⅙). In case of an even dice, we have some ideas of how the randomness of rolling the dice works. Suppose that we do not know whether the dice is uneven or even. In this case, we have no information about the probability of getting 4 and we do not know how the randomness of rolling the dice works. To find out the probabilities of getting 4, we can run a simple “experiment” that has two components."
   ]
  },
  {
   "cell_type": "markdown",
   "id": "631222c1",
   "metadata": {},
   "source": [
    "First, we can roll the dice a hundred times and record the number of times the outcome of the rolling is 4. We can then repeat this experiment for a cycle of a thousand times and check the mean number of times we got 4 (see Figure 3 A). The mean will be the overall probability of getting 4. This component of the experiment is called _repeated random sampling_. Figure 3 A summarizes the insights it produces. In short, over the thousand trials that the repeated random sampling incorporated the probability of getting 4 was not stable; sometimes it was 0.12; sometimes it was 0.2. Throughout the repeated random sampling the probability of getting four oscillated between two limits and covered all possible outcomes (getting four thirty times, twenty two times and so on when the dice is rolled hundred times), including the most likely one (the mean). Hence with the help of repeated random sampling we could map all possible outcomes and gather information about their respective probabilities. In technical terms, repeated random sampling and the subsequent histogram  (Figure 3 A)  gave us a probability distribution, which is a tangible representation of how finite randomness works."
   ]
  },
  {
   "cell_type": "markdown",
   "id": "3eaae78d",
   "metadata": {},
   "source": [
    "Second, after each cycle of rolling the dice for a hundred times, we can calculate the mean of all previous cycles; as we keep repeating this calculation,  the mean value will start to converge and our experiment will yield a stable value. This procedure is named simulation and it is demonstrated on Figure 3 B. Throughout the simulation the probability of getting four was also oscillating before reaching the stable value. The power of simulation lies in its ability to uncover how uncertainty related to randomness diminishes over time; simulation also facilitates the observation of how a finitely random system reaches a stable state over time."
   ]
  },
  {
   "cell_type": "code",
   "execution_count": 21,
   "id": "a26c3df3",
   "metadata": {
    "jdh": {
     "module": "object",
     "object": {
      "source": [
       "figure 3: an illustrative example: harnessing the finite randomness of rolling a dice. Figure 3 A demonstrates the distribution of the probability of getting four after rolling the dice for hundred times and repeating this over 10000 times. Figure 3 B shows how rolling the dice for hundred times and repeating this over 10000 times yields the stable probability of getting four."
      ],
      "type": "image"
     }
    },
    "tags": [
     "figure(-insert-name)-*"
    ]
   },
   "outputs": [
    {
     "data": {
      "image/png": "[encoded data removed]",
      "text/plain": [
       "<IPython.core.display.Image object>"
      ]
     },
     "execution_count": 21,
     "metadata": {},
     "output_type": "execute_result"
    }
   ],
   "source": [
    "Image('media/image35.png')"
   ]
  },
  {
   "cell_type": "code",
   "execution_count": 22,
   "id": "20f82aa4",
   "metadata": {
    "tags": [
     "hermeneutics"
    ]
   },
   "outputs": [
    {
     "ename": "KeyboardInterrupt",
     "evalue": "",
     "output_type": "error",
     "traceback": [
      "\u001b[0;31m---------------------------------------------------------------------------\u001b[0m",
      "\u001b[0;31mKeyboardInterrupt\u001b[0m                         Traceback (most recent call last)",
      "\u001b[0;32m/tmp/ipykernel_21/2697515383.py\u001b[0m in \u001b[0;36m<module>\u001b[0;34m\u001b[0m\n\u001b[1;32m     21\u001b[0m     \u001b[0moutcomes\u001b[0m \u001b[0;34m=\u001b[0m \u001b[0;34m[\u001b[0m\u001b[0;34m]\u001b[0m\u001b[0;34m\u001b[0m\u001b[0;34m\u001b[0m\u001b[0m\n\u001b[1;32m     22\u001b[0m     \u001b[0;32mfor\u001b[0m \u001b[0mf\u001b[0m \u001b[0;32min\u001b[0m \u001b[0mrange\u001b[0m\u001b[0;34m(\u001b[0m\u001b[0;36m0\u001b[0m\u001b[0;34m,\u001b[0m\u001b[0;36m100\u001b[0m\u001b[0;34m)\u001b[0m\u001b[0;34m:\u001b[0m\u001b[0;34m\u001b[0m\u001b[0;34m\u001b[0m\u001b[0m\n\u001b[0;32m---> 23\u001b[0;31m         \u001b[0moutcome\u001b[0m \u001b[0;34m=\u001b[0m \u001b[0mrollDice\u001b[0m\u001b[0;34m(\u001b[0m\u001b[0mdiceValues\u001b[0m\u001b[0;34m,\u001b[0m\u001b[0mdiceProbs\u001b[0m\u001b[0;34m)\u001b[0m\u001b[0;34m\u001b[0m\u001b[0;34m\u001b[0m\u001b[0m\n\u001b[0m\u001b[1;32m     24\u001b[0m         \u001b[0moutcomes\u001b[0m\u001b[0;34m.\u001b[0m\u001b[0mappend\u001b[0m\u001b[0;34m(\u001b[0m\u001b[0moutcome\u001b[0m\u001b[0;34m)\u001b[0m\u001b[0;34m\u001b[0m\u001b[0;34m\u001b[0m\u001b[0m\n\u001b[1;32m     25\u001b[0m     \u001b[0;31m# Calculate the probability of getting 4\u001b[0m\u001b[0;34m\u001b[0m\u001b[0;34m\u001b[0m\u001b[0;34m\u001b[0m\u001b[0m\n",
      "\u001b[0;32m/tmp/ipykernel_21/2697515383.py\u001b[0m in \u001b[0;36mrollDice\u001b[0;34m(diceValues, diceProbs)\u001b[0m\n\u001b[1;32m     11\u001b[0m \u001b[0;34m\u001b[0m\u001b[0m\n\u001b[1;32m     12\u001b[0m \u001b[0;32mdef\u001b[0m \u001b[0mrollDice\u001b[0m\u001b[0;34m(\u001b[0m\u001b[0mdiceValues\u001b[0m\u001b[0;34m,\u001b[0m\u001b[0mdiceProbs\u001b[0m\u001b[0;34m)\u001b[0m\u001b[0;34m:\u001b[0m\u001b[0;34m\u001b[0m\u001b[0;34m\u001b[0m\u001b[0m\n\u001b[0;32m---> 13\u001b[0;31m     \u001b[0moutcome\u001b[0m \u001b[0;34m=\u001b[0m \u001b[0mnp\u001b[0m\u001b[0;34m.\u001b[0m\u001b[0mrandom\u001b[0m\u001b[0;34m.\u001b[0m\u001b[0mchoice\u001b[0m\u001b[0;34m(\u001b[0m\u001b[0mdiceValues\u001b[0m\u001b[0;34m,\u001b[0m\u001b[0mp\u001b[0m\u001b[0;34m=\u001b[0m\u001b[0mdiceProbs\u001b[0m\u001b[0;34m)\u001b[0m\u001b[0;34m\u001b[0m\u001b[0;34m\u001b[0m\u001b[0m\n\u001b[0m\u001b[1;32m     14\u001b[0m     \u001b[0;32mreturn\u001b[0m \u001b[0moutcome\u001b[0m\u001b[0;34m\u001b[0m\u001b[0;34m\u001b[0m\u001b[0m\n\u001b[1;32m     15\u001b[0m \u001b[0;34m\u001b[0m\u001b[0m\n",
      "\u001b[0;31mKeyboardInterrupt\u001b[0m: "
     ]
    }
   ],
   "source": [
    "import numpy as np\n",
    "import pandas as pd\n",
    "import matplotlib.pyplot as plt\n",
    "\n",
    "# Set up the dice\n",
    "\n",
    "diceProbs = np.array([1/6]*6)\n",
    "diceValues = [1,2,3,4,5,6]\n",
    "\n",
    "## Create a function to roll the dice\n",
    "\n",
    "def rollDice(diceValues,diceProbs):\n",
    "    outcome = np.random.choice(diceValues,p=diceProbs)\n",
    "    return outcome\n",
    "\n",
    "# Roll the dice for hundred times and repeat for 10000 trials\n",
    "\n",
    "probabilities = []\n",
    "\n",
    "for i in range(0,10000):\n",
    "    outcomes = []\n",
    "    for f in range(0,100):\n",
    "        outcome = rollDice(diceValues,diceProbs)\n",
    "        outcomes.append(outcome)\n",
    "    # Calculate the probability of getting 4\n",
    "    probability = outcomes.count(4)\n",
    "    probabilities.append(probability/100)\n",
    "\n",
    "output = np.mean(np.array(probabilities).reshape(-1, 2),\n",
    "                    axis=1)\n",
    "\n",
    "probabilitiesMeans = []\n",
    "for i,element in enumerate(probabilities):\n",
    "    if i>0:\n",
    "        probabilitiesMeans.append(np.array(probabilities[:i]).mean())\n",
    "\n",
    "        df = pd.DataFrame(probabilities,columns=['prob'])\n",
    "fig, axes = plt.subplots(nrows=1, ncols=2,figsize=(15, 4))\n",
    "df.prob.plot.hist(bins=100,ax=axes[0])\n",
    "axes[0].set_xlabel(\"Probability\")\n",
    "axes[0].set_xlim(0.05,0.3)\n",
    "axes[0].set_title('A')\n",
    "\n",
    "axes[1].plot(probabilitiesMeans)\n",
    "axes[1].set_ylabel(\"Probability\")\n",
    "axes[1].set_xlabel(\"Simulation cycles\")\n",
    "axes[1].set_xlim(0,6000)\n",
    "axes[1].set_ylim(0.155, 0.2)\n",
    "axes[1].set_title('B')\n",
    "\n",
    "plt.plot(bbox_inches='tight')"
   ]
  },
  {
   "cell_type": "markdown",
   "id": "69217ce8",
   "metadata": {},
   "source": [
    "Next, I will transpose the capability of repeated random sampling and simulation to map all possible outcomes to the study of women’s presence or absence in the news sheets preserved in the Florentine State Archive."
   ]
  },
  {
   "cell_type": "markdown",
   "id": "d30eea81",
   "metadata": {},
   "source": [
    "The thought experiment of the random walker wandering around in the Florentine State Archive pinpointed that archival research often involves the encounter of possibilities. Again, our random walker found that women are sometimes mentioned and sometimes remain unmentioned in the news sheets he randomly picked. He thus encountered two possible outcomes (absence or presence) throughout his “experiment” of checking news sheets and news items randomly. Furthermore, as he progressed and checked the news sheets and news items, the probability of the two possible outcomes was also changing; most probably it was oscillating between two - hitherto unknown -  limits before reaching a stable state. It is important to underline that his random wandering was finite. Even though there is an extraordinarily large number of documents in the _Mediceo del Principato_, the number of documents in this collection is not infinite. Hence, at some point our random walker will see all the news sheets and he will be able to give us an account of how the probabilities of the two outcomes oscillate between two limits and what are the stable probabilities of absence and presence of women. To achieve this, we need to modify the thought experiment and make it more similar to the experiment of rolling a dice described above."
   ]
  },
  {
   "cell_type": "markdown",
   "id": "7a689561",
   "metadata": {
    "tags": [
     "narrative"
    ]
   },
   "source": [
    "Imagine that our walker randomly selects 100 news sheets and 100 news items at once; then he reports us two pieces of information. First, as part of _random sampling of news sheets_, he tells us in how many news sheets he found the occurrence of at least one woman. Second, as part of _random sampling of news items_, he tells us how many news items mentioned at least one woman. Next, we ask our random walker to repeat the two tasks over thousands of times. At the end, as Figure 4A demonstrates, we will have a clear picture of all possible outcomes: women mentioned in 10 news items out of hundred randomly selected news items, women mentioned in 20 news items out of hundred randomly selected news items, and so on. We will also know the respective probabilities of each outcome, as well as the stable probability of a woman being mentioned at least once in a hundred randomly selected news items (see Figure 4B) and news sheets."
   ]
  },
  {
   "cell_type": "code",
   "execution_count": 23,
   "id": "d65adc7d",
   "metadata": {
    "jdh": {
     "module": "object",
     "object": {
      "source": [
       "figure 4:  Probability of women occurring in news items randomly sampled from the MIA-Euronews Corpus. Figure A shows the probability distribution as a histogram. Figure B shows how the mean probability is reaching a stable value throughout the repeating random sampling."
      ],
      "type": "image"
     }
    },
    "tags": [
     "figure(-insert-name)-*"
    ]
   },
   "outputs": [
    {
     "data": {
      "image/png": "[encoded data removed]",
      "text/plain": [
       "<IPython.core.display.Image object>"
      ]
     },
     "execution_count": 23,
     "metadata": {},
     "output_type": "execute_result"
    }
   ],
   "source": [
    "Image('media/image17.png')"
   ]
  },
  {
   "cell_type": "code",
   "execution_count": null,
   "id": "04c662d6",
   "metadata": {
    "tags": [
     "hermeneutics"
    ]
   },
   "outputs": [],
   "source": [
    "import pandas as pd\n",
    "\n",
    "def dt_parse(s):\n",
    "    y,m,d = s.split('-')\n",
    "    return pd.Period(year=int(y), month=int(m), day=int(d), freq='D')\n",
    "\n",
    "df = pd.read_csv('data/input/WomenMenAbsencePresence.csv')\n",
    "df['date']=df.date.apply(dt_parse)\n",
    "df = df.set_index('date')\n",
    "\n",
    "\n",
    "alpha_values = []\n",
    "beta_values = []\n",
    "n_trials = 10000\n",
    "sampleSize = 100\n",
    "results = []\n",
    "\n",
    "# Inspect the absence and presence of women\n",
    "\n",
    "for i in range(0,n_trials): \n",
    "    sample = df.sample(n=sampleSize)\n",
    "    success = sample[sample.woman==True].shape[0]\n",
    "    failure = sample[sample.woman==False].shape[0]\n",
    "    result = np.array([success,failure])\n",
    "    results.append(result)\n",
    "results = np.vstack(results)\n",
    "a = results.mean(axis=0)[0]\n",
    "b = results.mean(axis=0)[1]\n",
    "alpha_values.append(a)\n",
    "beta_values.append(b)\n",
    "\n",
    "\n",
    "\n",
    "# Render the results\n",
    "\n",
    "dfTemp = pd.DataFrame(results[:,0]/100,columns=['prob'])\n",
    "fig, axes = plt.subplots(nrows=1, ncols=2,figsize=(15, 4))\n",
    "dfTemp.prob.plot.hist(bins=100,ax=axes[0])\n",
    "axes[0].set_xlabel('Probabilities')\n",
    "axes[0].set_ylim(ymin=0,ymax = 1200)\n",
    "axes[0].set_xlim(xmin=0,xmax = 0.3)\n",
    "axes[0].set_title('A')\n",
    "\n",
    "probabilitiesMeans = []\n",
    "probabilities = list(results[:,0]/100)\n",
    "for i,element in enumerate(probabilities):\n",
    "    if i>0:\n",
    "        probabilitiesMeans.append(np.array(probabilities[:i]).mean())\n",
    "axes[1].plot(probabilitiesMeans)\n",
    "axes[1].set_ylim(ymin=0.14,ymax = 0.15)\n",
    "axes[1].set_xlim(xmin=0,xmax = 10000)\n",
    "axes[1].set_xlabel('Simulation cycles')\n",
    "axes[1].set_ylabel('Probability')\n",
    "axes[1].set_title('B')\n",
    "plt.plot(bbox_inches='tight')"
   ]
  },
  {
   "cell_type": "markdown",
   "id": "d5aab5cb",
   "metadata": {},
   "source": [
    "Our random walker is of course only a thought experiment. Wandering around in the Florentine State Archive for thousands of hours and randomly opening boxes and folders are of course not viable. Instead, we can simulate the random walker algorithmically by using the news sheet data set in MIA, i.e. the MIA-Euronews Corpus. This is what I did throughout my research on early modern news culture. An algorithm randomly fetched a set of 100 news sheets and a set of 100 individual news items from the corpus. First, it reported the number of news sheets in which women are present or absent (henceforth, I will refer to this as _random sampling of news sheets_). Second, it reported the number of news items that mention or do not mention women (henceforth, I will refer to this as _random sampling of news items_). The algorithm repeated these two tasks over thousands of times. This enabled me to map how the presence and absence of women oscillate between certain limits and to infer the stable probability of a woman being mentioned in an entire news sheet or in a news item. Occasionally, as discussed below, I used the two procedures to map the presence or absence of certain themes (such as for instance marriage) in news, as well as to compare news coming from different locations and in different periods of time (before and after 1600). As a whole, the algorithmic implementation of the random walker thought experiment helped understand the randomness that women’s presence or absence in the _existing_ news sheets involve. But how can we harness the randomness in the totality of news sheets that _once existed_ and did not survive until today?"
   ]
  },
  {
   "cell_type": "markdown",
   "id": "5ea3bb16",
   "metadata": {},
   "source": [
    "To answer this question, we have to draw on two core assumptions deriving from Bayesian statistics <cite data-cite=\"14123371/T8QUN2KM\"></cite>. First, each random sample of news sheets is related to the once existing but now lost whole. Second, the features of the once existing whole determine the features of each sample. Of course, here we do not work with exact features but with possibilities and their respective probabilities, i.e. with probability distributions. Hence, the probabilities of women’s absence or presence that we discover by randomly sampling news sheets in the Medici Archive are conditioned by the probabilities that existed in the lost whole. More technically speaking, the probability distribution of absence and presence of women in the once existing totality of circulating news sheets is the prior probability that conditions the evidence we find when randomly sampling news sheets existing today in the _Mediceo del Principato_. This train of thought is becoming more intuitive through the following illustrative example."
   ]
  },
  {
   "cell_type": "markdown",
   "id": "033b25b6",
   "metadata": {},
   "source": [
    "We have an unfair coin; the probability of head is 0.3 and the probability of tail is 0.7. We are not aware of how biased the coin is and we toss it to collect evidence for a hundred times. The evidence we get is determined by the prior probability distribution; again, the probability of head is 0.3 and probability of tail is 0.7. Determination means that the probability of getting head will be around 0.3 and it cannot be 0.8 for instance. Figure 5A shows the evidence we collected and Figure 5 B shows the prior probability distribution. It is important to underline that the prior probability distribution (Figure 5B) was inferred from the evidence (Figure 5A) with tools provided by Bayesian statistics."
   ]
  },
  {
   "cell_type": "code",
   "execution_count": null,
   "id": "04ba706b",
   "metadata": {
    "jdh": {
     "module": "object",
     "object": {
      "source": [
       "figure 5: an illustrative example: assessing the fairness of a coin by flipping it for a hundred times. Figure A shows the outcome of flippings, i.e. the evidence. Figure B shows the mostly likely prior distribution that could give rise to the evidence gathered throughout the flipping. The beta distribution on Figure B gives a correct guess of the original probability. Figure A is the result of the simulation of a binomial variable with p = 0.3, which is the degree of the coin’s biasness."
      ],
      "type": "image"
     }
    },
    "tags": [
     "figure(-insert-name)-*"
    ]
   },
   "outputs": [],
   "source": [
    "Image('media/image28.png')"
   ]
  },
  {
   "cell_type": "code",
   "execution_count": null,
   "id": "4182be0f",
   "metadata": {
    "tags": [
     "hermeneutics"
    ]
   },
   "outputs": [],
   "source": [
    "from scipy.stats import beta\n",
    "import numpy as np\n",
    "from matplotlib import pyplot as plt\n",
    "import os\n",
    "from scipy.stats import bernoulli, binom\n",
    "figure, axis = plt.subplots(1,2,figsize=(15, 4))\n",
    "X = bernoulli(p=0.3)\n",
    "X_samples = X.rvs(100)\n",
    "entries = []\n",
    "entry = {'outcome': 'Head', 'count':np.where(X_samples==1)[0].shape[0]}\n",
    "entries.append(entry)\n",
    "entry = {'outcome': 'Tail', 'count':np.where(X_samples==0)[0].shape[0]}\n",
    "entries.append(entry)\n",
    "dfTmp =  pd.DataFrame(entries)\n",
    "dfTmp.plot.bar(x='outcome',y='count',ax=axis[0],width=0.25)\n",
    "axis[0].set_ylim(ymin=0,ymax = 100)\n",
    "axis[0].set_xlabel('Outcome')\n",
    "axis[0].set_ylabel('Count')\n",
    "axis[0].set(title='A')\n",
    "for f,p in enumerate(axis[0].patches):\n",
    "    if f == 0:\n",
    "        axis[0].annotate(str(p.get_height()), (p.get_x() * 0.3, p.get_height() * 1.15))\n",
    "    else:\n",
    "        axis[0].annotate(str(p.get_height()), (p.get_x() * 1.1, p.get_height() * 1.08))\n",
    "\n",
    "x = np.linspace(0, 1, 1002)[1:-1]\n",
    "a = dfTmp.iloc()[0]['count']\n",
    "b = dfTmp.iloc()[1]['count']\n",
    "dist = beta(a+1, b+1)\n",
    "mean = beta.mean(a+1, b+1)\n",
    "meanY = dist.pdf(mean)\n",
    "axis[1].plot(x, dist.pdf(x))\n",
    "axis[1].set(title='D: Beta distribution of Coin flipping')\n",
    "axis[1].vlines(x = mean, ymin = 0, ymax = meanY, colors = 'black', label = 'Mean value' ,linestyle = 'dotted')\n",
    "axis[1].set_xlabel('Probability')\n",
    "axis[1].set_ylabel('Probability density')\n",
    "axis[1].set(title='B')\n",
    "axis[1].set_xlim(0,1)\n",
    "axis[1].set_ylim(0,10)\n",
    "ax2 = axis[1].twiny()\n",
    "\n",
    "labels = [item.get_text() for item in ax2.get_xticklabels()]\n",
    "labels[0]=\"Head\"\n",
    "labels[-1]=\"Tail\"\n",
    "ax2.tick_params(axis='x', colors='red') \n",
    "ax2.set_xticklabels(labels)\n",
    "axis[1].set_xticks([0.1,0.2,0.3,0.4,0.5,0.6,0.7,0.8,0.9])\n",
    "figure.tight_layout()\n"
   ]
  },
  {
   "cell_type": "markdown",
   "id": "24bb9ff8",
   "metadata": {},
   "source": [
    "Similarly, we can apply Bayesian statistics to uncover the prior distribution that must have determined women’s probability of absence and presence in news sheets existing in the _Mediceo del Principato_ today. Figure 7 in the following section renders the prior probability of absence and presence as it must have existed in the once existing total population of news sheets (further technical details and the proof are discussed in the Implementation section). Again, the prior probability of absence and presence does not show us a stable truth but rather a range of possibilities, including two limits and the most likely possibility (the mean)."
   ]
  },
  {
   "cell_type": "markdown",
   "id": "b9b748f2",
   "metadata": {},
   "source": [
    "To summarize, I could tackle the first layer of randomness, which is due to the randomness of news sheets that survived or got lost, by implementing algorithmically the random walker thought experiment and by using Bayesian statistics."
   ]
  },
  {
   "cell_type": "markdown",
   "id": "d1cd04e5",
   "metadata": {},
   "source": [
    "## Tackling the second layer of randomness"
   ]
  },
  {
   "cell_type": "markdown",
   "id": "7b18206d",
   "metadata": {},
   "source": [
    "Early modern news culture was a dynamic system; news was continually arriving at courts such as the Grand Ducal Court of the Medici. This continual arrival of information was unfolding over time, which gave rise to the dynamic nature of news circulation. Furthermore, the incoming information, which reflected a knowledge about an always-changing world, was random. In the context of women’s history, a dynamic system approach involves the following questions. If a contemporary reader started to read news, what was the overall probability that she or he heard about a woman? If a news item mentions a woman, what are the most likely words occurring next? Similarly, what are those words that are likely to precede the mentioning of a woman?  As the questions indicate, the dynamic system approach implies another facet of randomness: words randomly follow and precede each other in thousands of news sheets; those that follow or precede the mentioning of a woman are also random. In this section, I will explain the methods I applied to discover this aspect of randomness."
   ]
  },
  {
   "cell_type": "markdown",
   "id": "b721b91b",
   "metadata": {},
   "source": [
    "The random walker who literally wandered around in the Florentine State Archive and the repeated rolling of a dice were useful analogies to explain how we can model the randomness of documents in an archival collection. Modeling the randomness of texts does not however allow the construction of straightforward analogies. Here I therefore limit the discussion to a broad-brush explanation (for more details, see the Implementation section)."
   ]
  },
  {
   "cell_type": "markdown",
   "id": "bb388174",
   "metadata": {},
   "source": [
    "In simple terms, we can construct a mathematical model that first “learns” the probabilities of how words follow each other. This mathematical model is named Markov Chain <cite data-cite=\"14123371/C6LGWEUN\"></cite>. We can  run the Markov Chain once probabilities are learned. Running a Markov Chain is a form of simulation, which is sometimes named random walk in the literature <cite data-cite=\"14123371/Q2467ZE9\"></cite>. In practice, when we run a Markov Chain modeling the unfolding of words in a large textual collection, we generate texts consisting of millions of words. Throughout the Markovian simulation we can observe how randomness works in the dynamic system that the Markov Chain models, (i.e in sequences of words in thousands of news items in our case). Given certain conditions (see the Implementation section), a dynamic system that is modeled through a designated Markov Chain will reach a stable state throughout the simulation. Once the stable state is reached, we can get important insights into randomness."
   ]
  },
  {
   "cell_type": "markdown",
   "id": "41fcf258",
   "metadata": {},
   "source": [
    "In the context of this research, the stable state of the dynamic system representing the MIA-Euronews Corpus brought about three pieces of information. First, it revealed the overall probability of encountering a given word in the news sheet corpus. The overall probability of a given word also expresses its significance in the news sheet corpus (for further details see the Implementation section). Technically speaking, the overall probability is called stationary probability or equilibrium state probability; in this paper I will refer to it either as probability or as stationary probability, and I will also occasionally exploit its relationship to significance. Hence, with the Markovian simulation I could explore the importance of women and other historical actors (see Figure 6 in Section 3), as well as the significance of certain topics (see Figure 7 in Section 3), in the MIA-Euronews Corpus. Second, the Markovian simulation revealed the equilibrium state probability that a given word follows or precedes another word (see Figure 11 B and Figure 12 in Section 4); it thus helped explore the possible words following or preceding the mentioning of women, which in turn offered insights into women’s perception in early modern news. Finally, the Markovian simulation - complemented with Bayesian inference (see the Implementation section) -  gave information about the strength of association between words (see Figure 11 A and Figure 13 in Section 4)."
   ]
  },
  {
   "cell_type": "markdown",
   "id": "46952297",
   "metadata": {},
   "source": [
    "## Semantic modeling"
   ]
  },
  {
   "cell_type": "markdown",
   "id": "713107ff",
   "metadata": {},
   "source": [
    "With the approach described above I could investigate how narratives surrounding women in early modern news are likely to unfold. However, this approach did not produce an exhaustive set of information about the possible meanings attached to womanhood in early modern news. The heart of the matter is that meaning often remains tacit and the approaches described above are blind to tacitness. I therefore modeled the meaning of womanhood by reconstructing the semantic space underlying the MIA-Euronews Corpus."
   ]
  },
  {
   "cell_type": "markdown",
   "id": "9077d26e",
   "metadata": {},
   "source": [
    "The semantic space approach <cite data-cite=\"14123371/QUFFHSCV\"></cite> is based on an old assumption: the meaning of a word lies in its relationship to other terms (<cite data-cite=\"14123371/IE4PH3CB\"></cite>,<cite data-cite=\"14123371/DSZ34NVF\"></cite>, <cite data-cite=\"14123371/Q73WEBWI\"></cite>). The set of all possible relationships between words in a given textual corpus gives rise to a system of meaning underlying that corpus. We can envisage this system of meaning as a high dimensional space populated by words as “points.” In this high dimensional space connections between terms do not imply bonds (as in a network); connections between terms instead imply spatial proximity and positional similarity; if two terms are closely related semantically, they are also close to each other in the high dimensional space representing the semantic space and the entire system of meaning. Some details about the process of constructing a semantic space from a textual corpus are discussed in the Implementation section; here I limit the discussion to two broader points."
   ]
  },
  {
   "cell_type": "markdown",
   "id": "99f7cf63",
   "metadata": {},
   "source": [
    "First, even though a semantic space has some similarities with the two or three dimensional geometric spaces we are accustomed to, it is fundamentally different. A semantic space is a vector space; words that populate the semantic space are not points but vectors (often named word vectors in the literature). Each word represented as a word vector has certain mathematical features such as angle and magnitude. These mathematical features are used to study how a given word is related to other words, which ultimately gives information about the meaning of that word in a textual corpus."
   ]
  },
  {
   "cell_type": "markdown",
   "id": "44b34560",
   "metadata": {},
   "source": [
    "Second, we cannot visualize a high dimensional semantic space; instead, we project it into a lower - two or three - dimensional space. Through these projections we can observe how words are semantically related to each other (see Figure 14 in Section 4). A key advantage of the semantic space approach is that it can show words not isolated but as parts of groups or clusters; members of a given cluster are semantically related. You can observe clusters of semantically related words on Figure 14 in Section 4."
   ]
  },
  {
   "cell_type": "markdown",
   "id": "d0cbf0af",
   "metadata": {},
   "source": [
    "To sum up, the semantic space approach also uncovers a set of possibilities, i.e. it reveals those possible connections that a word can have in a textual corpus. The possible connections include synonymity, associative bonds, and relations to larger clusters of semantically related words.  The semantic space approach has helped address the following questions. What are those groups of words that are related to words denoting women in the MIA- Euronews Corpus? What do these groups tell us about the representation of women in early modern news?"
   ]
  },
  {
   "cell_type": "markdown",
   "id": "f262908c",
   "metadata": {},
   "source": [
    "# Results A:  Presence of Women in the News"
   ]
  },
  {
   "cell_type": "markdown",
   "id": "fc4c0278",
   "metadata": {},
   "source": [
    "In 1618 there was an interesting exchange of letters between officials of the Medici Court. The letter offers a rare glimpse into the news consumption in the Medici court."
   ]
  },
  {
   "cell_type": "markdown",
   "id": "ffc22829",
   "metadata": {
    "tags": [
     "narrative"
    ]
   },
   "source": [
    ">Today after dining, the Most Serene Arch Duchess our Ladyship wants to hear the reading of the newsletter from Venice. And Her Most Serene Highness would be pleased if Your Lordship would secure their delivery every week, writing to this effect to that friend so that he might say how much he is to be given annually. (ASF MdP 4634, fo. 242; cited and translated by <cite data-cite=\"14123371/L9CZRPZQ\">pp. 726–727 </cite> )"
   ]
  },
  {
   "cell_type": "markdown",
   "id": "a74e700c",
   "metadata": {},
   "source": [
    "The letter is referring to Maria Magdalena von Habsburg (1587 - 1631), the consort of Cosimo II (1609-1621). Apparently, Maria Magdalena was an eager news reader who regularly enjoyed the reading of news. How often did she hear about fellow women? Who were those fellow women she heard about? What was their social status?"
   ]
  },
  {
   "cell_type": "markdown",
   "id": "9358e4e1",
   "metadata": {},
   "source": [
    "The early modern news world was populated by a great variety of actors such as for instance kings, ambassadors, and consorts. News was continually arriving and the presence of different actors in the news world was not static; the probability of hearing about a given actor was in constant change. How can we map an always changing probability value? The Markovian simulation of the MIA-Euronews Corpus helped tackle this problem. With simulation I could calculate the stationary probability of a given event such as for instance the mentioning of a given actor or a given theme. As it will be explained in the Implementation section, this probability is intrinsically related to the importance of the event."
   ]
  },
  {
   "cell_type": "code",
   "execution_count": null,
   "id": "6be67161",
   "metadata": {
    "tags": [
     "hermeneutics"
    ]
   },
   "outputs": [],
   "source": [
    "import json\n",
    "from msmtools.estimation import transition_matrix,count_matrix, is_connected\n",
    "from pyrandwalk import *\n",
    "import pandas as pd\n",
    "\n",
    "# Load the data\n",
    "\n",
    "f = open('data/input/newsSheetsEncoded.json')\n",
    "finalDocs = json.load(f)\n",
    "finalDocs = [np.array(element) for element in finalDocs]\n",
    "\n",
    "f = open('data/input/dictionaryMarkovianSimulation.json')\n",
    "dictionary = json.load(f)\n",
    "\n",
    "f = open('data/input/actorsTerms.json')\n",
    "actorsTerms = json.load(f)\n",
    "\n",
    "# Create a count matrix\n",
    "\n",
    "def createCountMatrix(trajectories,dictionary,window=1):\n",
    "    countMatrix = np.zeros((len(dictionary),len(dictionary)))\n",
    "    for i in range(1,window+1):\n",
    "        countMatrix = countMatrix + count_matrix(trajectories,lag=i)\n",
    "    countMatrix = np.array(countMatrix)\n",
    "    assert len(dictionary) == countMatrix.shape[0]\n",
    "    return countMatrix\n",
    "\n",
    "cm = createCountMatrix(finalDocs,dictionary,5)\n",
    "assert len(np.where(cm.sum(axis=1)==0)[0]) == 0\n",
    "\n",
    "# Create the transition matrix\n",
    "\n",
    "def createTransitionMatrix(trajectories,dictionary,window=1):\n",
    "    countMatrix = np.zeros((len(dictionary),len(dictionary)))\n",
    "    for i in range(1,window+1):\n",
    "        countMatrix = countMatrix + count_matrix(trajectories,lag=i)\n",
    "    countMatrix = np.array(countMatrix)\n",
    "    P = transition_matrix(countMatrix)\n",
    "    assert len(dictionary) == P.shape[0]\n",
    "    return P\n",
    "\n",
    "P = createTransitionMatrix(finalDocs,dictionary,window=5)\n",
    "\n",
    "# Train the Markov chain and get the statitionary probabilityof each word\n",
    "\n",
    "def printStableProbabilities(P,dictionary):\n",
    "    assert len(P) == len(dictionary)\n",
    "    vocabNumerical = [i for i,element in enumerate(dictionary)]\n",
    "    rw = RandomWalk(vocabNumerical, P)\n",
    "    stationaryProbs = rw.final_dist()\n",
    "    dfStationaryProb = pd.DataFrame(stationaryProbs,columns=['prob'])\n",
    "    dfStationaryProb['term'] = dictionary\n",
    "    dfStationaryProb['scaledToMedian'] = dfStationaryProb['prob'] / dfStationaryProb['prob'].median()\n",
    "    dfStationaryProb.sort_values('prob',ascending=False,inplace=True)\n",
    "    return dfStationaryProb\n",
    "\n",
    "stationaryProb = printStableProbabilities(P,dictionary)\n",
    "stationaryProb = stationaryProb.sort_values('prob',ascending=False)\n",
    "\n",
    "# Print the stationary probability of key actors, as well as whether they are part of the upper quartile\n",
    "\n",
    "dfTemp = stationaryProb.reset_index()\n",
    "quantile = []\n",
    "for element in dfTemp.prob.to_list():\n",
    "    if element > dfTemp.prob.quantile(0.75):\n",
    "        quantile.append(True)\n",
    "    else:\n",
    "        quantile.append(False)\n",
    "dfTemp['upperQuantile'] = quantile\n",
    "print(dfTemp[dfTemp.term.isin(actorsTerms)])"
   ]
  },
  {
   "cell_type": "markdown",
   "id": "c8c77844",
   "metadata": {},
   "source": [
    "The Markovian simulation revealed that the early modern news world was overly male dominated. As Figure 6 demonstrates, the most important actors were kings and emperors (_re, imperatore_), princes (_duca, principe_), noblemen (_signore, marchese_), churchmen (_papa, vescovo, cardinale, monsignore_),  diplomats and officials (_governatore, ambasciatore_). How I inferred the social status and the rank of a person mentioned is discussed in the Implementation section. The plot also highlights that hearing about women in news was significantly less likely. The plot shows two groups of actors. The first group (coloured blue) includes those actors whom contemporary readers were the most likely to hear about. In this group there are only two women actors: queen (_regina_) and noblewoman (_signora_). Women actors are typically in the second group (coloured orange). The difference between men and women is even more salient if we compare the word pairs that have feminine and masculine forms. For instance, it is approximately three times more likely to hear about sons than about daughters. While father (_padre_) belongs to the first group, mother (_madre_) is part of the second group. We can see a similar pattern with other word pairs such as brother (_fratello)_ - sister (_sorella_), duke (_duca_) - duchess (_duchessa_),  and man (_uomo_) - woman (_donna_), she (_lei_) - he (_lui_). A striking exception, to be explained below, is the husband (_marito_) - wife (_moglie_) word pair with both members of the pair belonging to the second group. Apart from this exception, the examples cited above all confirm the dominance of male actors in the early modern news world."
   ]
  },
  {
   "cell_type": "code",
   "execution_count": null,
   "id": "34dca578",
   "metadata": {
    "jdh": {
     "module": "object",
     "object": {
      "source": [
       "figure 6: very important and less important actors in the news world underlying the MIA-Euronews Corpus. The size of the bubbles is adjusted according to the stationary probability of each word. Bubbles coloured blue contain those terms the stationary probability of which is above the upper quartile (75%); bubbles coloured orange include terms the stationary probability of which is between the median (50%)  and the upper quartile (75%)."
      ],
      "type": "image"
     }
    },
    "tags": [
     "figure(-insert-name)-*"
    ]
   },
   "outputs": [],
   "source": [
    "Image('media/image12.png',width=800)"
   ]
  },
  {
   "cell_type": "code",
   "execution_count": null,
   "id": "e99d382f",
   "metadata": {
    "jdh": {
     "module": "object",
     "object": {
      "source": [
       "figure 7: the probability of women’s and men’s absence or presence in news items randomly selected from the MIA-Euroews Corpus. Absence and presence are modeled with a binomial random variable; the plot renders the variable with the beta distribution, which maps the discrete values (absence or presence) onto a continuous probability space between 0 and 1. The closer the mean value is to 0, the more likely that the outcome of the random variable is absence (as in case of women); conversely, the closer the mean value is to 1, the more likely that the outcome of the random variable is presence (as in case of men)."
      ],
      "type": "image"
     }
    },
    "tags": [
     "figure(-insert-name)-*"
    ]
   },
   "outputs": [],
   "source": [
    "Image('media/image25.png')"
   ]
  },
  {
   "cell_type": "code",
   "execution_count": null,
   "id": "c472b4eb",
   "metadata": {
    "tags": [
     "hermeneutics"
    ]
   },
   "outputs": [],
   "source": [
    "from matplotlib import pyplot as plt\n",
    "from scipy.stats import beta\n",
    "\n",
    "# Inspect the absence and presence of men\n",
    "\n",
    "n_trials = 10000\n",
    "sampleSize = 100\n",
    "results = []\n",
    "for i in range(0,n_trials): \n",
    "    sample = df.sample(n=sampleSize)\n",
    "    success = sample[sample.man==True].shape[0]\n",
    "    failure = sample[sample.man==False].shape[0]\n",
    "    result = np.array([success,failure])\n",
    "    results.append(result)\n",
    "results = np.vstack(results)\n",
    "a = results.mean(axis=0)[0]\n",
    "b = results.mean(axis=0)[1]\n",
    "alpha_values.append(a)\n",
    "beta_values.append(b)\n",
    "\n",
    "means = []\n",
    "linestyles = ['#4682B4','#FF8C00']\n",
    "x = np.linspace(0, 1, 1002)[1:-1]\n",
    "labels = ['Beta distribution of terms denoting women','Beta distribution of terms denoting men']\n",
    "\n",
    "#------------------------------------------------------------\n",
    "# plot the distributions\n",
    "fig, ax = plt.subplots(figsize=(5, 3.75))\n",
    "num = 0\n",
    "for a, b, ls, label in zip(alpha_values, beta_values, linestyles,labels):\n",
    "    lower, upper = beta.interval(0.95, a+1, b+1, loc=0)\n",
    "    mean = beta.mean(a+1, b+1)\n",
    "    \n",
    "    dist = beta(a+1, b+1)\n",
    "    meanY = dist.pdf(mean)\n",
    "    lowerY = dist.pdf(lower)\n",
    "    upperY = dist.pdf(upper)\n",
    "    plt.plot(x, dist.pdf(x), c=ls,\n",
    "             label=label)\n",
    "    if num == 1:\n",
    "        plt.vlines(x = lower, ymin = 0, ymax = lowerY, colors = 'black' ,linestyle = 'dashed')\n",
    "        plt.vlines(x = upper, ymin = 0, ymax = upperY, colors = 'black', label = 'Confidence level' ,linestyle = 'dashed')\n",
    "        plt.vlines(x = mean, ymin = 0, ymax = meanY, colors = 'black', label = 'Mean value' ,linestyle = 'dotted')\n",
    "    else:\n",
    "        plt.vlines(x = lower, ymin = 0, ymax = lowerY, colors = 'black' ,linestyle = 'dashed')\n",
    "        plt.vlines(x = upper, ymin = 0, ymax = upperY, colors = 'black' ,linestyle = 'dashed')\n",
    "        plt.vlines(x = mean, ymin = 0, ymax = meanY, colors = 'black', linestyle = 'dotted')\n",
    "\n",
    "    print(\"Mean:\"+str(mean))\n",
    "    print (\"Positive deviation from the mean:\"+str(upper-mean))\n",
    "    print (\"Negative deviation from the mean:\"+str(mean-lower))\n",
    "    means.append(dist.mean())\n",
    "    num +=1\n",
    "plt.xlim(0, 1)\n",
    "plt.ylim(0, 15)\n",
    "\n",
    "\n",
    "\n",
    "plt.xlabel('Probability')\n",
    "plt.ylabel(r'Probability density')\n",
    "a_W = np.format_float_positional(alpha_values[0]+1,precision=2)\n",
    "b_W = np.format_float_positional(beta_values[0]+1,precision=2)\n",
    "a_M = np.format_float_positional(alpha_values[1]+1,precision=2)\n",
    "b_M = np.format_float_positional(beta_values[1]+1,precision=2)\n",
    "titleTextW = 'Women ('+r'$\\alpha$='+str(a_W)+r', $\\beta$='+str(b_W)+')'\n",
    "titleTextM = 'Men ('+r'$\\alpha$='+str(a_M)+r', $\\beta$='+str(b_M)+')'\n",
    "titleText = titleTextW + '\\n'+titleTextM\n",
    "plt.title(titleText)\n",
    "\n",
    "plt.legend(bbox_to_anchor=(2,1.2), borderaxespad=1)\n",
    "\n",
    "plt.plot(bbox_inches='tight')"
   ]
  },
  {
   "cell_type": "markdown",
   "id": "9a14fac5",
   "metadata": {
    "tags": [
     "narrative"
    ]
   },
   "source": [
    "The random sampling of news items also corroborated this finding. Out of hundred randomly selected news items, approximately fourteen news items mention at least one woman; by contrast, approximately eighty-five news items mention at least one man (see Figure 4 and Figure 7). I also investigated whether the presence of women increased over time. This investigation uncovered that over time the presence of women did not change significantly (see Figure 8).  Similarly, I could not find any significant variation when I compared the probability of women’s absence or presence in news items randomly sampled from news sheets that arrived from the major news hubs."
   ]
  },
  {
   "cell_type": "code",
   "execution_count": null,
   "id": "26a8e380",
   "metadata": {
    "jdh": {
     "module": "object",
     "object": {
      "source": [
       "figure 8: the probability of women’s absence or presence in news items randomly selected from two subsets of the MIA Euronews Corpus: news items compiled before (Figure 8 A) and after 1600 (Figure 8 B). The two plots show that women’s absence was very likely in both periods and no significant change took shape over time. For further explanation of the plots, see the legend under Figure 7."
      ],
      "type": "image"
     }
    },
    "tags": [
     "figure(-insert-name)-*"
    ]
   },
   "outputs": [],
   "source": [
    "Image('media/image14.png')"
   ]
  },
  {
   "cell_type": "code",
   "execution_count": null,
   "id": "a0884807",
   "metadata": {
    "tags": [
     "hermeneutics"
    ]
   },
   "outputs": [],
   "source": [
    "from scipy.stats import beta\n",
    "\n",
    "\n",
    "n_trials = 10000\n",
    "sampleSize = 100\n",
    "finalResults = []\n",
    "temporalBoundaries = [1600,1599]\n",
    "for f,time in enumerate(temporalBoundaries):\n",
    "    results = []\n",
    "    for i in range(0,n_trials):\n",
    "        if f == 0:\n",
    "            #print (df[(df.index.year<time)].shape)\n",
    "            sample = df[(df.index.year<time)].sample(n=sampleSize)\n",
    "        else:\n",
    "            #print (df[(df.index.year>time)].shape)\n",
    "            sample = df[(df.index.year>time)].sample(n=sampleSize)\n",
    "        success = sample[sample.woman==True].shape[0]\n",
    "        failure = sample[sample.woman==False].shape[0]\n",
    "        result = np.array([success,failure])\n",
    "        results.append(result)\n",
    "    results = np.vstack(results)\n",
    "    a = results.mean(axis=0)[0]\n",
    "    b = results.mean(axis=0)[1]\n",
    "    dist = beta(a+1, b+1)\n",
    "    X = np.linspace(0, 1, 1002)[1:-1]\n",
    "    y = dist.pdf(X)\n",
    "    # Confidence levels\n",
    "    \n",
    "    lower, upper = beta.interval(0.95, a+1, b+1, loc=0)\n",
    "    meanY = dist.pdf(mean)\n",
    "    lowerY = dist.pdf(lower)\n",
    "    upperY = dist.pdf(upper)\n",
    "    a = np.format_float_positional(a+1,precision=2)\n",
    "    b = np.format_float_positional(b+1,precision=2)\n",
    "    if f == 0:\n",
    "        titleText = 'A: Before 1600 ('+r'$\\alpha$='+str(a)+r', $\\beta$='+str(b)+')'\n",
    "    else:\n",
    "        titleText = 'B: After 1600 ('+r'$\\alpha$='+str(a)+r', $\\beta$='+str(b)+')'\n",
    "    \n",
    "    finalResult = {'title':titleText,\n",
    "                   'a':a,'b':b, \n",
    "                   'x':X,'y':y,\n",
    "                   'meanX':dist.mean(),\n",
    "                   'meanY':dist.pdf(dist.mean()),\n",
    "                   'lowerY':lowerY,\n",
    "                   'lowerX':lower,\n",
    "                   'upperY':upperY,\n",
    "                   \"upperX\":upper}\n",
    "    \n",
    "    finalResults.append(finalResult)  \n",
    "\n",
    "### Plot it\n",
    "\n",
    "A = np.array(finalResults)\n",
    "B = np.reshape(A, (-1, 2))\n",
    "\n",
    "figure, axis = plt.subplots(B.shape[0], B.shape[1],figsize=(15, 4))\n",
    "\n",
    "for i in range(B.shape[0]):\n",
    "    for f in range(B.shape[1]):\n",
    "        axis[f].plot(B[i][f]['x'], B[i][f]['y'],label='Beta distribution of terms denoting women')\n",
    "        axis[f].set_title(B[i][f]['title'])\n",
    "        axis[f].vlines(x = B[i][f]['meanX'],ymax= B[i][f]['meanY'],ymin = 0,linestyle = 'dotted',label='Mean value',colors = 'black')\n",
    "        axis[f].vlines(x = B[i][f]['upperX'],ymax= B[i][f]['upperY'],ymin = 0,linestyle = 'dashed',label='Confidence level',colors = 'black')\n",
    "        axis[f].vlines(x = B[i][f]['lowerX'],ymax= B[i][f]['lowerY'],ymin = 0,linestyle = 'dashed',colors = 'black')\n",
    "        axis[f].set_ylim(ymin=0,ymax=13)\n",
    "        axis[f].set_xlim(xmin=0,xmax=1)\n",
    "    \n",
    "        axis[f].set_ylabel(r'Probability density')\n",
    "        axis[f].set_xlabel(r'Probability')\n",
    "        \n",
    "        \n",
    "\n",
    "handles, labels = axis[f].get_legend_handles_labels()\n",
    "figure.legend(handles, labels,bbox_to_anchor=(0.9, 1.2), loc='upper center', borderaxespad=0)\n",
    "\n",
    "\n",
    "plt.show()\n",
    "\n"
   ]
  },
  {
   "cell_type": "markdown",
   "id": "c2fcd2e9",
   "metadata": {},
   "source": [
    "At the same time, it is important to emphasize that there was no complete silence about women in the news sheets that reached the Medici court in the early modern period. This is a finding provided by the random sampling of complete news sheets. If we randomly choose a newsheet, the probability that a woman will be mentioned is 0.72 (see Figure 9). Consequently, early modern news readers did not get much news about women but they were very likely to hear about at least one woman when they read an entire news sheet."
   ]
  },
  {
   "cell_type": "code",
   "execution_count": null,
   "id": "fb6e4934",
   "metadata": {
    "jdh": {
     "module": "object",
     "object": {
      "source": [
       "figure 9: the probability of women’s absence or presence in news sheets randomly selected from the MIA News Corpus. For further explanation of the plot, see the legend under Figure 7."
      ],
      "type": "image"
     }
    },
    "tags": [
     "figure(-insert-name)-*"
    ]
   },
   "outputs": [],
   "source": [
    "Image('media/image36.png')"
   ]
  },
  {
   "cell_type": "code",
   "execution_count": null,
   "id": "585143b7",
   "metadata": {
    "tags": [
     "hermeneutics"
    ]
   },
   "outputs": [],
   "source": [
    "from scipy.stats import beta\n",
    "\n",
    "dfTemp = df.docid.value_counts().to_frame('docid')\n",
    "indices = dfTemp[dfTemp.docid>7].index.to_list()\n",
    "df = df[df.docid.isin(indices)]\n",
    "\n",
    "\n",
    "# Sample women\n",
    "alpha_values = []\n",
    "beta_values = []\n",
    "n_trials = 100\n",
    "sampleSize = 100\n",
    "results = []\n",
    "for i in range(0,n_trials):\n",
    "    #sample = df.sample(n=sampleSize)\n",
    "    \n",
    "    sample = df.docid.sample(n=sampleSize)\n",
    "   \n",
    "    resultM = []\n",
    "    resultW = []\n",
    "    for dId in sample.to_list():\n",
    "        resW = True in df[df.docid==dId].woman.to_list()\n",
    "        resM = True in df[df.docid==dId].man.to_list()\n",
    "        resultW.append(resW)\n",
    "        resultM.append(resM)\n",
    "     \n",
    "    # Postprocess sample\n",
    "    sample = sample.to_frame()\n",
    "    sample['woman'] = resultW\n",
    "    \n",
    "    \n",
    "    success = sample[sample.woman==True].shape[0]\n",
    "    failure = sample[sample.woman==False].shape[0]\n",
    "    result = np.array([success,failure])\n",
    "    results.append(result)\n",
    "results = np.vstack(results)\n",
    "a = results.mean(axis=0)[0]\n",
    "b = results.mean(axis=0)[1]\n",
    "alpha_values.append(a)\n",
    "beta_values.append(b)\n",
    "\n",
    "\n",
    "means = []\n",
    "linestyles = ['#4682B4']\n",
    "x = np.linspace(0, 1, 1002)[1:-1]\n",
    "labels = ['Beta distribution of terms denoting women','Beta distribution of terms denoting men']\n",
    "\n",
    "#------------------------------------------------------------\n",
    "# plot the distributions\n",
    "fig, ax = plt.subplots(figsize=(5, 3.75))\n",
    "num = 0\n",
    "for a, b, ls, label in zip(alpha_values[0:1], beta_values[0:1], linestyles[0:1],labels[0:1]):\n",
    "    lower, upper = beta.interval(0.95, a+1, b+1, loc=0)\n",
    "    mean = beta.mean(a+1, b+1)\n",
    "    \n",
    "    dist = beta(a+1, b+1)\n",
    "    meanY = dist.pdf(mean)\n",
    "    lowerY = dist.pdf(lower)\n",
    "    upperY = dist.pdf(upper)\n",
    "    plt.plot(x, dist.pdf(x), c=ls,\n",
    "             label=label)\n",
    "    if num == 1:\n",
    "        plt.vlines(x = lower, ymin = 0, ymax = lowerY, colors = 'black' ,linestyle = 'dashed')\n",
    "        plt.vlines(x = upper, ymin = 0, ymax = upperY, colors = 'black', label = 'Confidence level' ,linestyle = 'dashed')\n",
    "        plt.vlines(x = mean, ymin = 0, ymax = meanY, colors = 'black', label = 'Mean value' ,linestyle = 'dotted')\n",
    "    else:\n",
    "        plt.vlines(x = lower, ymin = 0, ymax = lowerY, colors = 'black' ,linestyle = 'dashed',label = 'Confidence level')\n",
    "        plt.vlines(x = mean, ymin = 0, ymax = meanY, colors = 'black', linestyle = 'dotted',label = 'Mean value')\n",
    "        plt.vlines(x = upper, ymin = 0, ymax = upperY, colors = 'black' ,linestyle = 'dashed')\n",
    "    print(\"Mean:\"+str(mean))\n",
    "    print (\"Positive deviation from the mean:\"+str(upper-mean))\n",
    "    print (\"Negative deviation from the mean:\"+str(mean-lower))\n",
    "    means.append(dist.mean())\n",
    "    num +=1\n",
    "plt.xlim(0, 1)\n",
    "plt.ylim(0, 15)\n",
    "\n",
    "\n",
    "\n",
    "plt.xlabel('Probability')\n",
    "plt.ylabel(r'Probability density')\n",
    "a_W = np.format_float_positional(alpha_values[0]+1,precision=2)\n",
    "b_W = np.format_float_positional(beta_values[0]+1,precision=2)\n",
    "\n",
    "titleTextW = 'Women ('+r'$\\alpha$='+str(a_W)+r', $\\beta$='+str(b_W)+')'\n",
    "\n",
    "titleText = titleTextW\n",
    "plt.title(titleText)\n",
    "\n",
    "plt.legend(bbox_to_anchor=(2,1.2), borderaxespad=1)\n",
    "\n"
   ]
  },
  {
   "cell_type": "markdown",
   "id": "97e6707a",
   "metadata": {},
   "source": [
    "Even though there was no complete silence about women as a group, there was silence about non-elite women in the early modern news.  Consumers of the early modern handwritten news sheets overwhelmingly read about women belonging to the elite. This is indicated by the low probability of the general word woman (_donna_) in the news corpus (see Figure 6). _Donna_ is usually used to describe women of humble social status. By contrast, the women terms (_regina_ and _signora_) that are the most probable ones refer to women belonging to the elite."
   ]
  },
  {
   "cell_type": "markdown",
   "id": "ab6ee1ae",
   "metadata": {},
   "source": [
    "Finally, Figure 6 demonstrates that women tended to be mentioned in news through their family roles, i.e. as wifes, daughters,  mothers, and sisters. These terms usually establish relations to men: wife of someone, daughter of someone, etc. Hence, women are rarely mentioned in news on their own right; they are more likely to be mentioned as companions of their father, husband, and brother or son.\tBy contrast, men tend to be mentioned through their social status and rank, which explains why husband (_marito_) is a term featuring relatively low probability."
   ]
  },
  {
   "cell_type": "markdown",
   "id": "61c666ee",
   "metadata": {},
   "source": [
    "# Results B: Central themes of early modern news"
   ]
  },
  {
   "cell_type": "markdown",
   "id": "8672f285",
   "metadata": {},
   "source": [
    "Themes of news circulating today or back in the early modern period have a key feature: recurrence. News mongers are likely to hear about similar topics when reading or hearing information about the world. Previous scholarship came up with a variety of themes that were allegedly prevalent in early modern handwritten news <cite data-cite=\"14123371/SWZQ7BFG\"></cite> :"
   ]
  },
  {
   "cell_type": "markdown",
   "id": "69687d0a",
   "metadata": {},
   "source": [
    "* international politics"
   ]
  },
  {
   "cell_type": "markdown",
   "id": "b7ecc861",
   "metadata": {},
   "source": [
    "* war"
   ]
  },
  {
   "cell_type": "markdown",
   "id": "244034df",
   "metadata": {},
   "source": [
    "* social affairs (such as royal weddings, royal births and official celebrations)"
   ]
  },
  {
   "cell_type": "markdown",
   "id": "29d290fb",
   "metadata": {},
   "source": [
    "* fires, miracles,"
   ]
  },
  {
   "cell_type": "markdown",
   "id": "0bff07a0",
   "metadata": {},
   "source": [
    "* bloody crimes"
   ]
  },
  {
   "cell_type": "markdown",
   "id": "aa4aaf48",
   "metadata": {},
   "source": [
    "* catastrophes ( unusual weather, plagues)"
   ]
  },
  {
   "cell_type": "markdown",
   "id": "aa66dce5",
   "metadata": {},
   "source": [
    "* court news (such as royal journeys, royal deaths and triumphal entries, etc)"
   ]
  },
  {
   "cell_type": "markdown",
   "id": "c3b5dd1c",
   "metadata": {},
   "source": [
    "* Church news"
   ]
  },
  {
   "cell_type": "markdown",
   "id": "29c25fa1",
   "metadata": {},
   "source": [
    "* sensational news (monsters, distorted humans, etc)"
   ]
  },
  {
   "cell_type": "markdown",
   "id": "d0591d72",
   "metadata": {},
   "source": [
    "However, earlier scholarship did not produce information about how important these topics were. While some of these topics must have been particularly recurrent, others were merely occasional  themes of early modern news. The most important topics discussed in the context of women’s experience have also remained unknown. In this section, I will therefore reveal the most important topics of news in the MIA-Euronews Corpus, as well as their relationship to women and women’s experience in the early modern period."
   ]
  },
  {
   "cell_type": "markdown",
   "id": "fc757ee7",
   "metadata": {},
   "source": [
    "My findings will be based on the methodology outlined above. I simulated early modern news by running random walks on the Markov Chain representing the MIA- Euronews Corpus and I “observed” how words behave throughout the simulation. This revealed two key pieces of information. First, it showed the most important words in the corpus; I could then cluster these words into units of distinct topics (see Figure 10). Second, the simulation of the news corpus also uncovered those words, and subsequently topics, that are likely to accompany the mentioning of women (see Figure 11B and Figure 12), as well as those words that are strongly associated with women’s experience in early modern news (see Figure 11A and Figure 13)."
   ]
  },
  {
   "cell_type": "code",
   "execution_count": null,
   "id": "be1b915b",
   "metadata": {
    "tags": [
     "hermeneutics"
    ]
   },
   "outputs": [],
   "source": [
    "# Get those words the stationary probability of which is in the upper quartile\n",
    "keyTerms = stationaryProb[stationaryProb.prob>stationaryProb.prob.quantile(0.75)]\n",
    "\n",
    "# Print those that belong to a certain group of topics, including their stationary probability\n",
    "dfKeyTerms = pd.read_csv('data/input/keyTermsTopics.csv',delimiter=';')\n",
    "dfKeyTerms = dfKeyTerms.groupby('Topic')['Term'].apply(list).to_frame()\n",
    "for row in dfKeyTerms.iterrows():\n",
    "    print('Topic - '+row[0]+':\\n')\n",
    "    for word in row[1]['Term']:\n",
    "        try:\n",
    "            print(word)\n",
    "            prob = keyTerms[keyTerms.term==word]['prob'].values[0]\n",
    "        except:\n",
    "            continue\n",
    "    print('\\n')\n",
    "\n",
    "   "
   ]
  },
  {
   "cell_type": "code",
   "execution_count": null,
   "id": "3dda4c78",
   "metadata": {
    "tags": [
     "hermeneutics"
    ]
   },
   "outputs": [],
   "source": [
    "# Print those words that are the most likely to accompany terms related to women\n",
    "\n",
    "womenTerms = ['regina',\n",
    " 'signora',\n",
    " 'contessa',\n",
    " 'marchesa',\n",
    " 'duchessa',\n",
    " 'principessa',\n",
    " 'sposa',\n",
    " 'moglie',\n",
    " 'madre',\n",
    " 'consorte',\n",
    " 'sorella',\n",
    " 'figlia',\n",
    " 'donna',\n",
    " 'nipote',\n",
    " 'gentildonna']\n",
    "\n",
    "terms = pd.read_csv('data/input/keyWordsSurroundingWomen.csv',delimiter=';')\n",
    "addendum = ['vestire','tagliare','difesa',\n",
    "           'prigione','attaccare','assedio','sorella','figlia','figlio','deliberare','entrata','moglie']\n",
    "for el in addendum:\n",
    "    entry = pd.DataFrame([{'Term':el}])\n",
    "    terms = pd.concat([terms, entry], ignore_index = True, axis = 0)\n",
    "terms = terms[~terms.Term.isin(['povero','peste','dire','ducato','condurre','celebrare','visita','robbe'])]\n",
    "\n",
    "# First run the simulation of the corpus\n",
    "\n",
    "def simulateText(P,dictionary,length):\n",
    "    vocabNumerical = [i for i,element in enumerate(dictionary)]\n",
    "    rw = RandomWalk(vocabNumerical, P)\n",
    "    states, probs = rw.run(ntimes=length)\n",
    "    return states\n",
    "\n",
    "states = simulateText(P,dictionary,1000000)\n",
    "\n",
    "# Get those terms that accompany women terms\n",
    "\n",
    "def postProcessSimulationResultsV2(probabilities,term,stationaryProb):\n",
    "    entries = []\n",
    "    for key in probabilities:\n",
    "        try:\n",
    "            entry = {'term':key,'prob':probabilities[key][-1]}\n",
    "        except:\n",
    "            entry = {'term':key,'prob':np.nan}\n",
    "        entries.append(entry)\n",
    "\n",
    "    df = pd.DataFrame(entries).sort_values('prob',ascending=False)\n",
    "    df['scaledToMedian'] = df['prob']/df.prob.median()\n",
    "    \n",
    "    p_a = []\n",
    "    for ter in term:\n",
    "        prob = stationaryProb[stationaryProb['term']==ter]['prob'].values[0]\n",
    "        p_a.append(prob)\n",
    "    p_a = np.array(p_a).sum()\n",
    "    results = []\n",
    "    for row in df.iterrows():\n",
    "        term = row[1]['term']\n",
    "        p_b_a = row[1]['prob']\n",
    "        if np.isnan(p_b_a):\n",
    "            p_a_b = np.nan\n",
    "        else:\n",
    "            p_b = stationaryProb[stationaryProb['term']==term]['prob'].values[0]\n",
    "            p_a_b = bayes_theorem(p_a,p_b,p_b_a)\n",
    "        results.append(p_a_b)\n",
    "    df['bayesRescaled'] = results\n",
    "    return df\n",
    "\n",
    "def getContextualProbabilitiesV2(simulatedStates,term,dictionary,direction=None):\n",
    "\n",
    "    counter = {element:[] for element in dictionary}\n",
    "    probabilities = {element:[] for element in dictionary}\n",
    "    means = {element:[] for element in dictionary}\n",
    "    positions = {element:[] for element in dictionary}\n",
    "\n",
    "    if direction == 'preceding':\n",
    "        for i,element in enumerate(np.where(np.array(simulatedStates) == dictionary.index(term))[0]):\n",
    "            try:\n",
    "                neighbour = simulatedStates[element-1]\n",
    "                p = len(counter[dictionary[neighbour]])/i\n",
    "                probabilities[dictionary[neighbour]].append(p)\n",
    "                means[dictionary[neighbour]].append(np.array(probabilities[dictionary[neighbour]]).mean())\n",
    "                counter[dictionary[neighbour]].append(1)\n",
    "                position = element\n",
    "                positions[dictionary[neighbour]].append(position)\n",
    "            except Exception as e:\n",
    "                #print(e)\n",
    "                pass\n",
    "        return means, positions\n",
    "    elif direction == 'following':\n",
    "        for i,element in enumerate(np.where(np.array(simulatedStates) == dictionary.index(term))[0]):\n",
    "            try:\n",
    "                neighbour = simulatedStates[element+1]\n",
    "                p = len(counter[dictionary[neighbour]])/i\n",
    "\n",
    "                probabilities[dictionary[neighbour]].append(p)\n",
    "                means[dictionary[neighbour]].append(np.array(probabilities[dictionary[neighbour]]).mean())\n",
    "                counter[dictionary[neighbour]].append(1)\n",
    "                position = element\n",
    "                positions[dictionary[neighbour]].append(position)\n",
    "            except Exception as e:\n",
    "                #print(e)\n",
    "                pass\n",
    "        return means, positions\n",
    "   \n",
    "    elif direction == None:\n",
    "        indices = []\n",
    "        for ter in term:\n",
    "            index = dictionary.index(ter)\n",
    "            indices.append(index)\n",
    "        locations = []\n",
    "    \n",
    "        for ind in indices:\n",
    "            loc = np.where(np.array(simulatedStates) == ind)[0]\n",
    "            locations.extend(loc)\n",
    "        \n",
    "        for i,element in enumerate(locations):\n",
    "            try:\n",
    "                neighbour = simulatedStates[element+1]\n",
    "                p = len(counter[dictionary[neighbour]])/i\n",
    "\n",
    "                probabilities[dictionary[neighbour]].append(p)\n",
    "                means[dictionary[neighbour]].append(np.array(probabilities[dictionary[neighbour]]).mean())\n",
    "                counter[dictionary[neighbour]].append(1)\n",
    "                position = element\n",
    "                positions[dictionary[neighbour]].append(position)\n",
    "            except Exception as e:\n",
    "                #print(e)\n",
    "                pass\n",
    "            try:\n",
    "                neighbour = simulatedStates[element-1]\n",
    "                p = len(counter[dictionary[neighbour]])/i\n",
    "\n",
    "                probabilities[dictionary[neighbour]].append(p)\n",
    "                means[dictionary[neighbour]].append(np.array(probabilities[dictionary[neighbour]]).mean())\n",
    "                counter[dictionary[neighbour]].append(1)\n",
    "                position = element\n",
    "                positions[dictionary[neighbour]].append(position)\n",
    "            except Exception as e:\n",
    "                #print(e)\n",
    "                pass\n",
    "        return means, positions\n",
    "    \n",
    "    else:\n",
    "        raise Exception(\"Direction should be either preceding or following or None\")\n",
    "\n",
    "\n",
    "def bayes_theorem(p_a, p_b, p_b_given_a):\n",
    "  # calculate P(A|B) = P(B|A) * P(A) / P(B)\n",
    "  p_a_given_b = (p_b_given_a * p_a) / p_b\n",
    "  return p_a_given_b        \n",
    "        \n",
    "probabilities,positions = getContextualProbabilitiesV2(states,womenTerms,dictionary)\n",
    "dfResult = postProcessSimulationResultsV2(probabilities,womenTerms,stationaryProb)\n",
    "dfTemp = dfResult[dfResult.term.isin(terms.Term.to_list())]\n",
    "dfTemp = dfTemp.fillna(0)\n",
    "\n",
    "# Print those selected terms that are most likely to follow or precede women terms\n",
    "display(dfTemp.sort_values('prob',ascending=False)[['prob','term']])\n",
    "\n",
    "# Print the selected terms above with the strength of association between them and women terms\n",
    "\n",
    "dfTemp['bayesRescaled'] = dfTemp.bayesRescaled/dfTemp.bayesRescaled.sum()\n",
    "display(dfTemp.sort_values('bayesRescaled',ascending=False)[['prob','term']])"
   ]
  },
  {
   "cell_type": "code",
   "execution_count": null,
   "id": "78f53394",
   "metadata": {
    "jdh": {
     "module": "object",
     "object": {
      "source": [
       "figure 10:  a selection of the most common terms, and subsequently topics, in the MIA-Euronews Corpus. Stationary probability was used to infer how common a given word is; all terms on the plot have a stationary probability that is higher than the upper quartile; the size of the bubbles is adjusted according to the stationary probability of each word. The selection was by a human agent."
      ],
      "type": "image"
     }
    },
    "tags": [
     "figure(-insert-name)-*"
    ]
   },
   "outputs": [],
   "source": [
    "Image('media/image8.png',width=800)"
   ]
  },
  {
   "cell_type": "code",
   "execution_count": null,
   "id": "8125afdd",
   "metadata": {
    "jdh": {
     "module": "object",
     "object": {
      "source": [
       "figure 11 A:  see legend below 11 B"
      ],
      "type": "image"
     }
    },
    "tags": [
     "figure(-insert-name)-*"
    ]
   },
   "outputs": [],
   "source": [
    "Image('media/image15.png')"
   ]
  },
  {
   "cell_type": "markdown",
   "id": "77e6c8e7",
   "metadata": {
    "jdh": {
     "module": "object",
     "object": {
      "source": [
       "figure 11 B: selection of key terms surrounding words denoting women in the MIA-Euronews Corpus. Figure A shows the strength of association between a given term and words denoting women. Figure B shows how likely a given term is to precede or to follow words denoting women within a window of five words.  Words coloured in terms of their importance (measured with the help of the stationary probability) in the MIA-Euronews Corpus: orange - very important, purple (important), green (not important)."
      ],
      "type": "image"
     }
    },
    "tags": [
     "figure(-insert-name)-*"
    ]
   },
   "source": [
    "![alt_text](media/image32.png \"image_tooltip\")"
   ]
  },
  {
   "cell_type": "code",
   "execution_count": null,
   "id": "c95372d6",
   "metadata": {
    "jdh": {
     "module": "object",
     "object": {
      "source": [
       "figure 12 A:  see legend below 12 D"
      ],
      "type": "image"
     }
    },
    "tags": [
     "figure(-insert-name)-*"
    ]
   },
   "outputs": [],
   "source": [
    "Image('media/image29.png')"
   ]
  },
  {
   "cell_type": "code",
   "execution_count": null,
   "id": "a246a6fd",
   "metadata": {
    "jdh": {
     "module": "object",
     "object": {
      "source": [
       "figure 12 B:  see legend below 12 D"
      ],
      "type": "image"
     }
    },
    "tags": [
     "figure(-insert-name)-*"
    ]
   },
   "outputs": [],
   "source": [
    "Image('media/image21.png')"
   ]
  },
  {
   "cell_type": "code",
   "execution_count": null,
   "id": "e042ea80",
   "metadata": {
    "jdh": {
     "module": "object",
     "object": {
      "source": [
       "figure 12 C:  see legend below 12 D"
      ],
      "type": "image"
     }
    },
    "tags": [
     "figure(-insert-name)-*"
    ]
   },
   "outputs": [],
   "source": [
    "Image('media/image20.png')"
   ]
  },
  {
   "cell_type": "code",
   "execution_count": null,
   "id": "a96ec0ec",
   "metadata": {
    "jdh": {
     "module": "object",
     "object": {
      "source": [
       "figure 12 D: selection of key terms surrounding different sets of words denoting women in the MIA-Euronews Corpus. Figure A shows how likely a given term is to precede or to follow the word _donna_ (woman) within a window of five words. Figure B shows how likely a given term is to precede or to follow the word _regina_ (queen) within a window of five words. Figure C shows how likely a given term is to precede or to follow the words _principessa_ (queen), _duchessa_ (duchess), _consorte_ (consort) within a window of five words. Figure D shows how likely a given term is to precede or to follow the words _principessa_ (queen), _duchessa_ (duchess), _consorte_ (consort) within a window of five words. Words coloured in terms of their importance (measured with the help of the stationary probability) in the MIA-Euronews Corpus: orange - very important, purple (important), green (not important)."
      ],
      "type": "image"
     }
    },
    "tags": [
     "figure(-insert-name)-*"
    ]
   },
   "outputs": [],
   "source": [
    "Image('media/image30.png')"
   ]
  },
  {
   "cell_type": "code",
   "execution_count": null,
   "id": "546709c2",
   "metadata": {
    "jdh": {
     "module": "object",
     "object": {
      "source": [
       "figure 13 A:  see legend below 13 D"
      ],
      "type": "image"
     }
    },
    "tags": [
     "figure(-insert-name)-*"
    ]
   },
   "outputs": [],
   "source": [
    "Image('media/image24.png')"
   ]
  },
  {
   "cell_type": "code",
   "execution_count": null,
   "id": "aaeefbcb",
   "metadata": {
    "jdh": {
     "module": "object",
     "object": {
      "source": [
       "figure 13 B:  see legend below 13 D"
      ],
      "type": "image"
     }
    },
    "tags": [
     "figure(-insert-name)-*"
    ]
   },
   "outputs": [],
   "source": [
    "Image('media/image26.png')"
   ]
  },
  {
   "cell_type": "code",
   "execution_count": null,
   "id": "daba2627",
   "metadata": {
    "jdh": {
     "module": "object",
     "object": {
      "source": [
       "figure 13 C:  see legend below 13 D"
      ],
      "type": "image"
     }
    },
    "tags": [
     "figure(-insert-name)-*"
    ]
   },
   "outputs": [],
   "source": [
    "Image('media/image10.png')"
   ]
  },
  {
   "cell_type": "code",
   "execution_count": null,
   "id": "bce9c91c",
   "metadata": {
    "jdh": {
     "module": "object",
     "object": {
      "source": [
       "figure 13 D: selection of key terms surrounding different sets of words denoting women in the MIA-Euronews Corpus. Figure A shows the strength of association between a given term and the word _donna_ (woman). Figure B shows the strength of association between a given term and the word _regina_ (queen). Figure C shows the strength of association between a given term and the words _principessa_ (queen), _duchessa_ (duchess), _consorte_ (consort) within a window of five words. Figure D shows the strength of association between a given term and the words _principessa_ (queen), _duchessa_ (duchess), _consorte_ (consort) within a window of five words. Words coloured in terms of their importance (measured with the help of the stationary probability) in the MIA-Euronews Corpus: orange - very important, purple (important), green (not important)."
      ],
      "type": "image"
     }
    },
    "tags": [
     "figure(-insert-name)-*"
    ]
   },
   "outputs": [],
   "source": [
    "Image('media/image9.png')"
   ]
  },
  {
   "cell_type": "markdown",
   "id": "d87e0a27",
   "metadata": {},
   "source": [
    "Notice that the likeliness of two words following or preceding each other and strength of association between these two words are two different but complementary aspects. Strong strength of association between two terms indicates an exclusive relationship; they mutually shape the meaning of each other and they are very likely to occur together or in close proximity. For instance, as we will shortly see, marriage and women of the elite are strongly associated. The likeliness of two words following or preceding each other is indicative about the context in which a given term tends to occur but it does not necessarily imply exclusivity. For instance, as it will be explained later, the term _parlare_ (to speak) is very likely to occur in the context of the term _regina_ (queen); but the queen is just one of those historical actors who speak in the MIA-Euronews Corpus, hence the relationship between the two terms do not feature exclusivity and strong strength of association. Finally, I complemented the results gathered from the simulation with insights gathered through semantic modeling; Figure 14 renders the semantic space underlying terms denoting women and shows those groups of words to which women terms are semantically related."
   ]
  },
  {
   "cell_type": "markdown",
   "id": "65bfbcd5",
   "metadata": {
    "jdh": {
     "module": "object",
     "object": {
      "source": [
       "figure 14: the semantics of terms denoting women in the MIA-Euronews Corpus. The plot highlights the most important clusters of words, and subsequently topics, that are semantically related to terms denoting women."
      ],
      "type": "image"
     }
    },
    "tags": [
     "figure(-insert-name)-*"
    ]
   },
   "source": [
    "![alt_text](media/image5.png \"image_tooltip\")"
   ]
  },
  {
   "cell_type": "markdown",
   "id": "0f33797c",
   "metadata": {},
   "source": [
    "##  Movement in the geographical space"
   ]
  },
  {
   "cell_type": "markdown",
   "id": "f17c4601",
   "metadata": {},
   "source": [
    "In August of 1551 the Medici court received a news sheet from Vienna (ASF MdP, 4572) giving notice about the departure of Duke Ferdinand of Austria (Holy Roman Emperor, 1556 - 1564) to Boemia. The same news sheet also informed its readers about the leaving of the Hungarian aristocrat, Tamas Nadasdy, to his castles. The news sheet from Vienna typifies the single most recurrent theme in the MIA- Euronews Corpus. This is the movement of historical actors and goods in the physical space. Early modern news extensively reported about the arrivals, the departures, and the returns of historical actors such as sovereigns, churchmen, and ambassadors. News about the arrival of messengers and ships with precious cargo were also recurrent. With road conditions dramatically improving and with courts frequently traveling between summer and winter residences, the early modern period was a world in movement <cite data-cite=\"14123371/LYRC68NN\"></cite>. Finally, movements of sovereigns were highly visible events, often accompanied by public rituals and processions."
   ]
  },
  {
   "cell_type": "markdown",
   "id": "e7af2a55",
   "metadata": {},
   "source": [
    "In light of this, it is not surprising that one of the most likely topics discussed in the context of women is movement and traveling (see Figure 11 B). Terms denoting spatial movements such as _andare_ (to go), _venire_ (to come), _passare_ (to pass by), and _partire_ (to depart) are ones of the most likely terms to co-occur with terms denoting women (see Figure 11 B). Of course, if social status is taken into consideration, there are important differences. While the news extensively discuss the movement of women belonging to the elite, the discussion of the movement of women of humble origin, usually mentioned by the general term _donna_ (woman), is less comprehensive (see Figure 12)."
   ]
  },
  {
   "cell_type": "markdown",
   "id": "29881a57",
   "metadata": {},
   "source": [
    "At the same time, it is important to underline that movement in the geographical space is not a topic that has an exclusive and strong relationship with women in general. In other words, terms denoting movement in space are very likely to occur in the context of women, but the strength of association between these terms and women terms tends to be low (see Figure 13).  This is also highlighted by the absence of travel words from the semantic space around women terms (see Figure 14)."
   ]
  },
  {
   "cell_type": "markdown",
   "id": "669f402c",
   "metadata": {},
   "source": [
    "There are however three terms that are loosely related to the topic movement in the geographical space and at the same time strongly connected with terms denoting women. The first one is _visitare_ (to visit). Early modern news often discuss the spatial movement of actors aiming to visit another actor or to visit special locations such as churches, palaces or events related to devotion (see the proximity of travel words to terms related to religion on Figure 14). In these visits women of the elite often had prominent roles, which is demonstrated (see Figure 13 B, C, D and Figure 14) by the relatively strong associative relationship between women of the elite and the term _visitare_. The second one is _accompagnare_ (to accompany). Women did not travel alone; they were often accompanied by their husbands or by their entourage. The news often discuss who accompanied women throughout their travels. The third one is _alloggiare_ (to lodge). News frequently highlight who put up foreign visitors and dignitaries, which explains why _alloggiare_ is positioned close to _visitare_ in the semantic space."
   ]
  },
  {
   "cell_type": "markdown",
   "id": "253be402",
   "metadata": {},
   "source": [
    "## Intentions and mental states of historical actors"
   ]
  },
  {
   "cell_type": "markdown",
   "id": "da4c8917",
   "metadata": {},
   "source": [
    "Another group of recurrent words relate to the topic that I describe as intentions and beliefs (or mental states) of historical actors. Words such as _sapere_ (to know), _credere_ (to believe), _volere_ (to want), _pensare_ (to think), _dubitare_ (to doubt) belong to this group. News mongers such as the high ranking officials of the Medici court, as well as the grand dukes themselves, were eager to hear about the ambitions and goals of other courts and sovereigns. As scholarship has emphasized, news were tools to gather information about the geopolitical and political developments in the world <cite data-cite=\"14123371/I2G6YMGM\"></cite>."
   ]
  },
  {
   "cell_type": "markdown",
   "id": "08c34de9",
   "metadata": {},
   "source": [
    "This topic is generally unrelated to women. News are unlikely to discuss the beliefs and intentions of women (see Figure 12 and see the absence of terms related to beliefs and intentions on Figure 14.). The only exception is queen (most probably referring to Elisabeth I. of England (1558 - 1603)). _Volere_ (to want), _intendere_ (to intent), and _sapere_ (to know) are likely to co-occur with the term queen (see Figure 12 B) but the strength of association between _regina_ (queen) and these terms is still low (see Figure 13 B)."
   ]
  },
  {
   "cell_type": "markdown",
   "id": "8ed0e31c",
   "metadata": {},
   "source": [
    "##  Information circulation"
   ]
  },
  {
   "cell_type": "markdown",
   "id": "d7259b4f",
   "metadata": {},
   "source": [
    "Court officials and sovereigns used news to keep track of not only geopolitical developments but also information circulation. For instance, in May 1642, it was reported from London that the English king, Charles I (1625 - 1649) received a letter from the governors of Ireland who thanked the king’s interest in affairs in Ireland (ASF MdP, 4201). News often reports about the arrival of important letters, messengers, and news. They also often inform readers about letters and messengers sent abroad. Highly recurrent terms such as _mandare_ (to send), _rispondere_ (to answer), _lettera_ (letter), _scrivere_ (to write) form this topic. Furthermore, news often discusses public opinion and information circulating through word of mouth, which is signaled by the importance of the term _dire_ (to say). Finally, news also often gives accounts of who and what said."
   ]
  },
  {
   "cell_type": "markdown",
   "id": "bb203a73",
   "metadata": {},
   "source": [
    "Information circulation is a theme associated with men and not with women. The key terms forming this topic tend to be associated with men. For instance, _mandare_ (to send), _inviare_ (to send), _spedire_ (to send) are all associated with men and unrelated to women (see Figure 11). Similarly, in early modern news we do not hear the “voice” of women, i.e. they do not speak (see _parlare_ (to speak) on Figure 11). The only exception is the queen. As Figure 12 B shows, the term _regina_ (queen) is strongly associated with _mandare_ (to send) and less strongly with _parlare_ (to speak)."
   ]
  },
  {
   "cell_type": "markdown",
   "id": "e027c912",
   "metadata": {},
   "source": [
    "## War"
   ]
  },
  {
   "cell_type": "markdown",
   "id": "22a4bbc8",
   "metadata": {},
   "source": [
    "Figure 10 brings forward another key theme of early modern news: war. Usually, women and wars are not covered together in the MIA-Euronews Corpus. News rather focus on the  impacts of war on the people (_gente_ in Italian) in general. There is however one aspect of wars that is particularly related to women of humble origins (_donna_). This is violence, which is discussed in the following section."
   ]
  },
  {
   "cell_type": "markdown",
   "id": "66ab15aa",
   "metadata": {},
   "source": [
    "## Catastrophes, diseases, and epidemics"
   ]
  },
  {
   "cell_type": "markdown",
   "id": "fccde29b",
   "metadata": {},
   "source": [
    "Natural catastrophes and diseases is another key topic frequently featuring in early modern news. This theme is similar to the topic of war. It severely affected women but news generally discuss it in the context of people in general (_gente_) and do not specifically highlight women's perspectives."
   ]
  },
  {
   "cell_type": "markdown",
   "id": "bde4d5d5",
   "metadata": {},
   "source": [
    "## Public festivities and celebrations"
   ]
  },
  {
   "cell_type": "markdown",
   "id": "ab4fac40",
   "metadata": {
    "tags": [
     "narrative"
    ]
   },
   "source": [
    "Among the most recurrent topics of early modern news, we can find one that is specifically related to women and women experience. This is the topic of festivities and celebrations signaled by two key terms on Figure 10: _bello_ (beautiful) and _festa_ (feast). Both are associated with women and likely to occur in the context of women (see Figure  11 A and B and Figure  14) Public festivities were highly visible events and they expressed the prestige of locations where they took place. Women had important roles in these festivities; they for instance participated in public processions and parades. Beauty does not necessarily imply the physical beauty of women who participated; it rather implies the splendor of the entire setting, i.e. beauty of clothes and of various decorative elements. This explains why _bello_ (beautiful) is closely positioned to _vestire_ (to dress) and _carrozza_ (wagon) in the semantic space (see  Figure  14). At the same time, the theme festivities and celebrations feature stronger relationships to women of the elite than to women of humble origins."
   ]
  },
  {
   "cell_type": "markdown",
   "id": "a61f9bc3",
   "metadata": {},
   "source": [
    "##  Governance and politics"
   ]
  },
  {
   "cell_type": "markdown",
   "id": "7b5de3c3",
   "metadata": {},
   "source": [
    "News writers often gave notice about the political development in a given location. This is of course a highly recurrent theme signaled by a number of key terms: _ordine_ (order), _impedire_ (to obstruct), _regno_ (kingdom), _affare_ (affair), _governo_ (government), etc. My findings (see the absence of terms related to governance on Figure 14) suggest that this topic was very much unrelated to women."
   ]
  },
  {
   "cell_type": "markdown",
   "id": "59cc3d58",
   "metadata": {},
   "source": [
    "##  Religion"
   ]
  },
  {
   "cell_type": "markdown",
   "id": "7432dc39",
   "metadata": {},
   "source": [
    "The last central theme that my analysis revealed is religion. Even though religion and women were deeply connected in the early modern period, this connection in the thousands of handwritten news in the MIA-Euronews Corpus seems to remain loose. Words related to religion do not typically occur in the close proximity of terms denoting women (references to nuns and cloisters are rare). As Figure 14 shows, religious celebrations and church visits are the sub-themes that establish connections between women and religion. One explanation for the loose connection between religion and women can be that religion is mainly discussed in the context of politics and wars of religion. Spirituality, which was the main theme connecting women and religion, is however rarely discussed in the news."
   ]
  },
  {
   "cell_type": "markdown",
   "id": "0aa85958",
   "metadata": {},
   "source": [
    "# Results C: Non-central themes of early modern news"
   ]
  },
  {
   "cell_type": "markdown",
   "id": "9f2c0055",
   "metadata": {},
   "source": [
    "In addition to the highly recurrent themes discussed above, there were also less important and rather marginal themes in early modern handwritten news. Contemporary news mongers were less likely to read about these topics that I call non-central themes. Women were associated with these non-central themes, which also explains why in general they were absent from early early modern handwritten news."
   ]
  },
  {
   "cell_type": "markdown",
   "id": "ff0e9f07",
   "metadata": {},
   "source": [
    "##  Marriage and wedding"
   ]
  },
  {
   "cell_type": "markdown",
   "id": "7851af7f",
   "metadata": {},
   "source": [
    "Surprisingly, marriage and wedding are non-central themes of the MIA–Euronews Corpus. Both the Markovian simulation of the corpus and the repeated random sampling of news items confirmed this finding. The relatively low probability of news about marriage is remarkable because marriage was viewed as the cornerstone of social order in the early modern period. In tandem with family, marriage was the most rudimentary social framework that shaped the life of most (but not all) women and men (<cite data-cite=\"14123371/T6CNXASM\"></cite>,<cite data-cite=\"14123371/ENB8JPD5\"></cite>,<cite data-cite=\"14123371/QV4LV2AA\"></cite>). It was believed - both by catholics and protestants - to be a divine creation that aimed to maintain the harmony of social life. Marriage was particularly important for noble families since it contributed to social status and assured continuity over generations."
   ]
  },
  {
   "cell_type": "markdown",
   "id": "46546d57",
   "metadata": {},
   "source": [
    "What is not surprising is the fact that marriage, including wedding, is the theme that is most strongly associated with women in the MIA-Euronews Corpus. Beyond the topic of movement in physical space, marriage and wedding are the most important topics in the context in which women occur (see Figure 11 A and Figure 14). There are however differences in terms of social status. While women of the elite are strongly associated with marriage, the same cannot be said about women of humble social origins. As Figure 13 demonstrates, the term _donna_ (woman), which usually denotes women of humble social origins, is not associated with marriage in the MIA-Euronews Corpus."
   ]
  },
  {
   "cell_type": "markdown",
   "id": "73304e6b",
   "metadata": {},
   "source": [
    "Even though women and marriage are strongly associated, the close reading of news reporting about marriages revealed an unexpected aspect of this strong association. In news reporting about marriages women usually remain in the background; sometimes the news do not even mention the name of the bride. For instance, in July 1574 a news sheet was sent from Milan to Florence. The news sheet (ASF MdP 3254) contains a notice of marriage between a certain Pietro Antonio Grasso, most probably a local nobleman, and an unnamed woman. Just like other marriage news, this report mainly focuses on those dignitaries who were present at the wedding. This explains why the term _presenza_ (presence) is salient in the semantic space underlying women terms (see Figure 14). Generally, marriage notices in the MIA-Euronews Corpus tend to be short and concise. They give the name of the husband and the wife, as well as the day when the marriage was celebrated, consumed or published. For instance, in April 1698, a news sheet arrived from Hamburg to Florence (ASF MdP 4191a) and reported the marriage between Frederick IV (1695 – 1702), the reigning Duke of Holstein-Gottorp and Hedvig Sophia Augusta of Sweden. The news is brief and to the point; it simply gives information about the marriage union without offering any details about the ceremony. Notably, marriage gifts and the amount of the dowry remain unmentioned. Some of the marriage news focus on marriage planning. For instance, a news sheet from Parma, compiled in January 1576, reported that the Duke of Parma, Ottavio Farnese (1547 - 1586), traveled to Turin to discuss a marriage plan for his daughter. Again, the focus of the news is Ottavio’s travel and marriage plan; the name of the daughter is not even mentioned. Other news report about marriage contracts and negotiations of dowries. Again, this group of news highlights the material aspect of marriage alliances and future wives remain in the background."
   ]
  },
  {
   "cell_type": "markdown",
   "id": "3df37590",
   "metadata": {},
   "source": [
    "Material aspects and the presence of dignitaries were the focal points of news about wedding ceremonies as well. In April 1600 the Austrian city, Graz, hosted the wedding ceremony of Maria Anna of Bavaria with the future Emperor of the Holy Roman Empire, Ferdinand II. (1619 - 1637). Through news sheets sent directly from Graz and Vienna, the Medici in Florence could follow the event. These news sheets discuss the arrival of foreign dignitaries, give the names of ambassadors who were present, and describe the lavishness of wedding banquets and processions. Little is actually said about the bride. Other wedding news in MIA-Euronews Corpus focus on gifts presented at the ceremony. For instance, a news sheet (ASF MdP 4201) that arrived from London in May, 1641 describes the marriage gifts by William II, Prince of Orange (1647 - 1650) to Maria Enrichetta Stuart in great detail, including the price of each gift."
   ]
  },
  {
   "cell_type": "markdown",
   "id": "4618d26f",
   "metadata": {},
   "source": [
    "In summary, even though marriage is believed to have been the keystone of early modern social order, it is a marginal theme of handwritten news. Furthermore, the news typically discuss it through the lens of prestige. As a result, brides are not the focal points of marriage notices, yet they often remain in the background and treated as only one of the many protagonists. Marriage and wedding descriptions in the MIA-Euronews Corpus tend to be silent about the feelings and aspirations of future wives; they thus perpetuate the traditional view, challenged by recent scholarship <cite data-cite=\"14123371/URZW6Q9G\"></cite>, that early modern marriage was an emotionless bond that primarily aimed to establish political and social alliances between families."
   ]
  },
  {
   "cell_type": "markdown",
   "id": "dbdbc9d4",
   "metadata": {},
   "source": [
    "## Pregnancy and childbirth"
   ]
  },
  {
   "cell_type": "markdown",
   "id": "504ec7a1",
   "metadata": {},
   "source": [
    "The reproductive role of women was highly important in early modern societies. For the elite women as mothers and children as heirs assured the continuity of a dynasty or of a noble family. For artisanal and merchant families children contributed to the completeness of the household that often drew on their labor. Both protestant and catholic theologians underlined the sanctity of the household that would remain incomplete without children <cite data-cite=\"14123371/8RKKSR7C\"></cite>."
   ]
  },
  {
   "cell_type": "markdown",
   "id": "8cf82c7c",
   "metadata": {},
   "source": [
    "Despite the apparent importance of childbirth and pregnancy, neither of them are significant themes in the MIA-Euronews Corpus. On the other hand, they are both strongly associated with women (see Figure 11). Generally speaking, in the MIA-Euronews Corpus there are only occasional and sporadic mentions of pregnancy. What is also indicative is the fact that pregnancy does not occur as a news alone; it is usually discussed in tandem with other news. For instance, in April 1575 a piece of news arrived from Lyon through Rome (ASF MdP 3082); it extensively reported about fights with Hugenottes and as a side note it also mentioned the pregnancy of Queen of Navarra, Marguerite de Valois-Bourbon. Sometimes news in the MIA-Euronews Corpus comment on the development of the pregnancy including the number of months a woman has completed (for instance, ASF MdP 4191a, ASF MdP 3082, ASF MdP 4572). Occasionally, they give account of miscarriage, though as the MIA-Euronews Corpus suggests this was a particularly rare theme."
   ]
  },
  {
   "cell_type": "markdown",
   "id": "d3567dda",
   "metadata": {},
   "source": [
    "Childbirth and baptism are equally unimportant themes in the  MIA-Euronews Corpus. When the news discuss them, they focus on the celebrative aspects. By contrast, biological and emotional aspects of childbirth usually remain unaddressed. In the MIA-Euronews Corpus we can also find examples of childbirth news where the name of the mother is not even communicated. For instance, there is a childbirth news in a news sheet compiled in June 1643 in Florence (ASF MdP 384); it reports about the birth of the second son of a local nobleman (Count Altoviti); it mentions the birth of the child and name of the father but not the name of the mother. News about baptism are somewhat similar to news about marriage and weddings. The most salient aspect is the presence of dignitaries and their representatives. Hence both childbirth and baptism are treated as prestige events with women and children again remaining in the background."
   ]
  },
  {
   "cell_type": "markdown",
   "id": "c320ca9f",
   "metadata": {},
   "source": [
    "## Crime and violence"
   ]
  },
  {
   "cell_type": "markdown",
   "id": "3aa47274",
   "metadata": {},
   "source": [
    "Crime and violence are not particularly important topics in the MIA-Euronews Corpus. However, as Figure 14 shows, they are semantically related to terms denoting women. But there is a remarkable dichotomy between women of the elite and women of humble origins. Crime and violence are closely associated with women of humble origins.  In fact, if women of humble origins are mentioned in the news, they are quite likely to be discussed in the context of crime, violence, and social control (see the axes _attaccare_ (attack) and _difesa_(defense) on Figure 12 A  and 13 A). The relationship between women and crime has two facets in the MIA-Euronews Corpus."
   ]
  },
  {
   "cell_type": "markdown",
   "id": "29b0f02f",
   "metadata": {},
   "source": [
    "On the one hand, there are pieces of news about crimes committed by women. For instance, a news sheet that arrived from Rome in August 1719 (ASF MdP 100) reported about a woman who killed her husband. News sometimes report about the punishment of women, including public whipping, execution, and imprisonment. Reports about crimes by women are not surprising. In the early modern belief system women and transgressive social behavior were closely related (Rublack, 2001). The connection was in part based on religious ideas. According to the Christian tradition, women were daughters of Eve, which established a direct connection with the Original Sin and the Fall of Man. As a result, in the early modern period it was widely believed that women were vulnerable to the incursions of the devil and to their own natural passions. This belief was also reinforced by premodern “scientific” ideas. According to the elemental physics of Gallen, Aristotle, and other ancient Greek philosophers, the female body is incomplete and vulnerable to uncontrollable emotions and passions. While men were associated with rationality and self-control, women were linked to nature, passion, and savageness. Women were also often subject to social control; this for instance gave rise to the regulation of clothes that women were allowed to wear in public. News sometimes discuss this theme as well. In short, everyday news reinforced the traditional misogynist beliefs of the early modern times by  relating women of humble origins to crime."
   ]
  },
  {
   "cell_type": "markdown",
   "id": "32f430e9",
   "metadata": {},
   "source": [
    "On the other hand, news also often report about violence against women. Again, these reports usually concern women of humble origins. A recurrent theme is violence by soldiers. For instance, a news sheet from Graz compiled in October 1600 extensively discusses the actual state of affairs in the war against the Ottomans (ASF MdP, 51248). It reports about violence of French mercenaries against women. Another news from Cremona, compiled in June 1575, highlights the cruelties of German and Italian soldiers (ASF MdP, 3254). This piece of news pinpoints the heart of the matter. In early modern times peasants were forced to give accommodation to soldiers who often took advantage of this and committed violence, crime, and looting. Sometimes, news also mention petty crimes against women, though this remains sporadic in the MIA-Euronews Corpus."
   ]
  },
  {
   "cell_type": "markdown",
   "id": "291545c8",
   "metadata": {},
   "source": [
    "There are some interesting and unexplained silences in the MIA-Euronews Corpus. First, witchcraft is surprisingly underreported. It is estimated that in the early modern period approximately 40.000 and 60.000 people, mainly women, were executed for witchcraft <cite data-cite=\"14123371/6ZGYXXI9\"></cite>. However, apart from some exceptions, the news in the MIA-Euronews Corpusare are silent about witchcraft. Second, scholarship <cite data-cite=\"14123371/ADTRIRVX\"></cite> has discovered a great variety of crimes that were usually ascribed to women in the early modern period. This includes for instance fornication, infanticide, adultery, and premarital sex. News are not particularly specific about the types of crimes women commit. Generally, physical violence is the main crime against and by women that is discussed."
   ]
  },
  {
   "cell_type": "markdown",
   "id": "b4bb54e0",
   "metadata": {},
   "source": [
    "# Conclusion"
   ]
  },
  {
   "cell_type": "markdown",
   "id": "c45c05f4",
   "metadata": {},
   "source": [
    "In light of my analysis, the story of the woman ambassador seems to be an anomaly. Her story is in sharp contrast with the perception of women that news in the MIA-Euronews Corpus convey. Generally, early modern readers of handwritten news were unlikely to read about women’s agency. On the contrary, apart from some few exceptions, women are described as silent protagonists of history. Furthermore, they are likely to occur in a well-defined set of social contexts: marriage, celebrations, violence, and physical movement. As we could see, even in these contexts, they usually remain in the background, which is the hallmark of women’s perception conveyed by thousands of news items in the MIA-Euronews Corpus."
   ]
  },
  {
   "cell_type": "markdown",
   "id": "fb31e430",
   "metadata": {},
   "source": [
    "At the same time, my analysis has uncovered a sharp contrast between the perception of elite and non-elite women. While women of the elite are mainly related to splendor, marriage, and celebration, women of humble social status are essentially connected with crime and violence. In this sense, news conveyed two different perceptions of women. The first one highlighted the representative role of women and the second one conveyed a deeply negative perception. Most probably, the negative perception of women of humble social origins was the by-product of contemporary ideas and beliefs that connected women with nature, passion, and savageness. But this negative perception had another facet: elitism. As we could see throughout this essay, news generally discusses information related to the upper echelons of the social world. All this does not mean that women agency did not exist in the early modern period; neither does it imply the savageness of non-elite women. Most probably, news compilers were men who produced news for an elite audience. As a result, the world of early modern handwritten news was not only elitist but also male dominated."
   ]
  },
  {
   "cell_type": "markdown",
   "id": "e719c1be",
   "metadata": {},
   "source": [
    "Finally, my study has some limitations that need to be addressed in the conclusion. Due to the fact that the MIA-Euronews Corpus is unevenly distributed in space and time, I could not study how the perception of women changed diachronically and synchronically. Furthermore, as I have extensively pointed out, the MIA-Euronews Corpus Corpus is just a random snapshot of those early modern handwritten news sheets that once existed and circulated. To gather information about this lost whole, I adopted methods from a broad family of scientific approaches. I also complemented these methods with Bayesian statistics and semantic modeling. I believe that these methods could offer a reliable glimpse into the once existing but today lost whole of news sheets."
   ]
  },
  {
   "cell_type": "markdown",
   "id": "49ca23f3",
   "metadata": {},
   "source": [
    "# Implementation"
   ]
  },
  {
   "cell_type": "markdown",
   "id": "b289819a",
   "metadata": {},
   "source": [
    "The methodology behind this research consists of three different components and includes a preprocessing stage. Here I will present these three components with a special emphasis on how they resolve the problems outlined in the section addressing randomness and archival research. This section requires advanced knowledge in mathematics and computer science."
   ]
  },
  {
   "cell_type": "markdown",
   "id": "f715218d",
   "metadata": {},
   "source": [
    "## Preprocessing"
   ]
  },
  {
   "cell_type": "markdown",
   "id": "bbb54746",
   "metadata": {},
   "source": [
    "The MIA-Euronews Corpus is preserved in the MIA Database of the Medici Archive Project; it consists of transcriptions of news sheets and basic metadata (place and date of compilation, source location of news items). As a first step, the transcriptions (represented in JSON) were tokenized, lemmatized, and POS tagged. For this task a lemmatizer and POS tagger for modern Italian by spaCy ([https://spacy.io/](https://spacy.io/)) was used. Given that the news sheets that reached the Medici court were mainly written in the Tuscan dialect, which is the predecessor of modern Italian, the lemmatizer performed reasonably well and delivered acceptable results. Throughout the preprocessing names of persons were identified with a Named Entity Recognizer; their gender and social rank were inferred computationally with the supervision of a human expert. What made the computational inference of social rank possible is that names are usually preceded by titles (such as marchese, princess, duke, etc.) in the MIA-Euronews Corpus."
   ]
  },
  {
   "cell_type": "markdown",
   "id": "669e2839",
   "metadata": {},
   "source": [
    "## Repeated random sampling of news sheets and news items"
   ]
  },
  {
   "cell_type": "markdown",
   "id": "84dbab77",
   "metadata": {},
   "source": [
    "To accomplish repeated random sampling, the standard procedure of bootstrapping, also known as resampling, was applied <cite data-cite=\"14123371/3FLLGXTK\"></cite>. Bootstrapping involves the repeated and randomized selection of a small subset of a large original sample. In this research, throughout each step of randomized selection, I picked one hundred complete news sheets and one hundred news items; then I counted the number of news items and news sheets that mention at least one woman. Hence I treated women’s presence in news as a binomial random variable with two possible outcomes: present and absent. Next, by averaging the outcomes of the randomized selection steps, I calculated the mean number of news items and news sheets in which women are present or absent if hundred news items and new sheets are randomly selected. In short, the process of repeated random sampling of news sheets and news items brought about a binomial probability distribution that represents women’s presence or absence in the MIA-Euronews Corpus."
   ]
  },
  {
   "cell_type": "markdown",
   "id": "6c61d5b4",
   "metadata": {},
   "source": [
    "To discover the probability distribution that represents the presence of women in the lost totality of news sheets that once circulated in the early modern period, I applied Bayes’ Theorem <cite data-cite=\"14123371/4Y5IPFUQ\"></cite>. This is a mathematical framework that facilitates the discovery of the most likely prior distribution giving rise to a set of evidence gathered  throughout a series of independent trials. In the context of this research, the evidence is the binomial probability distribution that the bootstrapping procedure brought about and the prior is the probability distribution that represents women’s presence in the lost totality of once existing news sheets. We can formalize all this in the following way:"
   ]
  },
  {
   "cell_type": "markdown",
   "id": "3053f231",
   "metadata": {},
   "source": [
    "* Let X be the prior and let X be a continuous distribution with support [0,1] so that it can effectively represent the probability of presence and absence (for instance if X = 0.2 then the probability of women’s presence is 0.2 and the probability of their absence is 0.8)."
   ]
  },
  {
   "cell_type": "markdown",
   "id": "e466fae7",
   "metadata": {},
   "source": [
    "* Let H and T be the evidence; let H be a random variable for the number of news sheets (or news items) in which women are present, and let T be a random variable for the number of news sheets (or news items) in which women are absent."
   ]
  },
  {
   "cell_type": "markdown",
   "id": "cb4ffbcf",
   "metadata": {
    "tags": [
     "narrative"
    ]
   },
   "source": [
    "We can formalize the relationship between the prior (X) and the evidence (H and T) as the probability (P) of observing presence _h_ number of times and absence _t_ number of times given that the prior probability distribution of presence is _x_."
   ]
  },
  {
   "cell_type": "code",
   "execution_count": null,
   "id": "15a4fcef",
   "metadata": {
    "tags": [
     "figure(-insert-name)-*"
    ]
   },
   "outputs": [],
   "source": [
    "Image('media/image1.png')"
   ]
  },
  {
   "cell_type": "markdown",
   "id": "c4522beb",
   "metadata": {},
   "source": [
    "We can also reverse the statement above:"
   ]
  },
  {
   "cell_type": "code",
   "execution_count": null,
   "id": "264b7f3c",
   "metadata": {
    "tags": [
     "figure(-insert-name)-*"
    ]
   },
   "outputs": [],
   "source": [
    "Image('media/image2.png')"
   ]
  },
  {
   "cell_type": "markdown",
   "id": "dada413c",
   "metadata": {},
   "source": [
    "This term expresses the probability of the prior given the evidence. Qualitatively, it tells how the prior probability distribution is changing in light of the evidence we have (more about this later)"
   ]
  },
  {
   "cell_type": "markdown",
   "id": "aea4290c",
   "metadata": {},
   "source": [
    "For convenience, we can express the prior probability distribution with its probability density function (PDF):"
   ]
  },
  {
   "cell_type": "code",
   "execution_count": null,
   "id": "5df88c23",
   "metadata": {
    "tags": [
     "figure(-insert-name)-*"
    ]
   },
   "outputs": [],
   "source": [
    "Image('media/image27.png',width=100)"
   ]
  },
  {
   "cell_type": "markdown",
   "id": "96ed3deb",
   "metadata": {},
   "source": [
    "Similarly, we can express the second term as a PDF:"
   ]
  },
  {
   "cell_type": "code",
   "execution_count": null,
   "id": "f85878ab",
   "metadata": {
    "tags": [
     "figure(-insert-name)-*"
    ]
   },
   "outputs": [],
   "source": [
    "Image('media/image3.png')"
   ]
  },
  {
   "cell_type": "markdown",
   "id": "b088d1db",
   "metadata": {},
   "source": [
    "Bayes’ theorem connects the two terms in the following way (Puga et al., 2015):"
   ]
  },
  {
   "cell_type": "code",
   "execution_count": null,
   "id": "b748e87e",
   "metadata": {
    "tags": [
     "narrative",
     "figure(-insert-name)-*"
    ]
   },
   "outputs": [],
   "source": [
    "Image('media/image33.png',width=800)"
   ]
  },
  {
   "cell_type": "markdown",
   "id": "163ecb88",
   "metadata": {},
   "source": [
    "Given that the conjugate prior of the binomial distribution is the beta distribution, the PDF we need is the beta PDF:"
   ]
  },
  {
   "cell_type": "code",
   "execution_count": null,
   "id": "c26ad42f",
   "metadata": {
    "tags": [
     "figure(-insert-name)-*"
    ]
   },
   "outputs": [],
   "source": [
    "Image('media/image16.png',width=200)"
   ]
  },
  {
   "cell_type": "markdown",
   "id": "f8c3eff6",
   "metadata": {},
   "source": [
    "where"
   ]
  },
  {
   "cell_type": "code",
   "execution_count": null,
   "id": "2aa26a06",
   "metadata": {
    "tags": [
     "figure(-insert-name)-*"
    ]
   },
   "outputs": [],
   "source": [
    "Image('media/image34.png',width=200)"
   ]
  },
  {
   "cell_type": "markdown",
   "id": "fa3de634",
   "metadata": {},
   "source": [
    "and"
   ]
  },
  {
   "cell_type": "code",
   "execution_count": null,
   "id": "e0f0cc6c",
   "metadata": {
    "tags": [
     "figure(-insert-name)-*"
    ]
   },
   "outputs": [],
   "source": [
    "Image('media/image18.png',width=10) "
   ]
  },
  {
   "cell_type": "markdown",
   "id": "a5957eab",
   "metadata": {},
   "source": [
    "is the Gamma function."
   ]
  },
  {
   "cell_type": "markdown",
   "id": "1e7ab5e5",
   "metadata": {},
   "source": [
    "In the context of this research, the two parameters of the beta PDF, $\\alpha$ and $\\beta$ are the average number of times women are present and absent, i.e. _H_ and _T_. Precisely, to compute the distribution of women’s presence and absence in the lost whole of news sheets that once circularted, we need to accomplish two steps. First, we set the prior distribution so that the probability of absence and presence are equally likely:"
   ]
  },
  {
   "cell_type": "code",
   "execution_count": null,
   "id": "6b025dfd",
   "metadata": {
    "tags": [
     "figure(-insert-name)-*"
    ]
   },
   "outputs": [],
   "source": [
    "Image('media/image23.png',width=200) "
   ]
  },
  {
   "cell_type": "markdown",
   "id": "d248604b",
   "metadata": {},
   "source": [
    "Next, we need to update this prior belief in light of the evidence we collect throughout the bootstrapping as follows:"
   ]
  },
  {
   "cell_type": "code",
   "execution_count": null,
   "id": "76d9e752",
   "metadata": {
    "tags": [
     "figure(-insert-name)-*"
    ]
   },
   "outputs": [],
   "source": [
    "Image('media/image31.png',width=200) "
   ]
  },
  {
   "cell_type": "markdown",
   "id": "0d806d34",
   "metadata": {},
   "source": [
    "Notice that the update step in case of the beta distribution is straightforward and it involves only addition. Following the update step, we get the most likely prior distribution given the evidence:"
   ]
  },
  {
   "cell_type": "code",
   "execution_count": null,
   "id": "295d6fd0",
   "metadata": {
    "tags": [
     "figure(-insert-name)-*"
    ]
   },
   "outputs": [],
   "source": [
    "Image('media/image4.png',width=200) "
   ]
  },
  {
   "cell_type": "markdown",
   "id": "4c7716cc",
   "metadata": {},
   "source": [
    "##  Markovian simulation"
   ]
  },
  {
   "cell_type": "markdown",
   "id": "8369e3fa",
   "metadata": {},
   "source": [
    "The Markovian simulation of texts is based on the state space model <cite data-cite=\"14123371/UYSIAQ49\"></cite>. The textual universe underlying the MIA-Euronews Corpus was therefore represented as a state space with individual words as discrete states. Next the transition probabilities between words as states were computed from the corpus data and subsequently encoded in a transition matrix."
   ]
  },
  {
   "cell_type": "markdown",
   "id": "ac35e3e9",
   "metadata": {},
   "source": [
    "Let this transition matrix be _P_; as a corollary of the Chapman-Kolmogorov equation <cite data-cite=\"14123371/ZLSFSNT7\"></cite>, we can use _P_ to simulate the development of the underlying Markovian system after _n_ steps and with _m_ as the starting step:"
   ]
  },
  {
   "cell_type": "code",
   "execution_count": null,
   "id": "28bb1620",
   "metadata": {
    "tags": [
     "figure(-insert-name)-*"
    ]
   },
   "outputs": [],
   "source": [
    "Image('media/image13.png',width=200) "
   ]
  },
  {
   "cell_type": "markdown",
   "id": "cd4f2f9d",
   "metadata": {},
   "source": [
    "In practice, as the equation demonstrates, throughout the simulation, we need to raise P on the power of _n+m_. Given that a Markovian system is ergodic, the simulation will reach a stable probability distribution (π) that satisfies the following equation <cite data-cite=\"14123371/SSU5AKJG\"></cite>:"
   ]
  },
  {
   "cell_type": "code",
   "execution_count": null,
   "id": "077546f7",
   "metadata": {
    "tags": [
     "figure(-insert-name)-*"
    ]
   },
   "outputs": [],
   "source": [
    "Image('media/image7.png',width=200) "
   ]
  },
  {
   "cell_type": "markdown",
   "id": "486dc976",
   "metadata": {},
   "source": [
    "The stationary probability distribution π is a non-negative row vector that sums to one; it is the left eigenvector of the transition matrix and it remains unchanged if multiplied by the transition matrix. The stationary probability has a number of features that are important in the context of this research. First, it expresses the non-conditional probability of each state of a finite random system modeled as a Markovian system. The stationary probability of a given state is the maximum probability that the simulated system will be in that state irrespectively of the starting distribution. Hence, the stationary probability distribution is a limiting distribution as follows <cite data-cite=\"14123371/SSU5AKJG\"></cite>:"
   ]
  },
  {
   "cell_type": "code",
   "execution_count": null,
   "id": "e7e71e4b",
   "metadata": {
    "tags": [
     "figure(-insert-name)-*"
    ]
   },
   "outputs": [],
   "source": [
    "Image('media/image22.png',width=200) "
   ]
  },
  {
   "cell_type": "markdown",
   "id": "55fc5324",
   "metadata": {},
   "source": [
    "Throughout this paper I therefore described it as the ‘overall probability’ of a given word in the news system. Second, the stationary probability distribution expresses the significance of each state in a dynamic system represented with a Markovian framework <cite data-cite=\"14123371/3EPZQA95\"></cite>; it thus shows how important a given word is in the MIA-Euronews Corpus."
   ]
  },
  {
   "cell_type": "markdown",
   "id": "4a9e361b",
   "metadata": {},
   "source": [
    "The transition matrix can be also used to run random walks on the underlying Markovian system <cite data-cite=\"14123371/JKKJM8EU\"></cite> and to simulate how states (words in the context of this research) are following each other.  First, one needs to pick (ideally randomly) a given starting state. Second, the row corresponding to this state in the transition matrix is treated as a probability distribution and it is used to randomly select the next state. Throughout the random walk one has to repeat the second step for a reasonably large number of times (or until the random walk reaches convergence). With the help of this random walk, I could observe how words are likely to follow each other. Precisely, I could uncover the words that are most likely to occur before or after terms denoting women."
   ]
  },
  {
   "cell_type": "markdown",
   "id": "13dcd709",
   "metadata": {},
   "source": [
    "At the same time, as explained earlier, the likeliness that word B follows or precedes word A is not necessarily informative about the strength of relationship between them. To estimate the strength of association, one needs to take into consideration the independent probability of A and B. For instance, the fact that _donna _(woman)_ is very likely to be followed by _essere_ (to be) does not indicate a strong associative relationship given that _essere_ is a very common term. Again, I used Bayes theorem and its terminology to describe and resolve this problem as follows:"
   ]
  },
  {
   "cell_type": "markdown",
   "id": "22a000ce",
   "metadata": {},
   "source": [
    "1. Evidence: the probability (P) of B given A (the result of the random walk on the transition matrix)"
   ]
  },
  {
   "cell_type": "markdown",
   "id": "cbf5c69f",
   "metadata": {},
   "source": [
    "P (B | A)"
   ]
  },
  {
   "cell_type": "markdown",
   "id": "0d12e14d",
   "metadata": {},
   "source": [
    "2. Priors: the probability of B independently of A (the stationary probability of B) and the probability of A independently of B (the stationary probability of A)"
   ]
  },
  {
   "cell_type": "markdown",
   "id": "274f7226",
   "metadata": {},
   "source": [
    "P (B) and P (A)"
   ]
  },
  {
   "cell_type": "markdown",
   "id": "4810f661",
   "metadata": {},
   "source": [
    "3. Posterior: probability of A given B (the expression of how much our knowledge about B and A is changing as result of the evidence)"
   ]
  },
  {
   "cell_type": "markdown",
   "id": "1a76b70e",
   "metadata": {},
   "source": [
    "P (A | B)"
   ]
  },
  {
   "cell_type": "markdown",
   "id": "0ce1c122",
   "metadata": {},
   "source": [
    "To calculate the posterior, I again drew on Bayes theorem (see above). In short, the higher the posterior probability, the more the two terms are related to each other."
   ]
  },
  {
   "cell_type": "markdown",
   "id": "8357e98f",
   "metadata": {},
   "source": [
    "## Semantic modeling"
   ]
  },
  {
   "cell_type": "markdown",
   "id": "9b8ee30c",
   "metadata": {},
   "source": [
    "To model the semantic space underlying the MIA-Euronews Corpus, I applied a standard word2vector model <cite data-cite=\"14123371/P5F3GFFK\"></cite>. First, I represented the corpus with a TF-IDF model and then trained the word2vector model (“Scoring, Term Weighting, and the Vector Space Model,” 2008). To identify terms semantically related to words denoting women, I used cosine similarity. I projected the semantic space into two dimensions with the help of Uniform Manifold Approximation and Projection <cite data-cite=\"14123371/RQKEYHQP\"></cite>."
   ]
  },
  {
   "cell_type": "markdown",
   "id": "87bfa37b",
   "metadata": {},
   "source": [
    "# Data Availability"
   ]
  },
  {
   "cell_type": "markdown",
   "id": "4aa3e032",
   "metadata": {},
   "source": [
    "The data used for this research is freely and publicly available in the MIA database of the Medici Archive Project ([http://mia.medici.org/](http://mia.medici.org/))."
   ]
  },
  {
   "cell_type": "markdown",
   "id": "b6ded8d6",
   "metadata": {},
   "source": [
    "# Funding"
   ]
  },
  {
   "cell_type": "markdown",
   "id": "c45bb2c2",
   "metadata": {},
   "source": [
    "This research was funded by the Irish Research Council."
   ]
  },
  {
   "cell_type": "markdown",
   "id": "b50368c7",
   "metadata": {},
   "source": [
    "# Acknowledgements"
   ]
  },
  {
   "cell_type": "markdown",
   "id": "b6c2b581",
   "metadata": {},
   "source": [
    "The author is thankful to the researchers who accomplished the transcriptions of news sheets in the MIA-Euronews Corpus and made them publicly available in the MIA database. The author is also thankful to Alessio Assionitis, the director of the Medici Archive Project, and to Brendan Dooley, the Principal Investigator of the Euronews Project, for facilitating this research. The author is especially grateful to the research team of the Euronews Project for their contribution to the MIA-Euronews Corpus: Davie Boerio, Wouter Kreuze, Sara Mansutti, Carlotta Paltrinieri, and Lorenzo Allori. The author is specially thankful to Davide Boerio for calling his attention on the story of woman ambassador."
   ]
  },
  {
   "cell_type": "markdown",
   "id": "70f140c6",
   "metadata": {},
   "source": [
    "# Bibliography"
   ]
  },
  {
   "cell_type": "markdown",
   "id": "d6639d72",
   "metadata": {},
   "source": [
    "<div class=\"cite2c-biblio\"></div>"
   ]
  }
 ],
 "metadata": {
  "celltoolbar": "Tags",
  "cite2c": {
   "citations": {
    "14123371/27AKK3NB": {
     "ISBN": "UVA:X000846383",
     "editor": [
      {
       "family": "Pavone",
       "given": "C."
      }
     ],
     "event-place": "Rome",
     "id": "14123371/27AKK3NB",
     "issued": {
      "year": 1983
     },
     "publisher": "Ministero per i beni culturali e ambientali, Ufficio centrale per i beni archivistici",
     "publisher-place": "Rome",
     "title": "Guida generale degli archivi di Stato italiani",
     "type": "book",
     "volume": "II (F-M)"
    },
    "14123371/3EPZQA95": {
     "ISBN": "978-0-521-73182-9",
     "author": [
      {
       "family": "Meyn",
       "given": "Sean"
      },
      {
       "family": "Tweedie",
       "given": "Richard L."
      }
     ],
     "id": "14123371/3EPZQA95",
     "issued": {
      "month": 4,
      "year": 2009
     },
     "publisher": "Cambridge University Press",
     "title": "Markov chains and stochastic stability",
     "type": "book"
    },
    "14123371/3FLLGXTK": {
     "ISBN": "0-8039-5381-X",
     "author": [
      {
       "family": "Mooney",
       "given": "Christopher Z."
      },
      {
       "family": "Mooney",
       "given": "Christopher F."
      },
      {
       "family": "Mooney",
       "given": "Christopher L."
      },
      {
       "family": "Duval",
       "given": "Robert D."
      },
      {
       "family": "Duvall",
       "given": "Robert"
      }
     ],
     "id": "14123371/3FLLGXTK",
     "issued": {
      "month": 8,
      "year": 1993
     },
     "publisher": "SAGE",
     "title": "Bootstrapping: A nonparametric approach to statistical inference",
     "type": "book"
    },
    "14123371/4Y5IPFUQ": {
     "DOI": "10.1038/nmeth.3335",
     "author": [
      {
       "family": "Puga",
       "given": "Jorge López"
      },
      {
       "family": "Krzywinski",
       "given": "Martin"
      },
      {
       "family": "Altman",
       "given": "Naomi"
      }
     ],
     "container-title": "Nature Methods",
     "id": "14123371/4Y5IPFUQ",
     "issue": "4",
     "issued": {
      "month": 3,
      "year": 2015
     },
     "page": "277–278",
     "page-first": "277",
     "title": "Bayes’ theorem",
     "type": "article-journal",
     "volume": "12"
    },
    "14123371/6ZGYXXI9": {
     "ISBN": "0-521-63875-5",
     "author": [
      {
       "family": "Barry",
       "given": "Jonathan"
      },
      {
       "family": "Hester",
       "given": "Marianne"
      },
      {
       "family": "Roberts",
       "given": "Gareth"
      }
     ],
     "id": "14123371/6ZGYXXI9",
     "issued": {
      "month": 3,
      "year": 1998
     },
     "publisher": "Cambridge University Press",
     "title": "Witchcraft in Early Modern Europe: Studies in culture and belief",
     "type": "book"
    },
    "14123371/8RKKSR7C": {
     "ISBN": "0-271-04263-X",
     "author": [
      {
       "family": "Hardwick",
       "given": "Julie"
      }
     ],
     "id": "14123371/8RKKSR7C",
     "issued": {
      "month": 11,
      "year": 2010
     },
     "publisher": "Penn State Press",
     "title": "Practice of patriarchy: Gender and the politics of household authority in early modern France",
     "type": "book"
    },
    "14123371/ADTRIRVX": {
     "ISBN": "978-1-139-43511-6",
     "author": [
      {
       "family": "Walker",
       "given": "Garthine"
      }
     ],
     "id": "14123371/ADTRIRVX",
     "issued": {
      "month": 6,
      "year": 2003
     },
     "publisher": "Cambridge University Press",
     "title": "Crime, gender and social order in early modern England",
     "type": "book"
    },
    "14123371/BI7JMMQL": {
     "ISBN": "UOM:39015025916266",
     "author": [
      {
       "family": "Firenze",
       "given": "Archivio di Stato di"
      }
     ],
     "id": "14123371/BI7JMMQL",
     "issued": {
      "year": 1966
     },
     "title": "Archivio mediceo del Principato: Inventario sommario",
     "type": "book"
    },
    "14123371/C6LGWEUN": {
     "URL": "http://dx.doi.org/10.1093/acprof:oso/9780198527688.003.0001",
     "author": [
      {
       "family": "Bini",
       "given": "D. A."
      },
      {
       "family": "Latouche",
       "given": "G."
      },
      {
       "family": "Meini",
       "given": "B."
      }
     ],
     "container-title": "Numerical Methods for Structured Markov Chains",
     "id": "14123371/C6LGWEUN",
     "issued": {
      "month": 2,
      "year": 2005
     },
     "page": "3–22",
     "page-first": "3",
     "publisher": "Oxford University PressOxford",
     "title": "INTRODUCTION TO MARKOV CHAINS",
     "type": "chapter"
    },
    "14123371/C9YWKU9W": {
     "ISBN": "STANFORD:36105029881344",
     "author": [
      {
       "family": "Infelise",
       "given": "Mario"
      }
     ],
     "id": "14123371/C9YWKU9W",
     "issued": {
      "year": 2002
     },
     "title": "Prima dei giornali: Alle origini della pubblica informazione, secoli XVI e XVII",
     "type": "book"
    },
    "14123371/DNJG2PAA": {
     "ISBN": "978-951-858-156-0",
     "author": [
      {
       "family": "Droste",
       "given": "Heiko"
      },
      {
       "family": "Salmi-Niklander",
       "given": "Kirsti"
      }
     ],
     "id": "14123371/DNJG2PAA",
     "issued": {
      "month": 11,
      "year": 2019
     },
     "publisher": "BoD - Books on Demand",
     "title": "Handwritten newspapers: An alternative medium during the early modern and modern periods",
     "type": "book"
    },
    "14123371/DSZ34NVF": {
     "ISBN": "OCLC:609789371",
     "author": [
      {
       "family": "Harris",
       "given": "Zellig Sabbettai"
      }
     ],
     "id": "14123371/DSZ34NVF",
     "issued": {
      "year": 1954
     },
     "title": "Distributional structure",
     "type": "book"
    },
    "14123371/EG2Q7AVT": {
     "ISBN": "978-1-108-49699-5",
     "author": [
      {
       "family": "Wiesner-Hanks",
       "given": "Merry E."
      }
     ],
     "id": "14123371/EG2Q7AVT",
     "issued": {
      "month": 1,
      "year": 2019
     },
     "publisher": "Cambridge University Press",
     "title": "Women and gender in early modern europe",
     "type": "book"
    },
    "14123371/ENB8JPD5": {
     "ISBN": "0-521-22323-7",
     "author": [
      {
       "family": "Flandrin",
       "given": "Jean Louis"
      }
     ],
     "id": "14123371/ENB8JPD5",
     "issued": {
      "month": 6,
      "year": 1979
     },
     "publisher": "Cambridge University Press",
     "title": "Families in former times",
     "type": "book"
    },
    "14123371/I2G6YMGM": {
     "ISBN": "978-1-134-63074-5",
     "author": [
      {
       "family": "Baron",
       "given": "Sabrina Alcorn"
      },
      {
       "family": "Dooley",
       "given": "Brendan"
      }
     ],
     "id": "14123371/I2G6YMGM",
     "issued": {
      "month": 7,
      "year": 2005
     },
     "publisher": "Routledge",
     "title": "The politics of information in early modern Europe",
     "type": "book"
    },
    "14123371/IE4PH3CB": {
     "ISBN": "978-1-4443-0797-9",
     "author": [
      {
       "family": "Wittgenstein",
       "given": "Ludwig"
      }
     ],
     "id": "14123371/IE4PH3CB",
     "issued": {
      "month": 3,
      "year": 2010
     },
     "publisher": "John Wiley & Sons",
     "title": "Philosophical investigations",
     "type": "book"
    },
    "14123371/JKKJM8EU": {
     "ISBN": "978-3-642-62015-7",
     "author": [
      {
       "family": "Chung",
       "given": "Kai Lai"
      }
     ],
     "id": "14123371/JKKJM8EU",
     "issued": {
      "month": 12,
      "year": 2012
     },
     "publisher": "Springer Science & Business Media",
     "title": "Markov chains: With stationary transition probabilities",
     "type": "book"
    },
    "14123371/L9CZRPZQ": {
     "URL": "http://dx.doi.org/10.1163/9789004277199_032",
     "author": [
      {
       "family": "Barker",
       "given": "Sheila"
      }
     ],
     "container-title": "News Networks in Early Modern Europe",
     "editor": [
      {
       "family": "Raymond",
       "given": "Joed"
      },
      {
       "family": "Moxham",
       "given": "Noah"
      }
     ],
     "id": "14123371/L9CZRPZQ",
     "issued": {
      "month": 1,
      "year": 2016
     },
     "page": "716–738",
     "page-first": "716",
     "publisher": "BRILL",
     "title": "‘Secret and Uncertain’: A history of Avvisi at the court of the medici grand dukes",
     "type": "chapter"
    },
    "14123371/LYRC68NN": {
     "ISBN": "0-7456-0840-X",
     "author": [
      {
       "family": "Mączak",
       "given": "Antoni"
      }
     ],
     "id": "14123371/LYRC68NN",
     "issued": {
      "year": 1995
     },
     "publisher": "John Wiley & Sons",
     "title": "Travel in early modern Europe",
     "type": "book"
    },
    "14123371/P5F3GFFK": {
     "URL": "http://dx.doi.org/10.21437/interspeech.2010-343",
     "author": [
      {
       "family": "Mikolov",
       "given": "Tomáš"
      },
      {
       "family": "Karafiát",
       "given": "Martin"
      },
      {
       "family": "Burget",
       "given": "Lukáš"
      },
      {
       "family": "Černocký",
       "given": "Jan"
      },
      {
       "family": "Khudanpur",
       "given": "Sanjeev"
      }
     ],
     "container-title": "Interspeech 2010",
     "event-place": "ISCA",
     "id": "14123371/P5F3GFFK",
     "issued": {
      "month": 9,
      "year": 2010
     },
     "publisher": "ISCA",
     "publisher-place": "ISCA",
     "title": "Recurrent neural network based language model",
     "type": "paper-conference"
    },
    "14123371/Q2467ZE9": {
     "URL": "http://dx.doi.org/10.1017/9781108755528.004",
     "author": [
      {
       "family": "Blum",
       "given": "Avrim"
      }
     ],
     "container-title": "Foundations of Data Science",
     "id": "14123371/Q2467ZE9",
     "issued": {
      "month": 1,
      "year": 2020
     },
     "page": "62–108",
     "page-first": "62",
     "publisher": "Cambridge University Press",
     "title": "Random walks and markov chains",
     "type": "chapter"
    },
    "14123371/Q73WEBWI": {
     "DOI": "10.1016/0024-3841(49)90085-6",
     "author": [
      {
       "family": "Firth",
       "given": "J.R."
      }
     ],
     "container-title": "Lingua",
     "id": "14123371/Q73WEBWI",
     "issued": {
      "year": 1949
     },
     "page": "393–404",
     "page-first": "393",
     "title": "The semantics of linguistic science",
     "type": "article-journal",
     "volume": "1"
    },
    "14123371/QUFFHSCV": {
     "DOI": "10.1162/coli_a_00016",
     "author": [
      {
       "family": "Baroni",
       "given": "Marco"
      },
      {
       "family": "Lenci",
       "given": "Alessandro"
      }
     ],
     "container-title": "Computational Linguistics",
     "id": "14123371/QUFFHSCV",
     "issue": "4",
     "issued": {
      "month": 12,
      "year": 2010
     },
     "page": "673–721",
     "page-first": "673",
     "title": "Distributional memory: A general framework for corpus-based semantics",
     "type": "article-journal",
     "volume": "36"
    },
    "14123371/QV4LV2AA": {
     "ISBN": "978-0-19-927060-6",
     "author": [
      {
       "family": "Froide",
       "given": "Amy M."
      }
     ],
     "id": "14123371/QV4LV2AA",
     "issued": {
      "month": 2,
      "year": 2005
     },
     "publisher": "Oxford University Press",
     "title": "Never married: Singlewomen in early modern england",
     "type": "book"
    },
    "14123371/RQKEYHQP": {
     "DOI": "10.21105/joss.00861",
     "author": [
      {
       "family": "McInnes",
       "given": "Leland"
      },
      {
       "family": "Healy",
       "given": "John"
      },
      {
       "family": "Saul",
       "given": "Nathaniel"
      },
      {
       "family": "Großberger",
       "given": "Lukas"
      }
     ],
     "container-title": "Journal of Open Source Software",
     "id": "14123371/RQKEYHQP",
     "issue": "29",
     "issued": {
      "month": 9,
      "year": 2018
     },
     "page": "861",
     "page-first": "861",
     "title": "UMAP: Uniform manifold approximation and projection",
     "type": "article-journal",
     "volume": "3"
    },
    "14123371/SSU5AKJG": {
     "ISBN": "OCLC:233637829",
     "author": [
      {
       "family": "Papoulis",
       "given": "Athanasios"
      }
     ],
     "id": "14123371/SSU5AKJG",
     "issued": {
      "year": 1965
     },
     "title": "Probability, random variables, and stochastic processes: Solutions to the problems in probability, random variables and stochastic processes",
     "type": "book"
    },
    "14123371/SWZQ7BFG": {
     "URL": "http://dx.doi.org/10.1163/9789004277199_012",
     "author": [
      {
       "family": "Ettinghausen",
       "given": "Henry"
      }
     ],
     "container-title": "News Networks in Early Modern Europe",
     "id": "14123371/SWZQ7BFG",
     "issued": {
      "month": 1,
      "year": 2016
     },
     "page": "261–279",
     "page-first": "261",
     "publisher": "BRILL",
     "title": "International relations: Spanish, Italian, French, English and German printed single event newsletters prior to renaudot’s gazette",
     "type": "chapter"
    },
    "14123371/T6CNXASM": {
     "ISBN": "2-85816-361-8",
     "author": [
      {
       "family": "Dolan",
       "given": "Claire"
      }
     ],
     "id": "14123371/T6CNXASM",
     "issued": {
      "year": 1998
     },
     "publisher": "Presses Univ. du Mirail",
     "title": "Le notaire, la famille et la ville: Aix-en-Provence à la fin du XVIe siècle",
     "type": "book"
    },
    "14123371/T8QUN2KM": {
     "DOI": "10.1214/aos/1176350061",
     "author": [
      {
       "family": "Lo",
       "given": "Albert Y."
      }
     ],
     "container-title": "The Annals of Statistics",
     "id": "14123371/T8QUN2KM",
     "issue": "3",
     "issued": {
      "month": 9,
      "year": 1986
     },
     "title": "Bayesian statistical inference for sampling a finite population",
     "type": "article-journal",
     "volume": "14"
    },
    "14123371/URZW6Q9G": {
     "ISBN": "0-674-95520-X",
     "author": [
      {
       "family": "Davis",
       "given": "Henry Charles Lea Professor of History Emeritus Natalie Zemon"
      },
      {
       "family": "Davis",
       "given": "Natalie Zemon"
      }
     ],
     "id": "14123371/URZW6Q9G",
     "issued": {
      "year": 1995
     },
     "publisher": "Harvard University Press",
     "title": "Women on the Margins: Three seventeenth-century lives",
     "type": "book"
    },
    "14123371/UYSIAQ49": {
     "ISBN": "978-3-540-44125-0",
     "author": [
      {
       "family": "Hinrichsen",
       "given": "Diederich"
      },
      {
       "family": "Pritchard",
       "given": "Anthony J."
      }
     ],
     "id": "14123371/UYSIAQ49",
     "issued": {
      "month": 8,
      "year": 2011
     },
     "publisher": "Springer Science & Business Media",
     "title": "Mathematical systems theory I: Modelling, state space analysis, stability and robustness",
     "type": "book"
    },
    "14123371/VUNYRXSG": {
     "ISBN": "0-271-04212-5",
     "author": [
      {
       "family": "Benson",
       "given": "Pamela Joseph"
      }
     ],
     "id": "14123371/VUNYRXSG",
     "issued": {
      "month": 11,
      "year": 2010
     },
     "publisher": "Penn State Press",
     "title": "Invention of the Renaissance Woman: The Challenge of Female Independence in the Literature and Thought of Italy and England",
     "type": "book"
    },
    "14123371/WI9Z4FWN": {
     "ISBN": "978-3-05-005159-8",
     "author": [
      {
       "family": "Bauer",
       "given": "Oswald"
      }
     ],
     "id": "14123371/WI9Z4FWN",
     "issued": {
      "month": 7,
      "year": 2011
     },
     "publisher": "Oldenbourg Verlag",
     "title": "Zeitungen vor der Zeitung: Die Fuggerzeitungen (1568-1605) und das frühmoderne Nachrichtensystem",
     "type": "book"
    },
    "14123371/XTI8JBV7": {
     "ISBN": "978-1-78816-344-6",
     "author": [
      {
       "family": "Weduwen",
       "given": "Arthur der"
      },
      {
       "family": "Pettegree",
       "given": "Andrew"
      }
     ],
     "id": "14123371/XTI8JBV7",
     "issued": {
      "month": 10,
      "year": 2021
     },
     "publisher": "Profile Books",
     "title": "The library: A fragile history",
     "type": "book"
    },
    "14123371/YUIGK4W8": {
     "ISBN": "978-90-04-27686-4",
     "author": [
      {
       "family": "Davies",
       "given": "Simon"
      },
      {
       "family": "Fletcher",
       "given": "Puck"
      }
     ],
     "id": "14123371/YUIGK4W8",
     "issued": {
      "month": 7,
      "year": 2014
     },
     "publisher": "BRILL",
     "title": "News in Early Modern Europe: Currents and Connections",
     "type": "book"
    },
    "14123371/ZLSFSNT7": {
     "ISBN": "978-0-471-66719-3",
     "URL": "https://onlinelibrary.wiley.com/doi/abs/10.1002/0471667196.ess0225.pub2",
     "accessed": {
      "day": 8,
      "month": 2,
      "year": 2023
     },
     "container-title": "Encyclopedia of Statistical Sciences",
     "id": "14123371/ZLSFSNT7",
     "issued": {
      "year": 2006
     },
     "language": "en",
     "note": "_eprint: https://onlinelibrary.wiley.com/doi/pdf/10.1002/0471667196.ess0225.pub2\nDOI: 10.1002/0471667196.ess0225.pub2",
     "publisher": "John Wiley & Sons, Ltd",
     "title": "Chapman–Kolmogorov Equation",
     "type": "chapter"
    },
    "undefined": {
     "ISBN": "UOM:39015025916266",
     "author": [
      {
       "family": "Firenze",
       "given": "Archivio di Stato di"
      }
     ],
     "id": "undefined",
     "issued": {
      "year": 1966
     },
     "title": "Archivio mediceo del Principato: Inventario sommario",
     "type": "book"
    }
   }
  },
  "kernelspec": {
   "display_name": "Python 3 (ipykernel)",
   "language": "python",
   "name": "python3"
  },
  "language_info": {
   "codemirror_mode": {
    "name": "ipython",
    "version": 3
   },
   "file_extension": ".py",
   "mimetype": "text/x-python",
   "name": "python",
   "nbconvert_exporter": "python",
   "pygments_lexer": "ipython3",
   "version": "3.7.13"
  },
  "toc": {
   "base_numbering": 1,
   "nav_menu": {},
   "number_sections": true,
   "sideBar": true,
   "skip_h1_title": false,
   "title_cell": "Table of Contents",
   "title_sidebar": "Contents",
   "toc_cell": false,
   "toc_position": {},
   "toc_section_display": true,
   "toc_window_display": false
  },
  "varInspector": {
   "cols": {
    "lenName": 16,
    "lenType": 16,
    "lenVar": 40
   },
   "kernels_config": {
    "python": {
     "delete_cmd_postfix": "",
     "delete_cmd_prefix": "del ",
     "library": "var_list.py",
     "varRefreshCmd": "print(var_dic_list())"
    },
    "r": {
     "delete_cmd_postfix": ") ",
     "delete_cmd_prefix": "rm(",
     "library": "var_list.r",
     "varRefreshCmd": "cat(var_dic_list()) "
    }
   },
   "types_to_exclude": [
    "module",
    "function",
    "builtin_function_or_method",
    "instance",
    "_Feature"
   ],
   "window_display": false
  }
 },
 "nbformat": 4,
 "nbformat_minor": 5
}
