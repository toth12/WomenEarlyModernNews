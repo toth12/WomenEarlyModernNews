{
 "cells": [
  {
   "cell_type": "markdown",
   "id": "e5b40e86",
   "metadata": {
    "tags": [
     "title"
    ]
   },
   "source": [
    "# Women in Early Modern Handwritten News: Random Walks and Semantic Wanderings in the Medici Archive"
   ]
  },
  {
   "cell_type": "markdown",
   "id": "8dc7164f",
   "metadata": {
    "tags": [
     "contributor"
    ]
   },
   "source": [
    "### anonym\n",
    "\n"
   ]
  },
  {
   "cell_type": "markdown",
   "id": "640611ad",
   "metadata": {
    "tags": [
     "copyright"
    ]
   },
   "source": [
    "[![cc-by-nc-nd](https://licensebuttons.net/l/by-nc-nd/4.0/88x31.png)](https://creativecommons.org/licenses/by-nc-nd/4.0/) \n",
    "©<AUTHOR or ORGANIZATION / FUNDER>. Published by De Gruyter in cooperation with the University of Luxembourg Centre for Contemporary and Digital History. This is an Open Access article distributed under the terms of the [Creative Commons Attribution License CC-BY-NC-ND](https://creativecommons.org/licenses/by-nc-nd/4.0/)"
   ]
  },
  {
   "cell_type": "markdown",
   "id": "77b29086",
   "metadata": {},
   "source": [
    "Abbreviations:"
   ]
  },
  {
   "cell_type": "markdown",
   "id": "74dffb24",
   "metadata": {},
   "source": [
    "- ASF MdP: Archivio di Stato di Firenze, Fondo Mediceo del Principato"
   ]
  },
  {
   "cell_type": "markdown",
   "id": "a83cd8eb",
   "metadata": {
    "tags": [
     "keywords"
    ]
   },
   "source": [
    "early modern history, media history, simulation, gender, manuscript news, semantic modelling, Bayesian inference"
   ]
  },
  {
   "cell_type": "markdown",
   "id": "61fb72e7",
   "metadata": {},
   "source": [
    "**Abstract**"
   ]
  },
  {
   "cell_type": "markdown",
   "id": "e846017f",
   "metadata": {
    "tags": [
     "abstract"
    ]
   },
   "source": [
    "Early modern Europe witnessed an unprecedented revolution in information culture. This gave rise to new means of communication that include handwritten news sheets. Throughout the 16th and 17th century information circulated in the form of regular manuscript newsletters. Even though these newsletters had a significant impact on European history, their study has remained challenging. Most of the once existing news sheets did not survive. Those news sheets that survived are dispersed in different collections of the world. These collections are just random and incomplete samples from the once existing corpus of handwritten news. How can we unlock and study the lost early modern corpus of handwritten news? To tackle this problem, this study draws on various methods applied in dynamic system modeling and AI (Bootstrapping, Markovian simulation, and Random Walks), as well as on Bayesian statistics and semantic modeling. Precisely, the paper investigates a collection of one thousand Italian manuscript newsletters from the Medici Archive (today part of the Florentine State Archive) with a focus on the presence and the perception of women in the news. First, it discusses how loss and incompleteness generate the randomness of archival assets. Second, it offers an accessible introduction into an array of methods that natural sciences and AI apply to tackle randomness and incompleteness. Third, by analyzing the representation and presence of women in early modern news, the paper presents these methods in action."
   ]
  },
  {
   "cell_type": "markdown",
   "id": "c6ba0dfa",
   "metadata": {},
   "source": [
    "## Introduction"
   ]
  },
  {
   "cell_type": "markdown",
   "id": "517b9942",
   "metadata": {},
   "source": [
    "### Background"
   ]
  },
  {
   "cell_type": "markdown",
   "id": "fa3a8bfa",
   "metadata": {},
   "source": [
    "In February 1600 a seemingly peculiar news reached the Medici court in Florence: a woman ambassador from Persia arrived at the Ottoman court in Constantinople. The short report about her arrival came as part of a handwritten news sheet compiled in Wien (ASF MdP, 3087). How did contemporary news mongers receive this news? Were they surprised? Or was reading about a woman who acted decisively and boldly a common experience for early modern news consumers?"
   ]
  },
  {
   "cell_type": "markdown",
   "id": "6615a488",
   "metadata": {},
   "source": [
    "Answering these questions is not easy. Early modern Europe witnessed an information revolution featured - in part - by the continual circulation of handwritten news sheets (<cite data-cite=\"14123371/DNJG2PAA\"></cite>, <cite data-cite=\"14123371/YUIGK4W8\"></cite>). Later, from the early 1600s, handwritten news sheets were complemented with printed news, though handwritten news continued to play an important role until the mid 18th century. News were collected in large urban centers (henceforth, news hubs) of the continent by semi-professional newsagents; they assembled single news items into handwritten news sheets <cite data-cite=\"14123371/DNJG2PAA\"></cite>. Hence each news sheet is a consecutive sequence of news items that are organized into separate paragraphs. News agents, who could be postmasters, merchants or even diplomats and ambassadors residing abroad, sold their news sheets to a great variety of customers including ducal courts and merchant houses such as for instance the grand ducal court of the Medici in Florence and the Fuggers in Augsburg (<cite data-cite=\"14123371/C9YWKU9W\"></cite>,<cite data-cite=\"14123371/WI9Z4FWN\"></cite>). These news sheets were usually compiled in the native language of the customers; hence, the Medici received most of the news sheets in Italian and the Fuggers mainly read news in German. What types of information handwritten news sheets spread about women have not been studied. Hence it remains difficult to judge to which extent the story of the woman ambassador was a genuine novelty for contemporary readers."
   ]
  },
  {
   "cell_type": "markdown",
   "id": "8ed15bf1",
   "metadata": {},
   "source": [
    "Scholarship on women history cannot offer an answer either. Recent scholarship focusing on early modern women history studied the representation of women in a great variety of sources, including letters, literary works, and court records. For instance, topics, social activities and roles associated with early modern women have been studied  (<cite data-cite=\"14123371/92BVCMAX\"></cite>; <cite data-cite=\"14123371/GLQDXGC6\"></cite>). Recent scholarship of women's history has also challenged the traditional perception of early modern women as passive protagonists of history (<cite data-cite=\"14123371/EG2Q7AVT\"></cite>). Through the systematic study of historical records, historians have uncovered different areas of woman agency and pointed out that woman agency was not altogether exceptional. Women agency manifested in specific domains of knowledge and skills such as medicine and household management (<cite data-cite=\"14123371/VUNYRXSG\"></cite>;<cite data-cite=\"14123371/YUIGK4W8\"></cite>; <cite data-cite=\"14123371/URZW6Q9G\"></cite>). Women did engage with political and material culture, as well as with knowledge production and they did shape the course of history. Throughout the early modern period there were a number of powerful women, such as for instance the English queen Elisabeth I. (1558 - 1603), who ruled entire countries. However, students of women’s history have not surveyed handwritten news. We do not therefore know what representations of womanhood were conveyed in this important group of historical sources. This paper aims to contribute to women’s history by addressing this lacuna. \n"
   ]
  },
  {
   "cell_type": "markdown",
   "id": "b8d05c01",
   "metadata": {},
   "source": [
    "The lack of studies investigating women’s representation in early modern handwritten news is due to the fact that these sources were not easy to research until not long ago. Most of the surviving news sheets remained unpublished and untranscribed in various archives and libraries of the world. Recently, thanks to the Euronews Project (https://euronewsproject.org) funded by the Irish Research Council and to the Medici Archive Project (https://www.medici.org/) funded by the Mellon Foundation, a large selection of transcribed Italian language handwritten news sheets (a corpus of approximately 1250 news sheets and 10800 individual news items, see the description of data set below) from the Florentine State Archive became publicly available on the MIA platform and database (https://mia.medici.org/, last accessed 1 February, 2024). In this essay I will investigate this selection and I will refer to it as the MIA-Euronews Corpus. Specifically, the main focus of my investigation will be women and their representation in early modern handwritten news sheets."
   ]
  },
  {
   "cell_type": "markdown",
   "id": "0638f4b0",
   "metadata": {},
   "source": [
    "However, this paper also has another key focus: methodology and historiography of early modern handwritten news sheets. The MIA-Euronews Corpus is just an immense and not representative sample of handwritten news sheets that once circulated in early modern Europe. Given that no explicit principles were followed by the team who aggregated it, the MIA-Euronews Corpus is a random and somewhat ad hoc snapshot of the vivid early modern news culture. In this sense, the MIA-Euronews Corpus represents very well the heart of the methodological and historical problem that the study of the early modern handwritten news sheet market involves: the totality of early modern handwritten news sheets perished; today there is a lost whole of these documents; as a result historians can only work with incomplete snapshots. Since most of the time factors determining which news sheets survived and which ones perished are unknown, the existing news sheet collections seem to be random samples from the lost whole. This leads to an important methodological and historiographical question I will address as the secondary focus of my paper: how can we explore a random sample of historical documents and say something about the original and lost document collection from which the random sample comes from? As part of the second focus of this paper, I will show that we can still discover how randomness of incomplete samples (from a lost whole) works, and based on this we can make inferences about the lost whole itself.\n"
   ]
  },
  {
   "cell_type": "markdown",
   "id": "fd55c66c",
   "metadata": {},
   "source": [
    "The surveying of lost historical documents and collections has recently become an important area of historical research. Historians and digital humanists have adopted methods from ecology and Bayesian statistics to gather information about the size of once existing document collections (<cite data-cite=\"14123371/7VYWEYJC\"></cite>;<cite data-cite=\"14123371/79VHQSU7\"></cite>;<cite data-cite=\"14123371/HCD6U8AY\"></cite>). For instance, Mike Kestemont et al. have applied the so-called unseen species model to study the loss of medieval narratives (<cite data-cite=\"14123371/HCD6U8AY\"></cite>). This paper aims to contribute to this novel area of study, though its aim is not to gauge the volume of once circulating early modern handwritten news sheets; it rather aims to gather insights into the content of these lost documents. \n"
   ]
  },
  {
   "cell_type": "markdown",
   "id": "560ee31d",
   "metadata": {},
   "source": [
    "Due to the importance of the methodology underlying this paper, a significant amount of space will be devoted to methodology, specifically to the discussion of randomness and sampling. As part of this discussion in the first part of the paper, I will outline the methodology (Random Walks, Markovian simulation, Bayesian inference and semantic modeling) I applied to address randomness; I will keep my explanation accessible to non-specialist audiences and draw on a simplified thought experiment. The goal of this thought experiment is to enable readers with limited or no experience in statistics and computational modeling to form a basic idea of the methodology applied. An indepth and technical discussion of the methodology will be presented in the section called Implementation, which follows the general conclusions of this paper.\n"
   ]
  },
  {
   "cell_type": "markdown",
   "id": "4da15c98",
   "metadata": {},
   "source": [
    "### Research questions"
   ]
  },
  {
   "cell_type": "markdown",
   "id": "c2b503a6",
   "metadata": {},
   "source": [
    "My research questions come from previous research that has studied the representation and agency of early modern women (<cite data-cite=\"14123371/KUDG2GZW\"></cite>; <cite data-cite=\"14123371/N2365VZ4\"></cite>). Previous studies addressed broader questions in the context of these themes. Here I address the same broader questions focusing on handwritten news. Did handwritten news perpetuate the essentially male order and dominance of early modern times? To which extent did news give space to women and women's action aiming to challenge the male order? However, these questions need to be translated into more specific questions that a data-driven exploration can answer. In other words, the main question of how women were represented in early modern handwritten news is to be operationalized through a number of more descriptive questions.  \n"
   ]
  },
  {
   "cell_type": "markdown",
   "id": "2cdf7e3d",
   "metadata": {},
   "source": [
    "First, how often did contemporary readers hear about women? This question implies further questions. Generally, who were the main characters in the news world of the early modern period? What was the social status of those women who occurred in the news? Second, if women appear in the news, in what context are they mentioned? In other words, what are those topics that are associated with women? Before answering this question, I will address the question, what are the main themes in the early modern news world? As a whole, answering these questions will help understand not only the presence and representation of women in early modern news; it will also offer fresh insights into the early modern handwritten news culture. \n"
   ]
  },
  {
   "cell_type": "markdown",
   "id": "8d8325c4",
   "metadata": {},
   "source": [
    "### Limitations of this study"
   ]
  },
  {
   "cell_type": "markdown",
   "id": "fd6792ac",
   "metadata": {},
   "source": [
    "The new sheets I worked with  cover a period of 200 years (see Figure 1 ) and they arrived from a great variety of source locations (see Figure 2). These 200 years mark a particularly tumultuous period of the old continent and beyond. The early modern period witnessed not only an information revolution but also other profound social and economic transformations and historical events: the discovery of the new world, the Reformation and subsequent religious divides, witch hunts and long lasting wars (30 year war, the war against the Ottoman Empire, etc). Despite the urgent need to study how the presence and the perception of women changed in space and time, the diachronic and synchronic analysis of the MIA-Euronews Corpus will be limited in this study. This is due to the fact that the corpus is not balanced; yet, as Figure 1 and Figure 2 demonstrate, news sheets available in the corpus are quite unevenly distributed in space and time. I will therefore limit the diachronic and synchronic approaches to the study of women’s presence or absence. In particular, I will compare the presence or absence of women in two periods (before and after 1600) and in the new sheets that came from the seven most important news hubs in the MIA-Euronews Corpus: London, Naples, Rome, Milan, Venice, Wien, Antwerp. By contrast, when studying the perception of women, I will treat the corpus as one monolithic whole without detailing regional differences; the diachronic and synchronic analysis of the women’s perception will be accomplished once a more balanced data will be available."
   ]
  },
  {
   "cell_type": "code",
   "execution_count": 1,
   "id": "cc76f56c",
   "metadata": {
    "ExecuteTime": {
     "end_time": "2023-06-21T10:20:04.282573Z",
     "start_time": "2023-06-21T10:20:04.274471Z"
    },
    "execution": {
     "iopub.execute_input": "2023-04-18T15:04:22.350449Z",
     "iopub.status.busy": "2023-04-18T15:04:22.349075Z",
     "iopub.status.idle": "2023-04-18T15:04:22.365843Z",
     "shell.execute_reply": "2023-04-18T15:04:22.365140Z"
    },
    "tags": [
     "figure-1"
    ]
   },
   "outputs": [
    {
     "data": {
      "image/png": "[encoded data removed]",
      "text/plain": [
       "<IPython.core.display.Image object>"
      ]
     },
     "metadata": {
      "jdh": {
       "module": "object",
       "object": {
        "source": [
         "Figure 1. The temporal distribution of news sheets in the MIA-Euronews Corpus"
        ],
        "type": "image"
       }
      }
     },
     "output_type": "display_data"
    }
   ],
   "source": [
    "from IPython.display import Image\n",
    "metadata = {\n",
    "    \"jdh\": {\n",
    "        \"module\": \"object\",\n",
    "        \"object\": {\n",
    "            \"source\": [\n",
    "                \"Figure 1. The temporal distribution of news sheets in the MIA-Euronews Corpus\"\n",
    "            ],\n",
    "            \"type\":\n",
    "            \"image\"\n",
    "        }\n",
    "    }\n",
    "}\n",
    "display(Image('media/image19.png'), metadata=metadata)"
   ]
  },
  {
   "cell_type": "code",
   "execution_count": 2,
   "id": "dd9afa85",
   "metadata": {
    "ExecuteTime": {
     "end_time": "2023-06-21T10:16:01.029062Z",
     "start_time": "2023-06-21T10:16:01.021004Z"
    },
    "execution": {
     "iopub.execute_input": "2023-04-18T15:04:22.373075Z",
     "iopub.status.busy": "2023-04-18T15:04:22.371916Z",
     "iopub.status.idle": "2023-04-18T15:04:22.378260Z",
     "shell.execute_reply": "2023-04-18T15:04:22.377558Z"
    },
    "tags": [
     "figure-2"
    ]
   },
   "outputs": [
    {
     "data": {
      "image/png": "[encoded data removed]",
      "text/plain": [
       "<IPython.core.display.Image object>"
      ]
     },
     "metadata": {
      "jdh": {
       "module": "object",
       "object": {
        "source": [
         "Figure 2. The fifteen most frequent news hubs in the transcribed news sheet corpus in the MIA-Euronews Corpus"
        ],
        "type": "image"
       }
      }
     },
     "output_type": "display_data"
    }
   ],
   "source": [
    "metadata = {\n",
    "    \"jdh\": {\n",
    "        \"module\": \"object\",\n",
    "        \"object\": {\n",
    "            \"source\": [\n",
    "                \"Figure 2. The fifteen most frequent news hubs in the transcribed news sheet corpus in the MIA-Euronews Corpus\"\n",
    "            ],\n",
    "            \"type\":\n",
    "            \"image\"\n",
    "        }\n",
    "    }\n",
    "}\n",
    "display(Image('media/image6.png'),metadata=metadata)"
   ]
  },
  {
   "cell_type": "markdown",
   "id": "8f7b7d88",
   "metadata": {},
   "source": [
    "## Methodology"
   ]
  },
  {
   "cell_type": "markdown",
   "id": "c91b58fd",
   "metadata": {},
   "source": [
    "### The random walker"
   ]
  },
  {
   "cell_type": "markdown",
   "id": "e70556e0",
   "metadata": {},
   "source": [
    "The story of the boldly acting woman ambassador is a random finding by my colleague. This story is just one of those millions of stories that the so-called Mediceo del Principato preserves. The Mediceo del Principato is a gigantic archival division in the Florentine State Archive (<cite data-cite=\"14123371/27AKK3NB\"></cite>); it incorporates the Medici family’s major archive from the early modern period. Today, some 6500 archival units, which occupy approximately one and half kilometers of shelf space, form the core of the Mediceo del Principato. News sheets are dispersed through these 6500 archival units. To understand the problem of randomness and sampling, which are in the heart of this paper, consider the following thought experiment."
   ]
  },
  {
   "cell_type": "markdown",
   "id": "5db75d73",
   "metadata": {},
   "source": [
    "There is a person who is literally a random walker; he has two goals. First, he aims to discover the presence and absence of women in the lost corpus of early modern handwritten news sheets. Second, he would like to map those contexts in which women were mentioned and understand the representation of women in early modern handwritten news."
   ]
  },
  {
   "cell_type": "markdown",
   "id": "87324802",
   "metadata": {},
   "source": [
    "The random walker therefore decides to wander around in the physical spaces where the Mediceo del Principato is today housed. He keeps opening boxes and folders containing handwritten news sheets. He finds that sometimes women are mentioned in the news; sometimes there is silence on them. As the random walker continues to explore news sheets, he also finds that the type of information conveyed about women is in constant change. Sometimes women act boldly; sometimes they are passive agents of history; sometimes the random walker reads about noble women, sometimes he reads about peasant women. The random walker realizes that his effort to develop a firm understanding of women’s presence and representation in handwritten news is hampered by an uncertainty rising from many competing possibilities. With this uncertainty in mind, he concludes that the presence and the absence of women in news sheets, as well as the information about women, feature a high degree of randomness. At the same time, he understands that this randomness is not necessarily true randomness; his experience of randomness can be also due to the fact that he has incomplete information about the history of the Medici Archive, as well as about early modern women and news in general."
   ]
  },
  {
   "cell_type": "markdown",
   "id": "e5a221bd",
   "metadata": {},
   "source": [
    "The ‘experience’ of randomness and uncertainty that the thought experiment demonstrates is common among historians working with vast amounts of documents in archives and libraries. Archival research often depends on chance and in the presence of many possibilities it is difficult to build a firm historical knowledge. Chris Wicham, an eminent historian of early medieval Europe, summarized the randomness of archives and libraries in an interview:\n",
    "\n",
    ">Even in terms of going into a library – you see a whole series of books, shelved in a particular way, and that combination is random. The library as a whole is a random collection. The library, the archive in that respect is a bit like the physical world. (https://www.ox.ac.uk/research/research-in-conversation/randomness-and-order/chris-wickham, accessed 1 February, 2024)\n",
    "\n",
    "To which extent the randomness often experienced by historians working in archives is true or it is only due to the fact that no one has an overview of the complexity underlying millions of loosely organized documents is an open question. This paper views randomness as perceived and as a phenomenon that features unpredictability and uncertainty from the perspective of the posterity. How the true randomness of archives could be tested and distinguished from perceived randomness, i.e. from posteriority’s inability to understand the manifold causes and patterns underlying millions of documents, is subject of further research."
   ]
  },
  {
   "cell_type": "markdown",
   "id": "ab760809",
   "metadata": {},
   "source": [
    "We will continue the thought experiment and see how our random walker copes with uncertainties related to women’s presence and representation in early modern news. As the heart of the matter is the presence of many competing possibilities unearthed throughout an archival research, we will deal with computational methods capable of producing firm and tangible information in the face of many possibilities. Specifically, we will focus on three areas, presence and absence, narratives, semantics, and see how the behavior of randomness underlying many competing possibilities can be investigated and harnessed to build a stable knowledge. \n"
   ]
  },
  {
   "cell_type": "markdown",
   "id": "9a3a67d7",
   "metadata": {
    "tags": [
     "narrative"
    ]
   },
   "source": [
    "### Presence and absence of women"
   ]
  },
  {
   "cell_type": "markdown",
   "id": "9f05ff96",
   "metadata": {},
   "source": [
    "Next, the random worker focuses on women’s presence and absence in handwritten news. As a first step, he decides to discover the entire archive and keeps walking around until he has seen all the news sheets. He carefully notes which ones mention women and which ones are silent on them. Even though he now has a lot of information about women in the news, he realizes the problem I have already discussed: the collection of news sheets in the former Medici Archive is just an incomplete sample from a lost corpus. More importantly, this sample is not-representative; it is merely one possible snapshot of the original lost corpus, and in this sense it is biased."
   ]
  },
  {
   "cell_type": "markdown",
   "id": "ca7cef69",
   "metadata": {},
   "source": [
    "As a second step, the random walker modifies his strategy to discover the presence of women. He goes to the archive and randomly selects a sample of 100 news sheets. He notes how many of them mention at least one woman and continues to select further random samples of 100 news sheets. After each round he notes the percentage of news sheets mentioning women in the sub-sample and calculates the average percentage in all previously seen sub-samples. (Notice that the percentage actually indicates the probability of finding women in hundred randomly selected news sheets). The random walker keeps wandering around and repeating this task until he has seen all possible combinations of news sheets in the former Medici Archive. Since the number of possible combinations is extraordinarily large, his wandering will take almost forever. "
   ]
  },
  {
   "cell_type": "markdown",
   "id": "631222c1",
   "metadata": {},
   "source": [
    "However, by the end he has important insights into the presence of women in new sheets preserved in the Medici Archive. First, by uncovering the probability of finding women in a given random combination of news sheets, the random walker has an idea of ‘what would have happened’ if only this combination had survived; in other words, he knows the probability of women’s presence if only a given combination of news sheets were available today. Second, once his quest for all possible combinations exhausts, he knows about all possibilities: for instance, women mentioned in 24 news sheets out of 100 randomly selected news sheets, women mentioned in 50 news sheets out of 100 randomly selected news sheets, and so on. He will also know about the relative likeliness of each possibility. This is an understanding of how the randomness of news sheets - preserved in the Medici Archive -  in regard to women’s presence and absence works. In practice, by randomly selecting sub-samples of the news sheet collection in the Medici Archive, the random walker discovers the collection from all possible angles and systematically maps all possibilities. By synthetically creating thousands of small - possible - subsamples, he goes beyond the original dataset, which is just one possible snapshot of the lost corpus of early modern handwritten news, and addresses the problem of bias.\n"
   ]
  },
  {
   "cell_type": "markdown",
   "id": "3eaae78d",
   "metadata": {},
   "source": [
    "The random walker is only a thought experiment; wandering around in the physical spaces where the former Medici Archive is today preserved for thousands of hours and randomly opening boxes and folders are of course not viable. I therefore implemented the thought experiment algorithmically by letting the MIA-Euronews Corpus represent the Medici Archive. My algorithmic implementation is based on the statistical procedure of bootstrapping, also known as resampling (<cite data-cite=\"14123371/3FLLGXTK\"></cite>). The algorithm randomly fetched a set of 100 news sheets and a set of 100 individual news items from the corpus. First, it reported the number of news sheets in which women are present (henceforth, I will refer to this as random sampling of news sheets). Second, it reported the number of news items (again, a new sheet is a consecutive sequence of news items) that mention women (henceforth, I will refer to this as random sampling of news items). Third, it turned its findings into probabilities, i.e. into the probability of finding women in the 100 randomly selected news sheets and news items. The algorithm repeated these tasks until it had seen all possible combinations of news sheets and news items (since the algorithm started to converge relatively quickly, there was actually no need to see all possible combinations; once the point of convergence achieved, the algorithm did not give new information anymore). As a result, the algorithm produced an overview of all possibilities (again, for instance, women mentioned in 50 news sheets out of 100 randomly selected news sheets) and their respective probabilities. In mathematical terms, it resulted in a probability distribution that rendered how the randomness of women’s presence and absence behaved in the MIA-Euronews Corpus; the resulting probability distribution gave rise to a firm knowledge of all possibilities. "
   ]
  },
  {
   "cell_type": "markdown",
   "id": "825dc30b",
   "metadata": {},
   "source": [
    "Additionally, I used this algorithmic procedure to explore the presence of certain themes related to women in news (such as for instance marriage), as well as to compare women’s presence in news coming from different locations and in news compiled in different periods (before and after 1600). Hence the  algorithmic procedure helped me investigate how some other external factors or variables (place and date of compilation) might have influenced the absence or presence of women (see below in the next Results section). As a whole, the algorithmic implementation of the random walker thought experiment tackled the randomness of women’s presence in the MIA-Euronews Corpus, as well as the biased nature of the corpus. But how can we explore the way the randomness of women’s presence might have worked in the lost whole of once-existing early modern news sheets?"
   ]
  },
  {
   "cell_type": "markdown",
   "id": "6292c6ce",
   "metadata": {},
   "source": [
    "To answer this question, I worked with two core assumptions deriving from Bayesian statistics (<cite data-cite=\"14123371/T8QUN2KM\"></cite>). First, each random sample of 100 news sheets is related to the once existing but now lost whole. Second, the ‘features’ of the lost whole determine the features of each random sample. Of course, here we do not work with exact features but with a range of possible outcomes and their respective probabilities - again with probability distributions. The range of possible outcomes that we discover by randomly sampling sets of 100 news sheets in the MIA-Euronews Corpus are conditioned by women’s presence in the lost whole. More technically speaking, women’s presence in the once existing totality of circulating news sheets is a prior; this prior conditions the evidence we find when randomly sampling sets of hundred news sheets in the MIA-Euronews Corpus. Bayesian statistics offers an analytical framework to make inferences about the prior based on the evidence we have. The resulting knowledge about the prior is not an exact knowledge; it is instead an estimate or an informed guess. The following illustrative example makes this train of thought more intuitive."
   ]
  },
  {
   "cell_type": "markdown",
   "id": "d872f17b",
   "metadata": {},
   "source": [
    "We have an unfair coin; the probability of head is 0.3 and the probability of tail is 0.7. We are not aware of how biased the coin is; this prior probability setting is hidden. We toss the coin a hundred times. The evidence we get by tossing the coin is determined by the prior probability setting. Determination means that the probability of getting head will be around 0.3 and it cannot be 0.8 for instance. Figure 3A shows the evidence we get throughout the tossing; Figure 3B shows our respective guess about the prior probability setting. The guess about the prior probability setting (Figure 3B) was calculated from the evidence (Figure 3A) with the help of Bayesian inference (<cite data-cite=\"14123371/T8QUN2KM\"></cite>). As Figure 3B shows, the information we have about the prior probability setting is not a firm value; it is an estimate represented by a range of possible outcomes (or a probability distribution)."
   ]
  },
  {
   "cell_type": "markdown",
   "id": "199f42db",
   "metadata": {},
   "source": [
    "Similarly, we can apply Bayesian inference to uncover the prior probability setting (in the lost corpus) that must have determined women’s presence in thousands of possible sub-samples created from the MIA-Euronews Corpus. Figure 7 in the following section renders this prior probability setting. This is an educated guess or an estimate of women’s presence in the once existing total population of news sheets (further technical details and the proof are discussed in the Implementation section). This educated guess is not a firm value but rather a range of possible outcomes (or a probability distribution).\n"
   ]
  },
  {
   "cell_type": "code",
   "execution_count": 3,
   "id": "04ba706b",
   "metadata": {
    "execution": {
     "iopub.execute_input": "2023-04-18T15:05:40.412723Z",
     "iopub.status.busy": "2023-04-18T15:05:40.411516Z",
     "iopub.status.idle": "2023-04-18T15:05:40.417675Z",
     "shell.execute_reply": "2023-04-18T15:05:40.418299Z"
    },
    "jdh": {
     "module": "object",
     "object": {
      "source": [
       "Figure 3. An illustrative example: assessing the fairness of a coin by flipping it for a hundred times. Figure A shows the outcome of flippings, i.e. the evidence. Figure B shows the mostly likely prior distribution that could give rise to the evidence gathered throughout the flipping. The beta distribution on Figure B gives a correct guess of the original probability. Figure A is the result of the simulation of a binomial variable with p = 0.3,  which is the degree of the coin’s biasness."
      ],
      "type": "image"
     }
    },
    "tags": [
     "figure-3"
    ]
   },
   "outputs": [
    {
     "data": {
      "image/png": "[encoded data removed]",
      "text/plain": [
       "<IPython.core.display.Image object>"
      ]
     },
     "execution_count": 3,
     "metadata": {},
     "output_type": "execute_result"
    }
   ],
   "source": [
    "Image('media/image28.png')"
   ]
  },
  {
   "cell_type": "code",
   "execution_count": 4,
   "id": "4182be0f",
   "metadata": {
    "execution": {
     "iopub.execute_input": "2023-04-18T15:05:40.438261Z",
     "iopub.status.busy": "2023-04-18T15:05:40.436822Z",
     "iopub.status.idle": "2023-04-18T15:05:41.839669Z",
     "shell.execute_reply": "2023-04-18T15:05:41.838929Z"
    },
    "tags": [
     "hermeneutics"
    ]
   },
   "outputs": [
    {
     "name": "stderr",
     "output_type": "stream",
     "text": [
      "/usr/local/lib/python3.7/site-packages/ipykernel_launcher.py:47: UserWarning: FixedFormatter should only be used together with FixedLocator\n"
     ]
    },
    {
     "data": {
      "image/png": "[encoded data removed]",
      "text/plain": [
       "<Figure size 1080x288 with 3 Axes>"
      ]
     },
     "metadata": {
      "needs_background": "light"
     },
     "output_type": "display_data"
    }
   ],
   "source": [
    "from scipy.stats import beta\n",
    "import numpy as np\n",
    "from matplotlib import pyplot as plt\n",
    "import os\n",
    "from scipy.stats import bernoulli, binom\n",
    "import pandas as pd\n",
    "figure, axis = plt.subplots(1,2,figsize=(15, 4))\n",
    "X = bernoulli(p=0.3)\n",
    "X_samples = X.rvs(100)\n",
    "entries = []\n",
    "entry = {'outcome': 'Head', 'count':np.where(X_samples==1)[0].shape[0]}\n",
    "entries.append(entry)\n",
    "entry = {'outcome': 'Tail', 'count':np.where(X_samples==0)[0].shape[0]}\n",
    "entries.append(entry)\n",
    "dfTmp =  pd.DataFrame(entries)\n",
    "dfTmp.plot.bar(x='outcome',y='count',ax=axis[0],width=0.25)\n",
    "axis[0].set_ylim(ymin=0,ymax = 100)\n",
    "axis[0].set_xlabel('Outcome')\n",
    "axis[0].set_ylabel('Count')\n",
    "axis[0].set(title='A')\n",
    "for f,p in enumerate(axis[0].patches):\n",
    "    if f == 0:\n",
    "        axis[0].annotate(str(p.get_height()), (p.get_x() * 0.3, p.get_height() * 1.15))\n",
    "    else:\n",
    "        axis[0].annotate(str(p.get_height()), (p.get_x() * 1.1, p.get_height() * 1.08))\n",
    "\n",
    "x = np.linspace(0, 1, 1002)[1:-1]\n",
    "a = dfTmp.iloc()[0]['count']\n",
    "b = dfTmp.iloc()[1]['count']\n",
    "dist = beta(a+1, b+1)\n",
    "mean = beta.mean(a+1, b+1)\n",
    "meanY = dist.pdf(mean)\n",
    "axis[1].plot(x, dist.pdf(x))\n",
    "axis[1].set(title='D: Beta distribution of Coin flipping')\n",
    "axis[1].vlines(x = mean, ymin = 0, ymax = meanY, colors = 'black', label = 'Mean value' ,linestyle = 'dotted')\n",
    "axis[1].set_xlabel('Probability')\n",
    "axis[1].set_ylabel('Probability density')\n",
    "axis[1].set(title='B')\n",
    "axis[1].set_xlim(0,1)\n",
    "axis[1].set_ylim(0,10)\n",
    "ax2 = axis[1].twiny()\n",
    "\n",
    "labels = [item.get_text() for item in ax2.get_xticklabels()]\n",
    "labels[0]=\"Head\"\n",
    "labels[-1]=\"Tail\"\n",
    "ax2.tick_params(axis='x', colors='red') \n",
    "ax2.set_xticklabels(labels)\n",
    "axis[1].set_xticks([0.1,0.2,0.3,0.4,0.5,0.6,0.7,0.8,0.9])\n",
    "figure.tight_layout()\n"
   ]
  },
  {
   "cell_type": "markdown",
   "id": "d1cd04e5",
   "metadata": {},
   "source": [
    "### Narratives"
   ]
  },
  {
   "cell_type": "markdown",
   "id": "7b18206d",
   "metadata": {},
   "source": [
    "Next, our random walker aims to discover those narrative contexts in which women are discussed in the news. As discussed above, this also features uncertainty from the perspective of the random walker. During his discovery of the archive, he faces competing possibilities. His goal is therefore to make the content of news sheets somehow predictable and build a stable knowledge. If a news item mentions a woman, what are the most likely words co-occurring with it? Similarly, what are those words that are likely to precede or follow the mentioning of a woman?"
   ]
  },
  {
   "cell_type": "markdown",
   "id": "b721b91b",
   "metadata": {},
   "source": [
    "To answer these questions, he keeps reading the news sheets and “learns” the probabilities of how words follow each other. Based on this knowledge, he starts to generate texts synthetically and observes how the randomness of words following each other works. Throughout the generation of texts, our random walker will at some point exhaust all possibilities and he will learn the probability of each possibility. The synthetic generation of texts is called simulation; it is a convenient method to explore all possibilities of how information in a large textual dataset can be articulated. If certain conditions are met, simulation of texts reaches a stable state (aka equilibrium state) resulting in a firm knowledge of all possible ways words can unfold, including their respective probabilities. As discussed below, the stable state reached throughout the simulation is a highly informative view point where sample bias is mitigated.\n"
   ]
  },
  {
   "cell_type": "markdown",
   "id": "bb388174",
   "metadata": {},
   "source": [
    "I implemented the procedure above on the MIA-Euronews Corpus by means of a mathematical model named Markov Chain (<cite data-cite=\"14123371/C6LGWEUN\"></cite>). First, the model “learned” the probabilities of how words follow each other in the MIA-Euronews Corpus.  Second, I run the Markov Chain model, which is a form of simulation sometimes named random walk in the literature (<cite data-cite=\"14123371/Q2467ZE9\"></cite>). In practice, when we run a Markov Chain modeling the possible sequences of words in a large textual collection, we synthetically generate texts (or possible subsamples) consisting of millions of words. Again, the result exposes all possible ways words in a large textual collection may unfold; it thus enables us to observe how the randomness of words following each other in a given textual collection works."
   ]
  },
  {
   "cell_type": "markdown",
   "id": "41fcf258",
   "metadata": {},
   "source": [
    "The Markovian simulation brought about three pieces of information. First, it revealed the overall or the stable state probability of a given word in the MIA-Euronews Corpus; the overall probability of a word also expresses its significance in the corpus (for further details see the Implementation section). Hence, by calculating the overall probability of certain words referring to women and other historical actors, I could quantify the significance and importance of these words  (see Figure 4 and Figure 8 in Section 3 ). Then I manually clustered the most significant words into units of distinct topics (see Figure 7). Second, the Markovian simulation revealed the probability that a given word follows or precedes another word (see Figure 9 B and Figure 10 in Section 4); it thus helped explore the possible words following or preceding terms denoting women, which in turn offered insights into women’s representation in the corpus. Finally, the Markovian simulation gave information about the strength of association between words (see Figure 9 A and Figure 11 in Section 4).\n"
   ]
  },
  {
   "cell_type": "markdown",
   "id": "5948cd5c",
   "metadata": {},
   "source": [
    "With the approach described above I could investigate how information surrounding women in early modern news is likely to unfold in narratives. As opposed to other traditional - static - approaches (for instance Pointwise Mutual Information) uncovering associative relationships between words, the advantage of the Markovian approach is its ability to model texts as dynamic systems, i.e. it lets us discover all possible ways information is discussed in a large textual collection. Most importantly, the Markovian simulation helps quantify the probability of these possible ways. The Markovian simulation also helps tackle the problem of bias; it enables us to go beyond an original  non-representative sample by synthetically producing further possible sub-samples. Hence it helped get closer to the lost corpus of early modern handwritten news. Finally, the Markovian simulation of a textual collection shows the collection from a highly informative and less biased viewpoint: stable state (aka equilibrium state)."
   ]
  },
  {
   "cell_type": "markdown",
   "id": "60627979",
   "metadata": {},
   "source": [
    "However, the Markovian approach did not produce an exhaustive set of information about the possible meanings attached to womanhood in early modern news. The heart of the matter is that meaning often remains tacit and the Markovian approach cannot handle tacitness. I therefore modeled the meaning of womanhood by reconstructing the semantic space underlying the MIA-Euronews Corpus.\n",
    "\n"
   ]
  },
  {
   "cell_type": "markdown",
   "id": "46952297",
   "metadata": {},
   "source": [
    "### Semantics"
   ]
  },
  {
   "cell_type": "markdown",
   "id": "713107ff",
   "metadata": {},
   "source": [
    "The semantic space approach (<cite data-cite=\"14123371/QUFFHSCV\"></cite>) is based on an old assumption: the meaning of a word lies in its relationship to other terms (<cite data-cite=\"14123371/IE4PH3CB\"></cite>; <cite data-cite=\"14123371/DSZ34NVF\"></cite>; <cite data-cite=\"14123371/Q73WEBWI\"></cite>). The set of all possible relationships between words in a given textual corpus gives rise to a system of meaning underlying that corpus. We can envisage this system of meaning as a high dimensional space populated by words as “points.” In this high dimensional space connections between terms do not imply bonds (as in a network); connections between terms instead imply spatial proximity and positional similarity; if two terms are closely related semantically, they are also close to each other in the high dimensional space representing the semantic space and the entire system of meaning. Further details about the process of constructing a semantic space out of a textual corpus are discussed in the Implementation section; here I limit the discussion to three broader points. "
   ]
  },
  {
   "cell_type": "markdown",
   "id": "9077d26e",
   "metadata": {},
   "source": [
    "First, even though a semantic space has some similarities with the two or three dimensional geometric spaces we are accustomed to, it is fundamentally different. A semantic space is a vector space; words that populate the semantic space are not points but vectors (often named word vectors in the literature). Each word represented as a word vector has certain mathematical features such as angle and magnitude. These mathematical features are used to study how a given word is related to other words, which ultimately gives information about the meaning of that word in a textual corpus."
   ]
  },
  {
   "cell_type": "markdown",
   "id": "99f7cf63",
   "metadata": {},
   "source": [
    "Second, we cannot visualize a high dimensional semantic space; instead, we project it into a lower - two or three - dimensional space. Through these projections we can observe how words are semantically related to each other (see Figure 12 in Section 4). A key advantage of the semantic space approach is that it can show words not isolated but as parts of groups or clusters; members of a given cluster are semantically related and often form topics. You can observe clusters of semantically related words on Figure 12 in Section 4."
   ]
  },
  {
   "cell_type": "markdown",
   "id": "44b34560",
   "metadata": {},
   "source": [
    "Third, the semantic space approach is an adequate method to visualize the set of competing possibilities associated with a given set of words (women terms in our case). Through the visualization of the semantic space projected into lower dimensional space, we can observe these possibilities and construct a firm knowledge."
   ]
  },
  {
   "cell_type": "markdown",
   "id": "d0cbf0af",
   "metadata": {},
   "source": [
    "To sum up, the semantic space approach reveals those possible connections that a word can have in a textual corpus. The possible connections include synonymity, associative bonds, and relations to larger clusters of semantically related words, or topics. In the context of this research, the semantic space approach has helped address the following questions. What are those groups of words that are related to words denoting women in the MIA- Euronews Corpus? What do these groups tell us about the representation of women in early modern news? What are the topics that underline groups of words semantically related to women in the  MIA- Euronews Corpus? Similar questions can be raised about men as well; the semantic analysis of men is the subject of my current and future research; its discussion is therefore limited here. At the same time, the drawback of the semantic space approach is that it does not give easy access to the lost corpus of early modern handwritten news, a problem that remains unsolved in this paper."
   ]
  },
  {
   "cell_type": "markdown",
   "id": "f262908c",
   "metadata": {},
   "source": [
    "## Results A:  Presence of Women in the News"
   ]
  },
  {
   "cell_type": "markdown",
   "id": "fc4c0278",
   "metadata": {},
   "source": [
    "In 1618 there was an interesting exchange of letters between officials of the Medici Court. The letter offers a rare glimpse into the news consumption in the Medici court."
   ]
  },
  {
   "cell_type": "markdown",
   "id": "ffc22829",
   "metadata": {
    "tags": [
     "narrative"
    ]
   },
   "source": [
    ">Today after dining, the Most Serene Arch Duchess our Ladyship wants to hear the reading of the newsletter from Venice. And Her Most Serene Highness would be pleased if Your Lordship would secure their delivery every week, writing to this effect to that friend so that he might say how much he is to be given annually. (ASF MdP 4634, fo. 242; cited and translated by <cite data-cite=\"14123371/L9CZRPZQ\"></cite>, pp. 726–727  )"
   ]
  },
  {
   "cell_type": "markdown",
   "id": "a74e700c",
   "metadata": {},
   "source": [
    "The letter is referring to Maria Magdalena von Habsburg (1587 - 1631), the consort of Cosimo II (1609-1621). Apparently, Maria Magdalena was an eager reader of handwritten news. In this section, I will explore how often she might have read about fellow women.\n",
    "The early modern handwritten news world was populated by a great variety of actors such as kings, ambassadors, and consorts. However, these actors were not equally important protagonists. Figure 4 renders those personages who are the most important on the news sheets of the Medici Archive. There is a striking thing on Figure 6: women are significantly less important than men (observe words such as donna (woman), moglie (wife), signora (lady). This difference is even more striking if we compare word pairs that have feminine and masculine forms. For instance, according to my estimation, the probability that contemporary news mongers read about sons was three times higher than the probability that they heard about daughters. I found a similar pattern with other word pairs: brother (fratello) - sister (sorella), duke (duca) - duchess (duchessa), man (uomo) - woman (donna), she (lei) - he (lui). All this highlights the dominance of male actors in the early modern handwritten news world.\n"
   ]
  },
  {
   "cell_type": "code",
   "execution_count": 5,
   "id": "6be67161",
   "metadata": {
    "execution": {
     "iopub.execute_input": "2023-04-18T15:05:41.859289Z",
     "iopub.status.busy": "2023-04-18T15:05:41.858257Z",
     "iopub.status.idle": "2023-04-18T15:05:44.464564Z",
     "shell.execute_reply": "2023-04-18T15:05:44.465210Z"
    },
    "jdh": {
     "object": {
      "source": [
       "Very important and less important actors in the news world underlying the MIA-Euronews Corpus. The importance of each actor is measured in terms of its stationary probability (column prob)."
      ]
     }
    },
    "tags": [
     "hermeneutics",
     "table-1"
    ]
   },
   "outputs": [
    {
     "data": {
      "text/html": [
       "<div>\n",
       "<style scoped>\n",
       "    .dataframe tbody tr th:only-of-type {\n",
       "        vertical-align: middle;\n",
       "    }\n",
       "\n",
       "    .dataframe tbody tr th {\n",
       "        vertical-align: top;\n",
       "    }\n",
       "\n",
       "    .dataframe thead th {\n",
       "        text-align: right;\n",
       "    }\n",
       "</style>\n",
       "<table border=\"1\" class=\"dataframe\">\n",
       "  <thead>\n",
       "    <tr style=\"text-align: right;\">\n",
       "      <th></th>\n",
       "      <th>index</th>\n",
       "      <th>prob</th>\n",
       "      <th>term</th>\n",
       "      <th>scaledToMedian</th>\n",
       "      <th>upperQuantile</th>\n",
       "    </tr>\n",
       "  </thead>\n",
       "  <tbody>\n",
       "    <tr>\n",
       "      <th>1</th>\n",
       "      <td>20</td>\n",
       "      <td>0.038773</td>\n",
       "      <td>signore</td>\n",
       "      <td>59.542146</td>\n",
       "      <td>True</td>\n",
       "    </tr>\n",
       "    <tr>\n",
       "      <th>2</th>\n",
       "      <td>79</td>\n",
       "      <td>0.030363</td>\n",
       "      <td>re</td>\n",
       "      <td>46.626719</td>\n",
       "      <td>True</td>\n",
       "    </tr>\n",
       "    <tr>\n",
       "      <th>4</th>\n",
       "      <td>2</td>\n",
       "      <td>0.011627</td>\n",
       "      <td>lui</td>\n",
       "      <td>17.855584</td>\n",
       "      <td>True</td>\n",
       "    </tr>\n",
       "    <tr>\n",
       "      <th>5</th>\n",
       "      <td>85</td>\n",
       "      <td>0.010436</td>\n",
       "      <td>duca</td>\n",
       "      <td>16.026348</td>\n",
       "      <td>True</td>\n",
       "    </tr>\n",
       "    <tr>\n",
       "      <th>12</th>\n",
       "      <td>142</td>\n",
       "      <td>0.007843</td>\n",
       "      <td>principe</td>\n",
       "      <td>12.043804</td>\n",
       "      <td>True</td>\n",
       "    </tr>\n",
       "    <tr>\n",
       "      <th>14</th>\n",
       "      <td>18</td>\n",
       "      <td>0.007481</td>\n",
       "      <td>cardinale</td>\n",
       "      <td>11.487428</td>\n",
       "      <td>True</td>\n",
       "    </tr>\n",
       "    <tr>\n",
       "      <th>15</th>\n",
       "      <td>45</td>\n",
       "      <td>0.007323</td>\n",
       "      <td>papa</td>\n",
       "      <td>11.245568</td>\n",
       "      <td>True</td>\n",
       "    </tr>\n",
       "    <tr>\n",
       "      <th>25</th>\n",
       "      <td>41</td>\n",
       "      <td>0.005530</td>\n",
       "      <td>ambasciatore</td>\n",
       "      <td>8.491915</td>\n",
       "      <td>True</td>\n",
       "    </tr>\n",
       "    <tr>\n",
       "      <th>43</th>\n",
       "      <td>194</td>\n",
       "      <td>0.004010</td>\n",
       "      <td>generale</td>\n",
       "      <td>6.157459</td>\n",
       "      <td>True</td>\n",
       "    </tr>\n",
       "    <tr>\n",
       "      <th>50</th>\n",
       "      <td>40</td>\n",
       "      <td>0.003657</td>\n",
       "      <td>monsignore</td>\n",
       "      <td>5.615865</td>\n",
       "      <td>True</td>\n",
       "    </tr>\n",
       "    <tr>\n",
       "      <th>57</th>\n",
       "      <td>372</td>\n",
       "      <td>0.003301</td>\n",
       "      <td>marchese</td>\n",
       "      <td>5.069636</td>\n",
       "      <td>True</td>\n",
       "    </tr>\n",
       "    <tr>\n",
       "      <th>58</th>\n",
       "      <td>185</td>\n",
       "      <td>0.003289</td>\n",
       "      <td>soldato</td>\n",
       "      <td>5.050303</td>\n",
       "      <td>True</td>\n",
       "    </tr>\n",
       "    <tr>\n",
       "      <th>64</th>\n",
       "      <td>165</td>\n",
       "      <td>0.002964</td>\n",
       "      <td>regina</td>\n",
       "      <td>4.551976</td>\n",
       "      <td>True</td>\n",
       "    </tr>\n",
       "    <tr>\n",
       "      <th>65</th>\n",
       "      <td>731</td>\n",
       "      <td>0.002963</td>\n",
       "      <td>uomo</td>\n",
       "      <td>4.550719</td>\n",
       "      <td>True</td>\n",
       "    </tr>\n",
       "    <tr>\n",
       "      <th>68</th>\n",
       "      <td>462</td>\n",
       "      <td>0.002913</td>\n",
       "      <td>imperatore</td>\n",
       "      <td>4.472723</td>\n",
       "      <td>True</td>\n",
       "    </tr>\n",
       "    <tr>\n",
       "      <th>79</th>\n",
       "      <td>141</td>\n",
       "      <td>0.002452</td>\n",
       "      <td>figlio</td>\n",
       "      <td>3.765768</td>\n",
       "      <td>True</td>\n",
       "    </tr>\n",
       "    <tr>\n",
       "      <th>107</th>\n",
       "      <td>269</td>\n",
       "      <td>0.001925</td>\n",
       "      <td>governatore</td>\n",
       "      <td>2.955399</td>\n",
       "      <td>True</td>\n",
       "    </tr>\n",
       "    <tr>\n",
       "      <th>111</th>\n",
       "      <td>478</td>\n",
       "      <td>0.001899</td>\n",
       "      <td>signora</td>\n",
       "      <td>2.915677</td>\n",
       "      <td>True</td>\n",
       "    </tr>\n",
       "    <tr>\n",
       "      <th>124</th>\n",
       "      <td>98</td>\n",
       "      <td>0.001790</td>\n",
       "      <td>fratello</td>\n",
       "      <td>2.748622</td>\n",
       "      <td>True</td>\n",
       "    </tr>\n",
       "    <tr>\n",
       "      <th>155</th>\n",
       "      <td>5</td>\n",
       "      <td>0.001461</td>\n",
       "      <td>vescovo</td>\n",
       "      <td>2.242856</td>\n",
       "      <td>True</td>\n",
       "    </tr>\n",
       "    <tr>\n",
       "      <th>170</th>\n",
       "      <td>672</td>\n",
       "      <td>0.001372</td>\n",
       "      <td>elettore</td>\n",
       "      <td>2.106370</td>\n",
       "      <td>True</td>\n",
       "    </tr>\n",
       "    <tr>\n",
       "      <th>175</th>\n",
       "      <td>735</td>\n",
       "      <td>0.001334</td>\n",
       "      <td>padre</td>\n",
       "      <td>2.047817</td>\n",
       "      <td>True</td>\n",
       "    </tr>\n",
       "    <tr>\n",
       "      <th>259</th>\n",
       "      <td>100</td>\n",
       "      <td>0.000911</td>\n",
       "      <td>moglie</td>\n",
       "      <td>1.398285</td>\n",
       "      <td>False</td>\n",
       "    </tr>\n",
       "    <tr>\n",
       "      <th>267</th>\n",
       "      <td>97</td>\n",
       "      <td>0.000892</td>\n",
       "      <td>lei</td>\n",
       "      <td>1.369408</td>\n",
       "      <td>False</td>\n",
       "    </tr>\n",
       "    <tr>\n",
       "      <th>289</th>\n",
       "      <td>559</td>\n",
       "      <td>0.000834</td>\n",
       "      <td>duchessa</td>\n",
       "      <td>1.280847</td>\n",
       "      <td>False</td>\n",
       "    </tr>\n",
       "    <tr>\n",
       "      <th>308</th>\n",
       "      <td>489</td>\n",
       "      <td>0.000775</td>\n",
       "      <td>figlia</td>\n",
       "      <td>1.190680</td>\n",
       "      <td>False</td>\n",
       "    </tr>\n",
       "    <tr>\n",
       "      <th>358</th>\n",
       "      <td>99</td>\n",
       "      <td>0.000672</td>\n",
       "      <td>madre</td>\n",
       "      <td>1.031955</td>\n",
       "      <td>False</td>\n",
       "    </tr>\n",
       "    <tr>\n",
       "      <th>431</th>\n",
       "      <td>78</td>\n",
       "      <td>0.000566</td>\n",
       "      <td>donna</td>\n",
       "      <td>0.868870</td>\n",
       "      <td>False</td>\n",
       "    </tr>\n",
       "    <tr>\n",
       "      <th>452</th>\n",
       "      <td>114</td>\n",
       "      <td>0.000531</td>\n",
       "      <td>prete</td>\n",
       "      <td>0.814658</td>\n",
       "      <td>False</td>\n",
       "    </tr>\n",
       "    <tr>\n",
       "      <th>678</th>\n",
       "      <td>192</td>\n",
       "      <td>0.000338</td>\n",
       "      <td>sorella</td>\n",
       "      <td>0.518313</td>\n",
       "      <td>False</td>\n",
       "    </tr>\n",
       "    <tr>\n",
       "      <th>716</th>\n",
       "      <td>736</td>\n",
       "      <td>0.000276</td>\n",
       "      <td>marito</td>\n",
       "      <td>0.423589</td>\n",
       "      <td>False</td>\n",
       "    </tr>\n",
       "  </tbody>\n",
       "</table>\n",
       "</div>"
      ],
      "text/plain": [
       "     index      prob          term  scaledToMedian  upperQuantile\n",
       "1       20  0.038773       signore       59.542146           True\n",
       "2       79  0.030363            re       46.626719           True\n",
       "4        2  0.011627           lui       17.855584           True\n",
       "5       85  0.010436          duca       16.026348           True\n",
       "12     142  0.007843      principe       12.043804           True\n",
       "14      18  0.007481     cardinale       11.487428           True\n",
       "15      45  0.007323          papa       11.245568           True\n",
       "25      41  0.005530  ambasciatore        8.491915           True\n",
       "43     194  0.004010      generale        6.157459           True\n",
       "50      40  0.003657    monsignore        5.615865           True\n",
       "57     372  0.003301      marchese        5.069636           True\n",
       "58     185  0.003289       soldato        5.050303           True\n",
       "64     165  0.002964        regina        4.551976           True\n",
       "65     731  0.002963          uomo        4.550719           True\n",
       "68     462  0.002913    imperatore        4.472723           True\n",
       "79     141  0.002452        figlio        3.765768           True\n",
       "107    269  0.001925   governatore        2.955399           True\n",
       "111    478  0.001899       signora        2.915677           True\n",
       "124     98  0.001790      fratello        2.748622           True\n",
       "155      5  0.001461       vescovo        2.242856           True\n",
       "170    672  0.001372      elettore        2.106370           True\n",
       "175    735  0.001334         padre        2.047817           True\n",
       "259    100  0.000911        moglie        1.398285          False\n",
       "267     97  0.000892           lei        1.369408          False\n",
       "289    559  0.000834      duchessa        1.280847          False\n",
       "308    489  0.000775        figlia        1.190680          False\n",
       "358     99  0.000672         madre        1.031955          False\n",
       "431     78  0.000566         donna        0.868870          False\n",
       "452    114  0.000531         prete        0.814658          False\n",
       "678    192  0.000338       sorella        0.518313          False\n",
       "716    736  0.000276        marito        0.423589          False"
      ]
     },
     "execution_count": 5,
     "metadata": {},
     "output_type": "execute_result"
    }
   ],
   "source": [
    "import json\n",
    "from msmtools.estimation import transition_matrix,count_matrix, is_connected\n",
    "from pyrandwalk import *\n",
    "import pandas as pd\n",
    "\n",
    "# Load the data\n",
    "\n",
    "f = open('data/input/newsSheetsEncoded.json')\n",
    "finalDocs = json.load(f)\n",
    "finalDocs = [np.array(element) for element in finalDocs]\n",
    "\n",
    "f = open('data/input/dictionaryMarkovianSimulation.json')\n",
    "dictionary = json.load(f)\n",
    "\n",
    "f = open('data/input/actorsTerms.json')\n",
    "actorsTerms = json.load(f)\n",
    "\n",
    "# Create a count matrix\n",
    "\n",
    "def createCountMatrix(trajectories,dictionary,window=1):\n",
    "    countMatrix = np.zeros((len(dictionary),len(dictionary)))\n",
    "    for i in range(1,window+1):\n",
    "        countMatrix = countMatrix + count_matrix(trajectories,lag=i)\n",
    "    countMatrix = np.array(countMatrix)\n",
    "    assert len(dictionary) == countMatrix.shape[0]\n",
    "    return countMatrix\n",
    "\n",
    "cm = createCountMatrix(finalDocs,dictionary,5)\n",
    "assert len(np.where(cm.sum(axis=1)==0)[0]) == 0\n",
    "\n",
    "# Create the transition matrix\n",
    "\n",
    "def createTransitionMatrix(trajectories,dictionary,window=1):\n",
    "    countMatrix = np.zeros((len(dictionary),len(dictionary)))\n",
    "    for i in range(1,window+1):\n",
    "        countMatrix = countMatrix + count_matrix(trajectories,lag=i)\n",
    "    countMatrix = np.array(countMatrix)\n",
    "    P = transition_matrix(countMatrix)\n",
    "    assert len(dictionary) == P.shape[0]\n",
    "    return P\n",
    "\n",
    "P = createTransitionMatrix(finalDocs,dictionary,window=5)\n",
    "\n",
    "# Train the Markov chain and get the statitionary probabilityof each word\n",
    "\n",
    "def printStableProbabilities(P,dictionary):\n",
    "    assert len(P) == len(dictionary)\n",
    "    vocabNumerical = [i for i,element in enumerate(dictionary)]\n",
    "    rw = RandomWalk(vocabNumerical, P)\n",
    "    stationaryProbs = rw.final_dist()\n",
    "    dfStationaryProb = pd.DataFrame(stationaryProbs,columns=['prob'])\n",
    "    dfStationaryProb['term'] = dictionary\n",
    "    dfStationaryProb['scaledToMedian'] = dfStationaryProb['prob'] / dfStationaryProb['prob'].median()\n",
    "    dfStationaryProb.sort_values('prob',ascending=False,inplace=True)\n",
    "    return dfStationaryProb\n",
    "\n",
    "stationaryProb = printStableProbabilities(P,dictionary)\n",
    "stationaryProb = stationaryProb.sort_values('prob',ascending=False)\n",
    "\n",
    "# Print the stationary probability of key actors, as well as whether they are part of the upper quartile\n",
    "\n",
    "dfTemp = stationaryProb.reset_index()\n",
    "quantile = []\n",
    "for element in dfTemp.prob.to_list():\n",
    "    if element > dfTemp.prob.quantile(0.75):\n",
    "        quantile.append(True)\n",
    "    else:\n",
    "        quantile.append(False)\n",
    "dfTemp['upperQuantile'] = quantile\n",
    "dfTemp[dfTemp.term.isin(actorsTerms)]"
   ]
  },
  {
   "cell_type": "markdown",
   "id": "c8c77844",
   "metadata": {},
   "source": [
    "The process of random sampling described above uncovered a general tendency. While news sheets tended to be silent about women, they almost always mention men (see Figure 5 and Figure 6). More specifically, out of hundred randomly selected news items, approximately fourteen news items mention at least one woman; by contrast, approximately eighty-five news items mention at least one man. At the same time, it is important to emphasize that there was no complete silence about women. Early modern news readers did not get much news about women in general but they often heard about at least one woman when they read an entire news sheet (see Figure 7)."
   ]
  },
  {
   "cell_type": "markdown",
   "id": "954eeb77",
   "metadata": {},
   "source": [
    "Even though there was no complete silence about women as a group, I found that there was silence about non-elite women. My findings suggest that early modern consumers of handwritten news overwhelmingly read about women belonging to the elite (see Figure 4 and observe the small size of the bubble representing the importance of donna (woman), a word usually referring to women of lower social status).  "
   ]
  },
  {
   "cell_type": "markdown",
   "id": "f8ddd9b9",
   "metadata": {},
   "source": [
    "I also investigated whether the presence of women increased over time. This uncovered that the presence of women did not change significantly over time (see Figure 6). Similarly, I could not find any significant variation when I compared the presence of women in news sheets that arrived from different news hubs"
   ]
  },
  {
   "cell_type": "markdown",
   "id": "8be9977f",
   "metadata": {},
   "source": [
    "To summarize, Maria Magdalena von Habsburg did not hear a lot of news related to women but she still learned something about women when she read the news.\n"
   ]
  },
  {
   "cell_type": "code",
   "execution_count": 6,
   "id": "34dca578",
   "metadata": {
    "execution": {
     "iopub.execute_input": "2023-04-18T15:05:44.471501Z",
     "iopub.status.busy": "2023-04-18T15:05:44.470499Z",
     "iopub.status.idle": "2023-04-18T15:05:44.481465Z",
     "shell.execute_reply": "2023-04-18T15:05:44.482090Z"
    },
    "jdh": {
     "module": "object",
     "object": {
      "source": [
       "Figure 4. Very important and less important actors in the news world underlying the MIA-Euronews Corpus. The size of the bubbles is adjusted according to the stationary probability of each word. Bubbles coloured blue contain those terms the stationary probability of which is above the upper quartile (75%); bubbles coloured orange include terms the stationary probability of which is between the median (50%)  and the upper quartile (75%)."
      ],
      "type": "image"
     }
    },
    "tags": [
     "figure-4"
    ]
   },
   "outputs": [
    {
     "data": {
      "image/png": "[encoded data removed]",
      "text/plain": [
       "<IPython.core.display.Image object>"
      ]
     },
     "execution_count": 6,
     "metadata": {
      "image/png": {
       "width": 800
      }
     },
     "output_type": "execute_result"
    }
   ],
   "source": [
    "Image('media/image12.png',width=800)"
   ]
  },
  {
   "cell_type": "code",
   "execution_count": 7,
   "id": "e99d382f",
   "metadata": {
    "execution": {
     "iopub.execute_input": "2023-04-18T15:05:44.487674Z",
     "iopub.status.busy": "2023-04-18T15:05:44.486714Z",
     "iopub.status.idle": "2023-04-18T15:05:44.491410Z",
     "shell.execute_reply": "2023-04-18T15:05:44.492025Z"
    },
    "jdh": {
     "module": "object",
     "object": {
      "source": [
       "Figure 5. The probability of women’s and men’s absence or presence in news items randomly selected from the MIA-Euroews Corpus. Absence and presence are modeled with a binomial random variable; the plot renders the variable with the beta distribution, which maps the discrete values (absence or presence) onto a continuous probability space between 0 and 1. The closer the mean value is to 0, the more likely that the outcome of the random variable is absence (as in case of women); conversely, the closer the mean value is to 1, the more likely that the outcome of the random variable is presence (as in case of men)."
      ],
      "type": "image"
     }
    },
    "tags": [
     "figure-5"
    ]
   },
   "outputs": [
    {
     "data": {
      "image/png": "[encoded data removed]",
      "text/plain": [
       "<IPython.core.display.Image object>"
      ]
     },
     "execution_count": 7,
     "metadata": {},
     "output_type": "execute_result"
    }
   ],
   "source": [
    "Image('media/image25.png')"
   ]
  },
  {
   "cell_type": "code",
   "execution_count": 8,
   "id": "26a8e380",
   "metadata": {
    "execution": {
     "iopub.execute_input": "2023-04-18T15:05:59.295315Z",
     "iopub.status.busy": "2023-04-18T15:05:59.294300Z",
     "iopub.status.idle": "2023-04-18T15:05:59.301003Z",
     "shell.execute_reply": "2023-04-18T15:05:59.301639Z"
    },
    "jdh": {
     "module": "object",
     "object": {
      "source": [
       "Figure 6. The probability of women’s absence or presence in news items randomly selected from two subsets of the MIA Euronews Corpus: news items compiled before (Figure 6 A) and after 1600 (Figure 6 B). The two plots show that women’s absence was very likely in both periods and no significant change took shape over time. For further explanation of the plots, see the legend under Figure 5."
      ],
      "type": "image"
     }
    },
    "tags": [
     "figure-6"
    ]
   },
   "outputs": [
    {
     "data": {
      "image/png": "[encoded data removed]",
      "text/plain": [
       "<IPython.core.display.Image object>"
      ]
     },
     "execution_count": 8,
     "metadata": {},
     "output_type": "execute_result"
    }
   ],
   "source": [
    "Image('media/image14.png')"
   ]
  },
  {
   "cell_type": "code",
   "execution_count": 14,
   "id": "a0884807",
   "metadata": {
    "execution": {
     "iopub.execute_input": "2023-04-18T15:05:59.326790Z",
     "iopub.status.busy": "2023-04-18T15:05:59.305660Z",
     "iopub.status.idle": "2023-04-18T15:06:43.274869Z",
     "shell.execute_reply": "2023-04-18T15:06:43.275524Z"
    },
    "tags": [
     "hermeneutics"
    ]
   },
   "outputs": [
    {
     "data": {
      "image/png": "[encoded data removed]",
      "text/plain": [
       "<Figure size 1080x288 with 2 Axes>"
      ]
     },
     "metadata": {
      "needs_background": "light"
     },
     "output_type": "display_data"
    }
   ],
   "source": [
    "from scipy.stats import beta\n",
    "\n",
    "def dt_parse(s):\n",
    "    y,m,d = s.split('-')\n",
    "    return pd.Period(year=int(y), month=int(m), day=int(d), freq='D')\n",
    "\n",
    "\n",
    "df = pd.read_csv('data/input/WomenMenAbsencePresence.csv')\n",
    "df['date']=df.date.apply(dt_parse)\n",
    "df = df.set_index('date')\n",
    "\n",
    "\n",
    "n_trials = 100\n",
    "sampleSize = 100\n",
    "finalResults = []\n",
    "temporalBoundaries = [1600,1599]\n",
    "for f,time in enumerate(temporalBoundaries):\n",
    "    results = []\n",
    "    for i in range(0,n_trials):\n",
    "        if f == 0:\n",
    "            #print (df[(df.index.year<time)].shape)\n",
    "            sample = df[(df.index.year<time)].sample(n=sampleSize)\n",
    "        else:\n",
    "            #print (df[(df.index.year>time)].shape)\n",
    "            sample = df[(df.index.year>time)].sample(n=sampleSize)\n",
    "        success = sample[sample.woman==True].shape[0]\n",
    "        failure = sample[sample.woman==False].shape[0]\n",
    "        result = np.array([success,failure])\n",
    "        results.append(result)\n",
    "    results = np.vstack(results)\n",
    "    a = results.mean(axis=0)[0]\n",
    "    b = results.mean(axis=0)[1]\n",
    "    dist = beta(a+1, b+1)\n",
    "    X = np.linspace(0, 1, 1002)[1:-1]\n",
    "    y = dist.pdf(X)\n",
    "    # Confidence levels\n",
    "    \n",
    "    lower, upper = beta.interval(0.95, a+1, b+1, loc=0)\n",
    "    meanY = dist.pdf(mean)\n",
    "    lowerY = dist.pdf(lower)\n",
    "    upperY = dist.pdf(upper)\n",
    "    a = np.format_float_positional(a+1,precision=2)\n",
    "    b = np.format_float_positional(b+1,precision=2)\n",
    "    if f == 0:\n",
    "        titleText = 'A: Before 1600 ('+r'$\\alpha$='+str(a)+r', $\\beta$='+str(b)+')'\n",
    "    else:\n",
    "        titleText = 'B: After 1600 ('+r'$\\alpha$='+str(a)+r', $\\beta$='+str(b)+')'\n",
    "    \n",
    "    finalResult = {'title':titleText,\n",
    "                   'a':a,'b':b, \n",
    "                   'x':X,'y':y,\n",
    "                   'meanX':dist.mean(),\n",
    "                   'meanY':dist.pdf(dist.mean()),\n",
    "                   'lowerY':lowerY,\n",
    "                   'lowerX':lower,\n",
    "                   'upperY':upperY,\n",
    "                   \"upperX\":upper}\n",
    "    \n",
    "    finalResults.append(finalResult)  \n",
    "\n",
    "### Plot it\n",
    "\n",
    "A = np.array(finalResults)\n",
    "B = np.reshape(A, (-1, 2))\n",
    "\n",
    "figure, axis = plt.subplots(B.shape[0], B.shape[1],figsize=(15, 4))\n",
    "\n",
    "for i in range(B.shape[0]):\n",
    "    for f in range(B.shape[1]):\n",
    "        axis[f].plot(B[i][f]['x'], B[i][f]['y'],label='Beta distribution of terms denoting women')\n",
    "        axis[f].set_title(B[i][f]['title'])\n",
    "        axis[f].vlines(x = B[i][f]['meanX'],ymax= B[i][f]['meanY'],ymin = 0,linestyle = 'dotted',label='Mean value',colors = 'black')\n",
    "        axis[f].vlines(x = B[i][f]['upperX'],ymax= B[i][f]['upperY'],ymin = 0,linestyle = 'dashed',label='Confidence level',colors = 'black')\n",
    "        axis[f].vlines(x = B[i][f]['lowerX'],ymax= B[i][f]['lowerY'],ymin = 0,linestyle = 'dashed',colors = 'black')\n",
    "        axis[f].set_ylim(ymin=0,ymax=13)\n",
    "        axis[f].set_xlim(xmin=0,xmax=1)\n",
    "    \n",
    "        axis[f].set_ylabel(r'Probability density')\n",
    "        axis[f].set_xlabel(r'Probability')\n",
    "        \n",
    "        \n",
    "\n",
    "handles, labels = axis[f].get_legend_handles_labels()\n",
    "figure.legend(handles, labels,bbox_to_anchor=(0.9, 1.2), loc='upper center', borderaxespad=0)\n",
    "\n",
    "\n",
    "plt.show()\n",
    "\n"
   ]
  },
  {
   "cell_type": "code",
   "execution_count": 15,
   "id": "fb6e4934",
   "metadata": {
    "execution": {
     "iopub.execute_input": "2023-04-18T15:06:43.281408Z",
     "iopub.status.busy": "2023-04-18T15:06:43.280434Z",
     "iopub.status.idle": "2023-04-18T15:06:43.286132Z",
     "shell.execute_reply": "2023-04-18T15:06:43.286765Z"
    },
    "jdh": {
     "module": "object",
     "object": {
      "source": [
       "Figure 7. The probability of women’s absence or presence in news sheets randomly selected from the MIA News Corpus. For further explanation of the plot, see the legend under Figure 5."
      ],
      "type": "image"
     }
    },
    "tags": [
     "figure-7"
    ]
   },
   "outputs": [
    {
     "data": {
      "image/png": "[encoded data removed]",
      "text/plain": [
       "<IPython.core.display.Image object>"
      ]
     },
     "execution_count": 15,
     "metadata": {},
     "output_type": "execute_result"
    }
   ],
   "source": [
    "Image('media/image36.png')"
   ]
  },
  {
   "cell_type": "code",
   "execution_count": 16,
   "id": "585143b7",
   "metadata": {
    "execution": {
     "iopub.execute_input": "2023-04-18T15:06:43.319789Z",
     "iopub.status.busy": "2023-04-18T15:06:43.290691Z",
     "iopub.status.idle": "2023-04-18T15:06:55.327265Z",
     "shell.execute_reply": "2023-04-18T15:06:55.327993Z"
    },
    "tags": [
     "hermeneutics"
    ]
   },
   "outputs": [
    {
     "name": "stdout",
     "output_type": "stream",
     "text": [
      "Mean:0.7505882352941177\n",
      "Positive deviation from the mean:0.07863614398054108\n",
      "Negative deviation from the mean:0.08793925611604547\n"
     ]
    },
    {
     "data": {
      "text/plain": [
       "<matplotlib.legend.Legend at 0x4091f7e110>"
      ]
     },
     "execution_count": 16,
     "metadata": {},
     "output_type": "execute_result"
    },
    {
     "data": {
      "image/png": "[encoded data removed]",
      "text/plain": [
       "<Figure size 360x270 with 1 Axes>"
      ]
     },
     "metadata": {
      "needs_background": "light"
     },
     "output_type": "display_data"
    }
   ],
   "source": [
    "from scipy.stats import beta\n",
    "\n",
    "dfTemp = df.docid.value_counts().to_frame('docid')\n",
    "indices = dfTemp[dfTemp.docid>7].index.to_list()\n",
    "df = df[df.docid.isin(indices)]\n",
    "\n",
    "\n",
    "# Sample women\n",
    "alpha_values = []\n",
    "beta_values = []\n",
    "n_trials = 100\n",
    "sampleSize = 100\n",
    "results = []\n",
    "for i in range(0,n_trials):\n",
    "    #sample = df.sample(n=sampleSize)\n",
    "    \n",
    "    sample = df.docid.sample(n=sampleSize)\n",
    "   \n",
    "    resultM = []\n",
    "    resultW = []\n",
    "    for dId in sample.to_list():\n",
    "        resW = True in df[df.docid==dId].woman.to_list()\n",
    "        resM = True in df[df.docid==dId].man.to_list()\n",
    "        resultW.append(resW)\n",
    "        resultM.append(resM)\n",
    "     \n",
    "    # Postprocess sample\n",
    "    sample = sample.to_frame()\n",
    "    sample['woman'] = resultW\n",
    "    \n",
    "    \n",
    "    success = sample[sample.woman==True].shape[0]\n",
    "    failure = sample[sample.woman==False].shape[0]\n",
    "    result = np.array([success,failure])\n",
    "    results.append(result)\n",
    "results = np.vstack(results)\n",
    "a = results.mean(axis=0)[0]\n",
    "b = results.mean(axis=0)[1]\n",
    "alpha_values.append(a)\n",
    "beta_values.append(b)\n",
    "\n",
    "\n",
    "means = []\n",
    "linestyles = ['#4682B4']\n",
    "x = np.linspace(0, 1, 1002)[1:-1]\n",
    "labels = ['Beta distribution of terms denoting women','Beta distribution of terms denoting men']\n",
    "\n",
    "#------------------------------------------------------------\n",
    "# plot the distributions\n",
    "fig, ax = plt.subplots(figsize=(5, 3.75))\n",
    "num = 0\n",
    "for a, b, ls, label in zip(alpha_values[0:1], beta_values[0:1], linestyles[0:1],labels[0:1]):\n",
    "    lower, upper = beta.interval(0.95, a+1, b+1, loc=0)\n",
    "    mean = beta.mean(a+1, b+1)\n",
    "    \n",
    "    dist = beta(a+1, b+1)\n",
    "    meanY = dist.pdf(mean)\n",
    "    lowerY = dist.pdf(lower)\n",
    "    upperY = dist.pdf(upper)\n",
    "    plt.plot(x, dist.pdf(x), c=ls,\n",
    "             label=label)\n",
    "    if num == 1:\n",
    "        plt.vlines(x = lower, ymin = 0, ymax = lowerY, colors = 'black' ,linestyle = 'dashed')\n",
    "        plt.vlines(x = upper, ymin = 0, ymax = upperY, colors = 'black', label = 'Confidence level' ,linestyle = 'dashed')\n",
    "        plt.vlines(x = mean, ymin = 0, ymax = meanY, colors = 'black', label = 'Mean value' ,linestyle = 'dotted')\n",
    "    else:\n",
    "        plt.vlines(x = lower, ymin = 0, ymax = lowerY, colors = 'black' ,linestyle = 'dashed',label = 'Confidence level')\n",
    "        plt.vlines(x = mean, ymin = 0, ymax = meanY, colors = 'black', linestyle = 'dotted',label = 'Mean value')\n",
    "        plt.vlines(x = upper, ymin = 0, ymax = upperY, colors = 'black' ,linestyle = 'dashed')\n",
    "    print(\"Mean:\"+str(mean))\n",
    "    print (\"Positive deviation from the mean:\"+str(upper-mean))\n",
    "    print (\"Negative deviation from the mean:\"+str(mean-lower))\n",
    "    means.append(dist.mean())\n",
    "    num +=1\n",
    "plt.xlim(0, 1)\n",
    "plt.ylim(0, 15)\n",
    "\n",
    "\n",
    "\n",
    "plt.xlabel('Probability')\n",
    "plt.ylabel(r'Probability density')\n",
    "a_W = np.format_float_positional(alpha_values[0]+1,precision=2)\n",
    "b_W = np.format_float_positional(beta_values[0]+1,precision=2)\n",
    "\n",
    "titleTextW = 'Women ('+r'$\\alpha$='+str(a_W)+r', $\\beta$='+str(b_W)+')'\n",
    "\n",
    "titleText = titleTextW\n",
    "plt.title(titleText)\n",
    "\n",
    "plt.legend(bbox_to_anchor=(2,1.2), borderaxespad=1)\n",
    "\n"
   ]
  },
  {
   "cell_type": "markdown",
   "id": "61c666ee",
   "metadata": {},
   "source": [
    "## Results B: Central themes of early modern handwritten news"
   ]
  },
  {
   "cell_type": "markdown",
   "id": "8672f285",
   "metadata": {},
   "source": [
    "When consuming news, Maria Magdalena von Habsburg must have encountered all sorts of information about the world. However, there must have been certain themes that were particularly recurrent on the news sheets she read. Generally speaking, news mongers today or back in the early modern times tend to encounter similar types of information. Previous scholarship came up with a variety of themes that were allegedly prevalent in early modern news (<cite data-cite=\"14123371/SWZQ7BFG\"></cite>):"
   ]
  },
  {
   "cell_type": "markdown",
   "id": "69687d0a",
   "metadata": {},
   "source": [
    "* international politics"
   ]
  },
  {
   "cell_type": "markdown",
   "id": "b7ecc861",
   "metadata": {},
   "source": [
    "* war"
   ]
  },
  {
   "cell_type": "markdown",
   "id": "244034df",
   "metadata": {},
   "source": [
    "* social affairs (such as royal weddings, royal births and official celebrations)"
   ]
  },
  {
   "cell_type": "markdown",
   "id": "29d290fb",
   "metadata": {},
   "source": [
    "* fires, miracles,"
   ]
  },
  {
   "cell_type": "markdown",
   "id": "0bff07a0",
   "metadata": {},
   "source": [
    "* bloody crimes"
   ]
  },
  {
   "cell_type": "markdown",
   "id": "aa4aaf48",
   "metadata": {},
   "source": [
    "* catastrophes ( unusual weather, plagues)"
   ]
  },
  {
   "cell_type": "markdown",
   "id": "aa66dce5",
   "metadata": {},
   "source": [
    "* court news (such as royal journeys, royal deaths and triumphal entries, etc)"
   ]
  },
  {
   "cell_type": "markdown",
   "id": "c3b5dd1c",
   "metadata": {},
   "source": [
    "* Church news"
   ]
  },
  {
   "cell_type": "markdown",
   "id": "29c25fa1",
   "metadata": {},
   "source": [
    "* sensational news (monsters, distorted humans, etc)"
   ]
  },
  {
   "cell_type": "markdown",
   "id": "d0591d72",
   "metadata": {},
   "source": [
    "However, earlier scholarship did not produce information about how important these topics were. While some of them must have been particularly recurrent, others were less frequent themes.  Similarly, the most important topics discussed in the context of women’s experience have also remained unknown. In this section, I will therefore reveal the most important topics of news in the MIA-Euronews Corpus, as well as their relationship to women and women’s experience in the early modern period. This discovery process will be supported by the analysis of those words that are strongly associated with women, as well as by the study of the semantic space underlying terms denoting women. Figure 12 renders this semantic space and shows those groups of words to which women terms are semantically related. "
   ]
  },
  {
   "cell_type": "code",
   "execution_count": 17,
   "id": "be1b915b",
   "metadata": {
    "execution": {
     "iopub.execute_input": "2023-04-18T15:06:55.341592Z",
     "iopub.status.busy": "2023-04-18T15:06:55.340672Z",
     "iopub.status.idle": "2023-04-18T15:06:55.397667Z",
     "shell.execute_reply": "2023-04-18T15:06:55.398309Z"
    },
    "jdh": {
     "object": {
      "source": [
       "Key terms in the news world underlying the MIA-Euronews Corpus. The importance of each term is measured in terms of its stationary probability (column prob)."
      ]
     }
    },
    "tags": [
     "hermeneutics",
     "table-2"
    ]
   },
   "outputs": [
    {
     "name": "stdout",
     "output_type": "stream",
     "text": [
      "Topic - Catastrophe, disease, and death:\n",
      "\n",
      "male\n",
      "morire\n",
      "morte\n",
      "danno\n",
      "\n",
      "\n",
      "Topic - Economics:\n",
      "\n",
      "dare\n",
      "pagare\n",
      "denaro\n",
      "danaro\n",
      "spesa\n",
      "carico\n",
      "\n",
      "\n",
      "Topic - Festivity :\n",
      "\n",
      "festa\n",
      "bello\n",
      "\n",
      "\n",
      "Topic - Governance:\n",
      "\n",
      "ordine\n",
      "servire\n",
      "corte\n",
      "ministro\n",
      "governo\n",
      "popolo\n",
      "regno\n",
      "affare\n",
      "impedire\n",
      "principale\n",
      "ordinare\n",
      "\n",
      "\n",
      "Topic - Information:\n",
      "\n",
      "dire\n",
      "mandare\n",
      "scrivere\n",
      "lettera\n",
      "sentire\n",
      "ricevere\n",
      "spedire\n",
      "avviso\n",
      "risposta\n",
      "\n",
      "\n",
      "Topic - Mental activity and intentions:\n",
      "\n",
      "volere\n",
      "credere\n",
      "vedere\n",
      "intendere\n",
      "sapere\n",
      "parere\n",
      "dubitare\n",
      "pensare\n",
      "\n",
      "\n",
      "Topic - Movement:\n",
      "\n",
      "andare\n",
      "venire\n",
      "passare\n",
      "portare\n",
      "partire\n",
      "restare\n",
      "aspettare\n",
      "parto\n",
      "ritornare\n",
      "condurre\n",
      "entrare\n",
      "arrivare\n",
      "mare\n",
      "via\n",
      "ritorno\n",
      "tornare\n",
      "strada\n",
      "viaggio\n",
      "\n",
      "\n",
      "Topic - Religion:\n",
      "\n",
      "cattolico\n",
      "religione\n",
      "chiesa\n",
      "\n",
      "\n",
      "Topic - War:\n",
      "\n",
      "guerra\n",
      "soldato\n",
      "cavallo\n",
      "trattare\n",
      "armata\n",
      "pace\n",
      "terra\n",
      "galera\n",
      "forza\n",
      "nemico\n",
      "fante\n",
      "ritirare\n",
      "guardia\n",
      "arma\n",
      "nave\n",
      "esercito\n",
      "prigione\n",
      "fortezza\n",
      "truppa\n",
      "campo\n",
      "campagna\n",
      "\n",
      "\n"
     ]
    }
   ],
   "source": [
    "# Get those words the stationary probability of which is in the upper quartile\n",
    "keyTerms = stationaryProb[stationaryProb.prob>stationaryProb.prob.quantile(0.75)]\n",
    "\n",
    "# Print those that belong to a certain group of topics, including their stationary probability\n",
    "dfKeyTerms = pd.read_csv('data/input/keyTermsTopics.csv',delimiter=';')\n",
    "dfKeyTerms = dfKeyTerms.groupby('Topic')['Term'].apply(list).to_frame()\n",
    "for row in dfKeyTerms.iterrows():\n",
    "    print('Topic - '+row[0]+':\\n')\n",
    "    for word in row[1]['Term']:\n",
    "        try:\n",
    "            print(word)\n",
    "            prob = keyTerms[keyTerms.term==word]['prob'].values[0]\n",
    "        except:\n",
    "            continue\n",
    "    print('\\n')\n",
    "\n",
    "   "
   ]
  },
  {
   "cell_type": "code",
   "execution_count": null,
   "id": "3dda4c78",
   "metadata": {
    "execution": {
     "iopub.execute_input": "2023-04-18T15:06:55.433308Z",
     "iopub.status.busy": "2023-04-18T15:06:55.432315Z",
     "iopub.status.idle": "2023-04-18T15:10:06.371849Z",
     "shell.execute_reply": "2023-04-18T15:10:06.372476Z"
    },
    "jdh": {
     "object": {
      "source": [
       "List of key terms accompanying women terms in the MIA-Euronews Corpus, including the likeliness that they co-occur."
      ]
     }
    },
    "tags": [
     "hermeneutics",
     "table-3"
    ]
   },
   "outputs": [],
   "source": [
    "# Print those words that are the most likely to accompany terms related to women\n",
    "\n",
    "womenTerms = ['regina',\n",
    " 'signora',\n",
    " 'contessa',\n",
    " 'marchesa',\n",
    " 'duchessa',\n",
    " 'principessa',\n",
    " 'sposa',\n",
    " 'moglie',\n",
    " 'madre',\n",
    " 'consorte',\n",
    " 'sorella',\n",
    " 'figlia',\n",
    " 'donna',\n",
    " 'nipote',\n",
    " 'gentildonna']\n",
    "\n",
    "terms = pd.read_csv('data/input/keyWordsSurroundingWomen.csv',delimiter=';')\n",
    "addendum = ['vestire','tagliare','difesa',\n",
    "           'prigione','attaccare','assedio','sorella','figlia','figlio','deliberare','entrata','moglie']\n",
    "for el in addendum:\n",
    "    entry = pd.DataFrame([{'Term':el}])\n",
    "    terms = pd.concat([terms, entry], ignore_index = True, axis = 0)\n",
    "terms = terms[~terms.Term.isin(['povero','peste','dire','ducato','condurre','celebrare','visita','robbe'])]\n",
    "\n",
    "# First run the simulation of the corpus\n",
    "\n",
    "def simulateText(P,dictionary,length):\n",
    "    vocabNumerical = [i for i,element in enumerate(dictionary)]\n",
    "    rw = RandomWalk(vocabNumerical, P)\n",
    "    states, probs = rw.run(ntimes=length)\n",
    "    return states\n",
    "\n",
    "states = simulateText(P,dictionary,1000000)\n",
    "\n",
    "# Get those terms that accompany women terms\n",
    "\n",
    "def postProcessSimulationResultsV2(probabilities,term,stationaryProb):\n",
    "    entries = []\n",
    "    for key in probabilities:\n",
    "        try:\n",
    "            entry = {'term':key,'prob':probabilities[key][-1]}\n",
    "        except:\n",
    "            entry = {'term':key,'prob':np.nan}\n",
    "        entries.append(entry)\n",
    "\n",
    "    df = pd.DataFrame(entries).sort_values('prob',ascending=False)\n",
    "    df['scaledToMedian'] = df['prob']/df.prob.median()\n",
    "    \n",
    "    p_a = []\n",
    "    for ter in term:\n",
    "        prob = stationaryProb[stationaryProb['term']==ter]['prob'].values[0]\n",
    "        p_a.append(prob)\n",
    "    p_a = np.array(p_a).sum()\n",
    "    results = []\n",
    "    for row in df.iterrows():\n",
    "        term = row[1]['term']\n",
    "        p_b_a = row[1]['prob']\n",
    "        if np.isnan(p_b_a):\n",
    "            p_a_b = np.nan\n",
    "        else:\n",
    "            p_b = stationaryProb[stationaryProb['term']==term]['prob'].values[0]\n",
    "            p_a_b = bayes_theorem(p_a,p_b,p_b_a)\n",
    "        results.append(p_a_b)\n",
    "    df['bayesRescaled'] = results\n",
    "    return df\n",
    "\n",
    "def getContextualProbabilitiesV2(simulatedStates,term,dictionary,direction=None):\n",
    "\n",
    "    counter = {element:[] for element in dictionary}\n",
    "    probabilities = {element:[] for element in dictionary}\n",
    "    means = {element:[] for element in dictionary}\n",
    "    positions = {element:[] for element in dictionary}\n",
    "\n",
    "    if direction == 'preceding':\n",
    "        for i,element in enumerate(np.where(np.array(simulatedStates) == dictionary.index(term))[0]):\n",
    "            try:\n",
    "                neighbour = simulatedStates[element-1]\n",
    "                p = len(counter[dictionary[neighbour]])/i\n",
    "                probabilities[dictionary[neighbour]].append(p)\n",
    "                means[dictionary[neighbour]].append(np.array(probabilities[dictionary[neighbour]]).mean())\n",
    "                counter[dictionary[neighbour]].append(1)\n",
    "                position = element\n",
    "                positions[dictionary[neighbour]].append(position)\n",
    "            except Exception as e:\n",
    "                #print(e)\n",
    "                pass\n",
    "        return means, positions\n",
    "    elif direction == 'following':\n",
    "        for i,element in enumerate(np.where(np.array(simulatedStates) == dictionary.index(term))[0]):\n",
    "            try:\n",
    "                neighbour = simulatedStates[element+1]\n",
    "                p = len(counter[dictionary[neighbour]])/i\n",
    "\n",
    "                probabilities[dictionary[neighbour]].append(p)\n",
    "                means[dictionary[neighbour]].append(np.array(probabilities[dictionary[neighbour]]).mean())\n",
    "                counter[dictionary[neighbour]].append(1)\n",
    "                position = element\n",
    "                positions[dictionary[neighbour]].append(position)\n",
    "            except Exception as e:\n",
    "                #print(e)\n",
    "                pass\n",
    "        return means, positions\n",
    "   \n",
    "    elif direction == None:\n",
    "        indices = []\n",
    "        for ter in term:\n",
    "            index = dictionary.index(ter)\n",
    "            indices.append(index)\n",
    "        locations = []\n",
    "    \n",
    "        for ind in indices:\n",
    "            loc = np.where(np.array(simulatedStates) == ind)[0]\n",
    "            locations.extend(loc)\n",
    "        \n",
    "        for i,element in enumerate(locations):\n",
    "            try:\n",
    "                neighbour = simulatedStates[element+1]\n",
    "                p = len(counter[dictionary[neighbour]])/i\n",
    "\n",
    "                probabilities[dictionary[neighbour]].append(p)\n",
    "                means[dictionary[neighbour]].append(np.array(probabilities[dictionary[neighbour]]).mean())\n",
    "                counter[dictionary[neighbour]].append(1)\n",
    "                position = element\n",
    "                positions[dictionary[neighbour]].append(position)\n",
    "            except Exception as e:\n",
    "                #print(e)\n",
    "                pass\n",
    "            try:\n",
    "                neighbour = simulatedStates[element-1]\n",
    "                p = len(counter[dictionary[neighbour]])/i\n",
    "\n",
    "                probabilities[dictionary[neighbour]].append(p)\n",
    "                means[dictionary[neighbour]].append(np.array(probabilities[dictionary[neighbour]]).mean())\n",
    "                counter[dictionary[neighbour]].append(1)\n",
    "                position = element\n",
    "                positions[dictionary[neighbour]].append(position)\n",
    "            except Exception as e:\n",
    "                #print(e)\n",
    "                pass\n",
    "        return means, positions\n",
    "    \n",
    "    else:\n",
    "        raise Exception(\"Direction should be either preceding or following or None\")\n",
    "\n",
    "\n",
    "def bayes_theorem(p_a, p_b, p_b_given_a):\n",
    "  # calculate P(A|B) = P(B|A) * P(A) / P(B)\n",
    "  p_a_given_b = (p_b_given_a * p_a) / p_b\n",
    "  return p_a_given_b        \n",
    "        \n",
    "probabilities,positions = getContextualProbabilitiesV2(states,womenTerms,dictionary)\n",
    "dfResult = postProcessSimulationResultsV2(probabilities,womenTerms,stationaryProb)\n",
    "dfTemp = dfResult[dfResult.term.isin(terms.Term.to_list())]\n",
    "dfTemp = dfTemp.fillna(0)\n",
    "\n",
    "# Print those selected terms that are most likely to follow or precede women terms\n",
    "display(dfTemp.sort_values('prob',ascending=False)[['prob','term']])\n",
    "\n",
    "# Print the selected terms above with the strength of association between them and women terms\n",
    "\n",
    "dfTemp['bayesRescaled'] = dfTemp.bayesRescaled/dfTemp.bayesRescaled.sum()\n",
    "display(dfTemp.sort_values('bayesRescaled',ascending=False)[['prob','term']])"
   ]
  },
  {
   "cell_type": "code",
   "execution_count": null,
   "id": "78f53394",
   "metadata": {
    "execution": {
     "iopub.execute_input": "2023-04-18T15:10:06.378109Z",
     "iopub.status.busy": "2023-04-18T15:10:06.377206Z",
     "iopub.status.idle": "2023-04-18T15:10:06.396077Z",
     "shell.execute_reply": "2023-04-18T15:10:06.396698Z"
    },
    "jdh": {
     "module": "object",
     "object": {
      "source": [
       "Figure 8.  A selection of the most common terms, and subsequently topics, in the MIA-Euronews Corpus. Stationary probability was used to infer how common a given word is; all terms on the plot have a stationary probability that is higher than the upper quartile; the size of the bubbles is adjusted according to the stationary probability of each word. The selection was by a human agent."
      ],
      "type": "image"
     }
    },
    "tags": [
     "figure-8"
    ]
   },
   "outputs": [],
   "source": [
    "Image('media/image8.png',width=800)"
   ]
  },
  {
   "cell_type": "code",
   "execution_count": null,
   "id": "8125afdd",
   "metadata": {
    "execution": {
     "iopub.execute_input": "2023-04-18T15:10:06.402552Z",
     "iopub.status.busy": "2023-04-18T15:10:06.401658Z",
     "iopub.status.idle": "2023-04-18T15:10:06.410941Z",
     "shell.execute_reply": "2023-04-18T15:10:06.411564Z"
    },
    "jdh": {
     "module": "object",
     "object": {
      "source": [
       "Figure 9 A.  see legend below Figure 9 B"
      ],
      "type": "image"
     }
    },
    "tags": [
     "figure-9-A"
    ]
   },
   "outputs": [],
   "source": [
    "Image('media/image15.png')"
   ]
  },
  {
   "cell_type": "code",
   "execution_count": null,
   "id": "238bb535",
   "metadata": {
    "execution": {
     "iopub.execute_input": "2023-04-18T15:10:06.417322Z",
     "iopub.status.busy": "2023-04-18T15:10:06.416419Z",
     "iopub.status.idle": "2023-04-18T15:10:06.424241Z",
     "shell.execute_reply": "2023-04-18T15:10:06.424909Z"
    },
    "jdh": {
     "module": "object",
     "object": {
      "source": [
       "Figure 9-B. Selection of key terms surrounding words denoting women in the MIA-Euronews Corpus. Figure A shows the strength of association between a given term and words denoting women. Figure B shows how likely a given term is to precede or to follow words denoting women within a window of five words.  Words coloured in terms of their importance (measured with the help of the stationary probability) in the MIA-Euronews Corpus: orange - very important, purple (important), green (not important)."
      ],
      "type": "image"
     }
    },
    "tags": [
     "figure-9-B"
    ]
   },
   "outputs": [],
   "source": [
    "Image('media/image32.png')"
   ]
  },
  {
   "cell_type": "code",
   "execution_count": null,
   "id": "c95372d6",
   "metadata": {
    "ExecuteTime": {
     "end_time": "2023-02-28T15:58:53.698034Z",
     "start_time": "2023-02-28T15:58:53.435345Z"
    },
    "execution": {
     "iopub.execute_input": "2023-04-18T15:10:06.430549Z",
     "iopub.status.busy": "2023-04-18T15:10:06.429648Z",
     "iopub.status.idle": "2023-04-18T15:10:06.437925Z",
     "shell.execute_reply": "2023-04-18T15:10:06.438579Z"
    },
    "jdh": {
     "module": "object",
     "object": {
      "source": [
       "figure 10 A:  see legend below 10 D"
      ],
      "type": "image"
     }
    },
    "tags": [
     "figure-13"
    ]
   },
   "outputs": [],
   "source": [
    "Image('media/image29.png')"
   ]
  },
  {
   "cell_type": "code",
   "execution_count": null,
   "id": "a246a6fd",
   "metadata": {
    "execution": {
     "iopub.execute_input": "2023-04-18T15:10:06.444395Z",
     "iopub.status.busy": "2023-04-18T15:10:06.443461Z",
     "iopub.status.idle": "2023-04-18T15:10:06.452065Z",
     "shell.execute_reply": "2023-04-18T15:10:06.452705Z"
    },
    "jdh": {
     "module": "object",
     "object": {
      "source": [
       "figure 10 B:  see legend below 10 D"
      ],
      "type": "image"
     }
    },
    "tags": [
     "figure-14"
    ]
   },
   "outputs": [],
   "source": [
    "Image('media/image21.png')"
   ]
  },
  {
   "cell_type": "code",
   "execution_count": null,
   "id": "e042ea80",
   "metadata": {
    "execution": {
     "iopub.execute_input": "2023-04-18T15:10:06.458522Z",
     "iopub.status.busy": "2023-04-18T15:10:06.457594Z",
     "iopub.status.idle": "2023-04-18T15:10:06.465595Z",
     "shell.execute_reply": "2023-04-18T15:10:06.466355Z"
    },
    "jdh": {
     "module": "object",
     "object": {
      "source": [
       "figure 10 C:  see legend below 10 D"
      ],
      "type": "image"
     }
    },
    "tags": [
     "figure-15"
    ]
   },
   "outputs": [],
   "source": [
    "Image('media/image20.png')"
   ]
  },
  {
   "cell_type": "code",
   "execution_count": null,
   "id": "a96ec0ec",
   "metadata": {
    "execution": {
     "iopub.execute_input": "2023-04-18T15:10:06.472865Z",
     "iopub.status.busy": "2023-04-18T15:10:06.471976Z",
     "iopub.status.idle": "2023-04-18T15:10:06.479548Z",
     "shell.execute_reply": "2023-04-18T15:10:06.480171Z"
    },
    "jdh": {
     "module": "object",
     "object": {
      "source": [
       "Figure 10 D. Selection of key terms surrounding different sets of words denoting women in the MIA-Euronews Corpus. Figure A shows how likely a given term is to precede or to follow the word donna (woman) within a window of five words. Figure B shows how likely a given term is to precede or to follow the word regina (queen) within a window of five words. Figure C shows how likely a given term is to precede or to follow the words principessa (queen), duchessa (duchess), consorte (consort) within a window of five words. Figure D shows how likely a given term is to precede or to follow the words principessa (queen), duchessa (duchess), consorte (consort) within a window of five words. Words coloured in terms of their importance (measured with the help of the stationary probability) in the MIA-Euronews Corpus: orange - very important, purple (important), green (not important)."
      ],
      "type": "image"
     }
    },
    "tags": [
     "figure-16"
    ]
   },
   "outputs": [],
   "source": [
    "Image('media/image30.png')"
   ]
  },
  {
   "cell_type": "code",
   "execution_count": null,
   "id": "546709c2",
   "metadata": {
    "execution": {
     "iopub.execute_input": "2023-04-18T15:10:06.485582Z",
     "iopub.status.busy": "2023-04-18T15:10:06.484693Z",
     "iopub.status.idle": "2023-04-18T15:10:06.492758Z",
     "shell.execute_reply": "2023-04-18T15:10:06.493374Z"
    },
    "jdh": {
     "module": "object",
     "object": {
      "source": [
       "figure 11 A:  see legend below 11 D"
      ],
      "type": "image"
     }
    },
    "tags": [
     "figure-17"
    ]
   },
   "outputs": [],
   "source": [
    "Image('media/image24.png')"
   ]
  },
  {
   "cell_type": "code",
   "execution_count": null,
   "id": "aaeefbcb",
   "metadata": {
    "execution": {
     "iopub.execute_input": "2023-04-18T15:10:06.498230Z",
     "iopub.status.busy": "2023-04-18T15:10:06.496550Z",
     "iopub.status.idle": "2023-04-18T15:10:06.506236Z",
     "shell.execute_reply": "2023-04-18T15:10:06.506852Z"
    },
    "jdh": {
     "module": "object",
     "object": {
      "source": [
       "figure 11 B:  see legend below 11 D"
      ],
      "type": "image"
     }
    },
    "tags": [
     "figure-18"
    ]
   },
   "outputs": [],
   "source": [
    "Image('media/image26.png')"
   ]
  },
  {
   "cell_type": "code",
   "execution_count": null,
   "id": "daba2627",
   "metadata": {
    "execution": {
     "iopub.execute_input": "2023-04-18T15:10:06.511729Z",
     "iopub.status.busy": "2023-04-18T15:10:06.509908Z",
     "iopub.status.idle": "2023-04-18T15:10:06.519755Z",
     "shell.execute_reply": "2023-04-18T15:10:06.520452Z"
    },
    "jdh": {
     "module": "object",
     "object": {
      "source": [
       "figure 11 C:  see legend below 11 D"
      ],
      "type": "image"
     }
    },
    "tags": [
     "figure-19"
    ]
   },
   "outputs": [],
   "source": [
    "Image('media/image10.png')"
   ]
  },
  {
   "cell_type": "code",
   "execution_count": null,
   "id": "bce9c91c",
   "metadata": {
    "execution": {
     "iopub.execute_input": "2023-04-18T15:10:06.525450Z",
     "iopub.status.busy": "2023-04-18T15:10:06.523740Z",
     "iopub.status.idle": "2023-04-18T15:10:06.533240Z",
     "shell.execute_reply": "2023-04-18T15:10:06.533859Z"
    },
    "jdh": {
     "module": "object",
     "object": {
      "source": [
       "Figure 11 D. Selection of key terms surrounding different sets of words denoting women in the MIA-Euronews Corpus. Figure A shows the strength of association between a given term and the word donna (woman). Figure B shows the strength of association between a given term and the word regina (queen). Figure C shows the strength of association between a given term and the words principessa (queen), duchessa (duchess), consorte (consort) within a window of five words. Figure D shows the strength of association between a given term and the words principessa (queen), duchessa (duchess), consorte (consort) within a window of five words. Words coloured in terms of their importance (measured with the help of the stationary probability) in the MIA-Euronews Corpus: orange - very important, purple (important), green (not important)."
      ],
      "type": "image"
     }
    },
    "tags": [
     "figure-20"
    ]
   },
   "outputs": [],
   "source": [
    "Image('media/image9.png')"
   ]
  },
  {
   "cell_type": "code",
   "execution_count": null,
   "id": "b731ffd3",
   "metadata": {
    "ExecuteTime": {
     "end_time": "2023-03-01T12:27:43.781034Z",
     "start_time": "2023-03-01T12:27:43.745611Z"
    },
    "execution": {
     "iopub.execute_input": "2023-04-18T15:10:06.539145Z",
     "iopub.status.busy": "2023-04-18T15:10:06.538247Z",
     "iopub.status.idle": "2023-04-18T15:10:06.559335Z",
     "shell.execute_reply": "2023-04-18T15:10:06.560605Z"
    },
    "jdh": {
     "module": "object",
     "object": {
      "source": [
       "Figure 12.  The semantics of terms denoting women in the MIA-Euronews Corpus. The plot highlights the most important clusters of words, and subsequently topics, that are semantically related to terms denoting women."
      ],
      "type": "image"
     }
    },
    "tags": [
     "figure-21"
    ]
   },
   "outputs": [],
   "source": [
    "Image('media/image5.png')"
   ]
  },
  {
   "cell_type": "markdown",
   "id": "0f33797c",
   "metadata": {},
   "source": [
    "###  Movement in the geographical space"
   ]
  },
  {
   "cell_type": "markdown",
   "id": "f17c4601",
   "metadata": {},
   "source": [
    "In August of 1551 the Medici court received a news sheet from Vienna (ASF MdP, 4572) giving notice about the departure of Duke Ferdinand of Austria (Holy Roman Emperor, 1556 - 1564) to Boemia. The same news sheet also informed its readers about the leaving of the Hungarian aristocrat, Tamas Nadasdy, to his castles. The news sheet from Vienna typifies the single most important theme in the MIA- Euronews Corpus, and most probably in early modern handwritten new sheets in general. This is the movement of historical actors and goods in the geographical space. Early modern news extensively reported about the arrivals, the departures, and the returns of historical actors such as sovereigns, churchmen, and ambassadors. News about the arrival of messengers and ships with precious cargo were also recurrent. With road conditions dramatically improving and with courts frequently traveling between summer and winter residences, the early modern period was a world in movement (<cite data-cite=\"14123371/LYRC68NN\"></cite>). Movements of sovereigns were highly visible events, often accompanied by public rituals and processions."
   ]
  },
  {
   "cell_type": "markdown",
   "id": "e7af2a55",
   "metadata": {},
   "source": [
    "In light of this, it is not surprising that one of the most likely topics discussed in the context of women is movement and traveling (see Figure 9 B). Terms denoting spatial movements such as andare (to go), venire (to come), passare (to pass by), and partire (to depart) are ones of the most likely terms to co-occur with terms denoting women (see Figure 9 B). Of course, if social status is taken into consideration, there are important differences. While the news extensively discuss the movement of women belonging to the elite, the discussion of the movement of women of humble origin, usually mentioned by the general term donna (woman), is less comprehensive (see Figure 10). At the same time, it is important to underline that movement in the geographical space is not a topic that is strongly associated with women only. In other words, terms denoting movement in space are very likely to occur in the context of women, but the strength of association between these terms and women terms still tends to be low (see Figure 11). This is also highlighted by the absence of travel words from the semantic space around women terms (see Figure 12). "
   ]
  },
  {
   "cell_type": "markdown",
   "id": "29881a57",
   "metadata": {},
   "source": [
    "There are however three terms that are loosely related to the topic movement in the geographical space and also strongly connected with terms denoting women. The first one is visitare (to visit). Early modern news often discuss the spatial movement of actors aiming to visit another actor or to visit special locations such as churches, palaces or events related to devotion (see the proximity of travel words to terms related to religion on Figure 12). In these visits women of the elite often had prominent roles, which is demonstrated (see Figure 11 B, C, D and Figure 12) by the relatively strong associative relationship between women of the elite and the term visitare. The second one is accompagnare (to accompany). Women did not travel alone; they were often accompanied by their husbands or by their entourage. The news often discuss who accompanied women throughout their travels. The third one is alloggiare (to lodge). News frequently highlight who put up foreign visitors and dignitaries, which explains why alloggiare is positioned close to visitare in the semantic space."
   ]
  },
  {
   "cell_type": "markdown",
   "id": "253be402",
   "metadata": {},
   "source": [
    "### Intentions and mental states of historical actors"
   ]
  },
  {
   "cell_type": "markdown",
   "id": "da4c8917",
   "metadata": {},
   "source": [
    "Scholarship has emphasized that news were tools to monitor the geopolitical and political developments in the world (<cite data-cite=\"14123371/I2G6YMGM\"></cite>). News mongers, such as the high ranking officials of the Medici court, as well as the grand dukes themselves, read handwritten news sheets to gather insights into the ambitions and goals of other courts and sovereigns. This function of handwritten news explains why the topic that I describe as intentions and beliefs (or mental states) of historical actors is a particularly important theme in my dataset. Words such as sapere (to know), credere (to believe), volere (to want), pensare (to think), dubitare (to doubt) belong to the topic intentions and beliefs of historical actors."
   ]
  },
  {
   "cell_type": "markdown",
   "id": "08c34de9",
   "metadata": {},
   "source": [
    "This topic is generally unrelated to women; it is associated with men. News are unlikely to discuss the beliefs and intentions of women (see Figure 10 and see the absence of terms related to beliefs and intentions on Figure 12.). The only exception is queen (most probably referring to Elisabeth I. of England (1558 - 1603)). Volere (to want), intendere (to intent), and sapere (to know) are likely to co-occur with the term queen (see Figure 10 B) but the strength of association between regina (queen) and these terms is still low (see Figure 11 B).\n"
   ]
  },
  {
   "cell_type": "markdown",
   "id": "8ed0e31c",
   "metadata": {},
   "source": [
    "###  Information circulation"
   ]
  },
  {
   "cell_type": "markdown",
   "id": "d7259b4f",
   "metadata": {},
   "source": [
    "In May 1642, it was reported from London that the English king, Charles I (1625 - 1649) received a letter from the governors of Ireland who thanked the king’s interest in affairs in Ireland (ASF MdP, 4201). This story exemplifies how court officials and sovereigns used news to keep track of not only geopolitical developments but also information circulation. News sheets often report about the arrival of important letters and messengers; occasionally, they inform readers about letters and messengers sent abroad. The importance of this topic that I name information circulation is signaled by a number of key terms: mandare (to send), rispondere (to answer), lettera (letter), scrivere (to write). Furthermore, news often discusses public opinion and information circulating through word of mouth, which is signaled by the term dire (to say). Information circulation is a theme that is strongly associated with men. For instance, mandare (to send), inviare (to send), spedire (to send) are all associated with men and unrelated to women (see Figure 9). "
   ]
  },
  {
   "cell_type": "markdown",
   "id": "e027c912",
   "metadata": {},
   "source": [
    "### War"
   ]
  },
  {
   "cell_type": "markdown",
   "id": "22a4bbc8",
   "metadata": {},
   "source": [
    "Figure 8 brings forward another key theme of early modern news: war. I did not find a strong relationship between this topic and women. My findings suggest that news rather focused on the  impacts of war on the people (gente in Italian) in general. There is however one aspect of wars that is particularly related to women of humble origins (donna). This is violence, which is discussed in the following section."
   ]
  },
  {
   "cell_type": "markdown",
   "id": "66ab15aa",
   "metadata": {},
   "source": [
    "### Catastrophes, diseases, and epidemics"
   ]
  },
  {
   "cell_type": "markdown",
   "id": "fccde29b",
   "metadata": {},
   "source": [
    "Natural catastrophes and diseases is another key topic frequently featuring in early modern news. This theme is similar to the topic of war. It severely affected women but news generally discuss it in the context of people in general (_gente_) and do not specifically highlight women's perspectives."
   ]
  },
  {
   "cell_type": "markdown",
   "id": "bde4d5d5",
   "metadata": {},
   "source": [
    "### Public festivities and celebrations"
   ]
  },
  {
   "cell_type": "markdown",
   "id": "ab4fac40",
   "metadata": {
    "tags": [
     "narrative"
    ]
   },
   "source": [
    "Among the most recurrent topics of early modern news, we can find one that is specifically related to women and women experience. This is the topic of festivities and celebrations signaled by two key terms in the semantic space underlying womanhood (see Figure 12): bello (beautiful) and festa (feast). Both are associated with women and likely to occur in the context of women (see Figure  9 A and B and Figure  12). Public festivities were highly visible events and they expressed the prestige of locations where they took place. Women had important roles in these festivities; they for instance participated in public processions and parades. Beauty does not necessarily imply the physical beauty of women who participated; it rather implies the splendor of the entire setting, i.e. beauty of clothes and of various decorative elements. This explains why bello (beautiful) is closely positioned to vestire (to dress) and carrozza (wagon) in the semantic space (see  Figure  12). Not surprisingly, the theme festivities and celebrations feature stronger relationships to women of the elite than to women of humble origins (see Figure 10 and 11).\n"
   ]
  },
  {
   "cell_type": "markdown",
   "id": "a61f9bc3",
   "metadata": {},
   "source": [
    "###  Governance and politics"
   ]
  },
  {
   "cell_type": "markdown",
   "id": "7b5de3c3",
   "metadata": {},
   "source": [
    "News writers often gave notice about the political development in a given location. This is of course a highly recurrent theme signaled by a number of key terms: ordine (order), impedire (to obstruct), regno (kingdom), affare (affair), governo (government), etc. My findings (see the absence of terms related to governance on Figure 12) suggest that this topic was very much unrelated to women."
   ]
  },
  {
   "cell_type": "markdown",
   "id": "59cc3d58",
   "metadata": {},
   "source": [
    "###  Religion"
   ]
  },
  {
   "cell_type": "markdown",
   "id": "7432dc39",
   "metadata": {},
   "source": [
    "The last central theme that my analysis revealed is religion. Even though religion and women were deeply connected in the early modern period, I found that this connection in the thousands of handwritten news in the MIA-Euronews Corpus remained loose. Words related to religion do not typically occur in the close proximity of terms denoting women (references to nuns and cloisters are rare). As Figure 12 shows, religious celebrations and church visits are the sub-themes that establish connections between women and religion. One explanation for the loose connection between religion and women can be that religion is mainly discussed in the context of politics and wars of religion. Spirituality, which was the main theme connecting women and religion, is however rarely discussed in the news. \n"
   ]
  },
  {
   "cell_type": "markdown",
   "id": "0aa85958",
   "metadata": {},
   "source": [
    "## Results C: Non-central themes of early modern news"
   ]
  },
  {
   "cell_type": "markdown",
   "id": "9f2c0055",
   "metadata": {},
   "source": [
    "The explorative analysis in the previous section uncovered those themes that formed the core of early modern handwritten news sheets. In addition to them, I also identified other - less frequent - themes. Maria Maddalena von Habsburg and her contemporaries did read about these themes but less frequently than about the core themes. My findings suggest that women were associated with these non-core themes. "
   ]
  },
  {
   "cell_type": "markdown",
   "id": "ff0e9f07",
   "metadata": {},
   "source": [
    "###  Marriage and wedding"
   ]
  },
  {
   "cell_type": "markdown",
   "id": "7851af7f",
   "metadata": {},
   "source": [
    "Marriage was viewed as the cornerstone of social order in the early modern period. In tandem with family, marriage was the most rudimentary social framework that shaped the life of most (but not all) women and men (<cite data-cite=\"14123371/T6CNXASM\"></cite>;<cite data-cite=\"14123371/ENB8JPD5\"></cite>;<cite data-cite=\"14123371/QV4LV2AA\"></cite>). It was believed - both by catholics and protestants - to be a divine creation that aimed to maintain the harmony of social life. Marriage was particularly important for noble families since it contributed to social status and assured continuity over generations. Surprisingly, I found that marriage and wedding are non-central themes of the MIA–Euronews Corpus. I give a possible explanation for this in the Conclusion section.\n"
   ]
  },
  {
   "cell_type": "markdown",
   "id": "46546d57",
   "metadata": {},
   "source": [
    "What is not surprising is the fact that marriage, including wedding, is the theme that is most strongly associated with women in my newsheet corpus. Beyond the topic of movement in physical space, marriage and wedding are the most important topics in the context in which women occur (see Figure 9 A and Figure 12). There are however differences in terms of social status. While women of the elite are strongly associated with marriage, the same cannot be said about women of humble social origins. The term donna (woman), which usually denotes women of humble social origins, is in fact not associated with marriage (see Figure 11). "
   ]
  },
  {
   "cell_type": "markdown",
   "id": "73304e6b",
   "metadata": {},
   "source": [
    "The close reading of news reporting about marriages revealed an unexpected aspect of the strong associative relationship between women and marriage. In news reporting about marriages women usually remain in the background; sometimes the news do not even mention the name of the bride. For instance, in July 1574 a news sheet was sent from Milan to Florence. The news sheet (ASF MdP 3254) contains a notice of marriage between a certain Pietro Antonio Grasso, most probably a local nobleman, and an unnamed woman. Just like other marriage news, this report mainly focuses on those dignitaries who were present at the wedding. This explains why the term presenza (presence) is salient in the semantic space underlying women terms (see Figure 12). "
   ]
  },
  {
   "cell_type": "markdown",
   "id": "3df37590",
   "metadata": {},
   "source": [
    "Generally, marriage notices in the MIA-Euronews Corpus tend to be short and concise. They give the name of the husband and the wife, as well as the day when the marriage was celebrated, consumed or published. For instance, in April 1698, a news sheet arrived from Hamburg to Florence (ASF MdP 4191a) and reported the marriage between Frederick IV (1695 – 1702), the reigning Duke of Holstein-Gottorp and Hedvig Sophia Augusta of Sweden. The news is brief and to the point; it simply gives information about the marriage union without offering any details about the ceremony. Notably, marriage gifts and the amount of the dowry remain unmentioned. Some of the marriage news focus on marriage planning. For instance, a news sheet from Parma, compiled in January 1576, reported that the Duke of Parma, Ottavio Farnese (1547 - 1586), traveled to Turin to discuss a marriage plan for his daughter. Again, the focus of the news is Ottavio’s travel and marriage plan; the name of the daughter is not even mentioned. Other news report about marriage contracts and negotiations of dowries. Again, this group of news highlights the material aspect of marriage alliances and future wives remain in the background."
   ]
  },
  {
   "cell_type": "markdown",
   "id": "4618d26f",
   "metadata": {},
   "source": [
    "Material aspects and the presence of dignitaries were the focal points of news about wedding ceremonies as well. In April 1600 the Austrian city, Graz, hosted the wedding ceremony of Maria Anna of Bavaria with the future Emperor of the Holy Roman Empire, Ferdinand II. (1619 - 1637). Through news sheets sent directly from Graz and Vienna, the Medici in Florence could follow the event. These news sheets discuss the arrival of foreign dignitaries, give the names of ambassadors who were present, and describe the lavishness of wedding banquets and processions. Other wedding news in MIA-Euronews Corpus focus on gifts presented at the ceremony. For instance, a news sheet (ASF MdP 4201) that arrived from London in May, 1641 describes the marriage gifts by William II, Prince of Orange (1647 - 1650) to Maria Enrichetta Stuart in great detail, including the price of each gift. Little is actually said about the bride in marriage news; instead, material aspects are salient."
   ]
  },
  {
   "cell_type": "markdown",
   "id": "373f75d3",
   "metadata": {},
   "source": [
    "In summary, even though marriage is believed to have been the keystone of early modern social order, it is a marginal theme of handwritten news. Furthermore, the news typically discuss it through the lens of prestige and power. As a result, brides are not the focal points of marriage notices, yet they often remain in the background and treated as only one of the many protagonists. Marriage and wedding descriptions in the MIA-Euronews Corpus tend to be silent about the feelings and aspirations of future wives; they thus perpetuate the traditional view, questioned by recent scholarship (Davis & Davis, 1995), that early modern marriage was an emotionless bond that primarily aimed to establish political and social alliances between families.\n"
   ]
  },
  {
   "cell_type": "markdown",
   "id": "dbdbc9d4",
   "metadata": {},
   "source": [
    "### Pregnancy and childbirth"
   ]
  },
  {
   "cell_type": "markdown",
   "id": "504ec7a1",
   "metadata": {},
   "source": [
    "The reproductive role of women was highly important in early modern societies. For the elite women as mothers and children as heirs assured the continuity of a dynasty or of a noble family. For artisanal and merchant families children contributed to the completeness of the household that often drew on their labor. Both protestant and catholic theologians underlined the sanctity of the household that would remain incomplete without children (<cite data-cite=\"14123371/8RKKSR7C\"></cite>). Despite the apparent importance of childbirth and pregnancy, neither of them are significant themes in the MIA-Euronews Corpus. On the other hand, they are both strongly associated with women (see Figure 9, 10, and 11). "
   ]
  },
  {
   "cell_type": "markdown",
   "id": "8cf82c7c",
   "metadata": {},
   "source": [
    "Generally speaking, in the MIA-Euronews Corpus there are only occasional and sporadic mentions of pregnancy. What is also indicative is the fact that pregnancy does not occur as a news alone; it is usually discussed in tandem with other news. For instance, in April 1575 a piece of news arrived from Lyon through Rome (ASF MdP 3082); it extensively reported about fights with Hugenottes and as a side note it also mentioned the pregnancy of Queen of Navarra, Marguerite de Valois-Bourbon. Sometimes news in the MIA-Euronews Corpus comment on the development of the pregnancy including the number of months a woman has completed (for instance, ASF MdP 4191a, ASF MdP 3082, ASF MdP 4572). Occasionally, they give account of miscarriage, though as the MIA-Euronews Corpus suggests this was a particularly rare theme. "
   ]
  },
  {
   "cell_type": "markdown",
   "id": "d3567dda",
   "metadata": {},
   "source": [
    "Childbirth and baptism are equally unimportant themes in my dataset. When the news discuss them, they focus on the celebrative aspects. By contrast, biological and emotional aspects of childbirth usually remain unaddressed. In the MIA-Euronews Corpus we can also find examples of childbirth news where the name of the mother is not even communicated. For instance, there is a childbirth news in a news sheet compiled in June 1643 in Florence (ASF MdP 384); it reports about the birth of the second son of a local nobleman (Count Altoviti); it mentions the birth of the child and name of the father but not the name of the mother. News about baptism are somewhat similar to news about marriage and weddings. The most salient aspect is the presence of dignitaries and their representatives. Hence both childbirth and baptism are treated as prestige events with women and children again remaining in the background."
   ]
  },
  {
   "cell_type": "markdown",
   "id": "c320ca9f",
   "metadata": {},
   "source": [
    "### Crime and violence"
   ]
  },
  {
   "cell_type": "markdown",
   "id": "3aa47274",
   "metadata": {},
   "source": [
    "Crime and violence are not particularly important topics in the MIA-Euronews Corpus. However, as Figure 12 shows, they are semantically related to terms denoting women. But there is a remarkable dichotomy between women of the elite and women of humble origins. Crime and violence are closely associated with women of humble origins. In fact, if women of humble origins are mentioned in the news, they are quite likely to be discussed in the context of crime, violence, and social control (see the axes attaccare (attack) and difesa (defense) on Figure 10 A  and 11 A). The relationship between women and crime has two facets in the MIA-Euronews Corpus.\n"
   ]
  },
  {
   "cell_type": "markdown",
   "id": "29b0f02f",
   "metadata": {},
   "source": [
    "On the one hand, there are pieces of news about crimes committed by women. For instance, a news sheet that arrived from Rome in August 1719 (ASF MdP 100) reported about a woman who killed her husband. News sometimes report about the punishment of women, including public whipping, execution, and imprisonment. Reports about crimes by women are not surprising. In the early modern belief system women and transgressive social behavior were closely related (<cite data-cite=\"14123371/7CFN7DES\"></cite>). The connection was in part based on religious ideas. According to the Christian tradition, women were daughters of Eve, which established a direct connection with the Original Sin and the Fall of Man. As a result, in the early modern period it was widely believed that women were vulnerable to the incursions of the devil and to their own natural passions. This belief was also reinforced by premodern “scientific” ideas. According to the elemental physics of Gallen, Aristotle, and other ancient Greek philosophers, the female body is incomplete and vulnerable to uncontrollable emotions and passions. While men were associated with rationality and self-control, women were linked to nature, passion, and savageness. Women were also often subject to social control; this for instance gave rise to the regulation of clothes that women were allowed to wear in public. News sometimes discuss this theme as well. In short, everyday news reinforced the traditional misogynist beliefs of the early modern times by  relating women of humble origins to crime."
   ]
  },
  {
   "cell_type": "markdown",
   "id": "32f430e9",
   "metadata": {},
   "source": [
    "On the other hand, news also often report about violence against women. Again, these reports usually concern women of humble origins. A recurrent theme is violence by soldiers. For instance, a news sheet from Graz compiled in October 1600 extensively discusses the actual state of affairs in the war against the Ottomans (ASF MdP, 51248). It reports about violence of French mercenaries against women. Another news from Cremona, compiled in June 1575, highlights the cruelties of German and Italian soldiers (ASF MdP, 3254). This piece of news pinpoints the heart of the matter. In early modern times peasants were forced to give accommodation to soldiers who often took advantage of this and committed violence, crime, and looting. Sometimes, news also mention petty crimes against women, though this remains sporadic in the MIA-Euronews Corpus."
   ]
  },
  {
   "cell_type": "markdown",
   "id": "291545c8",
   "metadata": {},
   "source": [
    "There are some interesting and unexplained silences in the MIA-Euronews Corpus. First, witchcraft is surprisingly underreported. It is estimated that in the early modern period approximately 40.000 and 60.000 people, mainly women, were executed for witchcraft <cite data-cite=\"14123371/6ZGYXXI9\"></cite>. However, apart from some exceptions, the news in the MIA-Euronews Corpusare are silent about witchcraft. Second, scholarship <cite data-cite=\"14123371/ADTRIRVX\"></cite> has discovered a great variety of crimes that were usually ascribed to women in the early modern period. This includes for instance fornication, infanticide, adultery, and premarital sex. News are not particularly specific about the types of crimes women commit. Generally, physical violence is the main crime against and by women that is discussed."
   ]
  },
  {
   "cell_type": "markdown",
   "id": "b4bb54e0",
   "metadata": {},
   "source": [
    "## Conclusion"
   ]
  },
  {
   "cell_type": "markdown",
   "id": "c45c05f4",
   "metadata": {},
   "source": [
    "The focus of scholarship on early modern women history has been agency. Precisely, historians have studied the way women “skirted or even reshaped the patriarchal structure of the day. (<cite data-cite=\"14123371/KUDG2GZW\"></cite>, p. 21)” Numerous examples of women challenging the traditional male order have been unearthed and studied with the purpose of understanding how gendered differences in the early modern period were constructed (<cite data-cite=\"14123371/7NI4YVUD\"></cite>; <cite data-cite=\"14123371/TUA88M8S\"></cite>,<cite data-cite=\"14123371/QQHU33XT\"></cite>; <cite data-cite=\"14123371/72FIBYUM\"></cite>). Hence I am evaluating the findings of my investigation in light of this question."
   ]
  },
  {
   "cell_type": "markdown",
   "id": "fb31e430",
   "metadata": {},
   "source": [
    "My findings suggest that handwritten news reinforced existing ideas about gender and gendered differences. First, handwritten news highlighted the male dominance of the period. We have seen that even though women were not completely absent from news, their presence was rather sporadic. By contrast, men were almost always present; yet they were the main protagonists of the news. As it has been pointed out, no significant difference was found between different countries and regions. Second, if women occur in news, they are usually mentioned in traditional settings: celebration, marriage, travel, childbirth, etc. Similarly, women tend to assume traditional roles. As a result, I conclude that in handwritten news women do not challenge the patriarchal order of their day; yet they act according to this order. News therefore do not challenge the traditional gender differences of the period. "
   ]
  },
  {
   "cell_type": "markdown",
   "id": "e719c1be",
   "metadata": {},
   "source": [
    "The reason why news sheets conveyed the traditional gender roles and did not fundamentally alter the existing construction of gendered differences must be sought in the medium itself. Most probably, news sheets were compiled by men, which must have had a significant impact on the types of information that were included or ignored. Furthermore, the key topics of handwritten news uncovered in this essay pinpoint the fact that handwritten news sheets were mainly a political medium. News sheets were meant to help court officials and sovereigns follow political events, including wars and interstate conflicts. This explains why themes related to women, such as for instance child birth and marriage, were relatively rare. In light of all this, I can conclude that the story of the woman ambassador presented at the beginning of this paper must have been an anomaly."
   ]
  },
  {
   "cell_type": "markdown",
   "id": "49ca23f3",
   "metadata": {},
   "source": [
    "## Implementation"
   ]
  },
  {
   "cell_type": "markdown",
   "id": "b289819a",
   "metadata": {},
   "source": [
    "The methodology behind this research consists of three different components and includes a preprocessing stage. Here I will present these three components with a special emphasis on how they resolve the problems outlined in the section addressing randomness and archival research. This section requires advanced knowledge in mathematics and computer science."
   ]
  },
  {
   "cell_type": "markdown",
   "id": "f715218d",
   "metadata": {},
   "source": [
    "### Preprocessing"
   ]
  },
  {
   "cell_type": "markdown",
   "id": "bbb54746",
   "metadata": {},
   "source": [
    "The MIA-Euronews Corpus is preserved in the MIA Database of the Medici Archive Project; it consists of transcriptions of news sheets and basic metadata (place and date of compilation, source location of news items). As a first step, the transcriptions (represented in JSON) were tokenized, lemmatized, and POS tagged. For this task a lemmatizer and POS tagger for modern Italian by spaCy ([https://spacy.io/](https://spacy.io/)) was used. Given that the news sheets that reached the Medici court were mainly written in the Tuscan dialect, which is the predecessor of modern Italian, the lemmatizer performed reasonably well and delivered acceptable results. Throughout the preprocessing names of persons were identified with a Named Entity Recognizer; their gender and social rank were inferred computationally with the supervision of a human expert. What made the computational inference of social rank possible is that names are usually preceded by titles (such as marchese, princess, duke, etc.) in the MIA-Euronews Corpus."
   ]
  },
  {
   "cell_type": "markdown",
   "id": "669e2839",
   "metadata": {},
   "source": [
    "### Repeated random sampling of news sheets and news items"
   ]
  },
  {
   "cell_type": "markdown",
   "id": "84dbab77",
   "metadata": {},
   "source": [
    "To accomplish repeated random sampling, the standard procedure of bootstrapping, also known as resampling, was applied <cite data-cite=\"14123371/3FLLGXTK\"></cite>. Bootstrapping involves the repeated and randomized selection of a small subset of a large original sample. In this research, throughout each step of randomized selection, I picked one hundred complete news sheets and one hundred news items; then I counted the number of news items and news sheets that mention at least one woman. Hence I treated women’s presence in news as a binomial random variable with two possible outcomes: present and absent. Next, by averaging the outcomes of the randomized selection steps, I calculated the mean number of news items and news sheets in which women are present or absent if hundred news items and new sheets are randomly selected. In short, the process of repeated random sampling of news sheets and news items brought about a binomial probability distribution that represents women’s presence or absence in the MIA-Euronews Corpus."
   ]
  },
  {
   "cell_type": "markdown",
   "id": "6c61d5b4",
   "metadata": {},
   "source": [
    "To discover the probability distribution that represents the presence of women in the lost totality of news sheets that once circulated in the early modern period, I applied Bayes’ Theorem <cite data-cite=\"14123371/4Y5IPFUQ\"></cite>. This is a mathematical framework that facilitates the discovery of the most likely prior distribution giving rise to a set of evidence gathered  throughout a series of independent trials. In the context of this research, the evidence is the binomial probability distribution that the bootstrapping procedure brought about and the prior is the probability distribution that represents women’s presence in the lost totality of once existing news sheets. We can formalize all this in the following way:"
   ]
  },
  {
   "cell_type": "markdown",
   "id": "3053f231",
   "metadata": {},
   "source": [
    "* Let X be the prior and let X be a continuous distribution with support [0,1] so that it can effectively represent the probability of presence and absence (for instance if X = 0.2 then the probability of women’s presence is 0.2 and the probability of their absence is 0.8)."
   ]
  },
  {
   "cell_type": "markdown",
   "id": "e466fae7",
   "metadata": {},
   "source": [
    "* Let H and T be the evidence; let H be a random variable for the number of news sheets (or news items) in which women are present, and let T be a random variable for the number of news sheets (or news items) in which women are absent."
   ]
  },
  {
   "cell_type": "markdown",
   "id": "cb4ffbcf",
   "metadata": {
    "tags": [
     "narrative"
    ]
   },
   "source": [
    "We can formalize the relationship between the prior (X) and the evidence (H and T) as the probability (P) of observing presence _h_ number of times and absence _t_ number of times given that the prior probability distribution of presence is _x_."
   ]
  },
  {
   "cell_type": "markdown",
   "id": "b6218f19",
   "metadata": {},
   "source": [
    "$$P(H = h, T = t | X = x)$$"
   ]
  },
  {
   "cell_type": "markdown",
   "id": "c4522beb",
   "metadata": {},
   "source": [
    "We can also reverse the statement above:"
   ]
  },
  {
   "cell_type": "markdown",
   "id": "2ddb4866",
   "metadata": {},
   "source": [
    "$$P(X = x | H = h, T = t)$$"
   ]
  },
  {
   "cell_type": "markdown",
   "id": "dada413c",
   "metadata": {},
   "source": [
    "This term expresses the probability of the prior given the evidence. Qualitatively, it tells how the prior probability distribution is changing in light of the evidence we have (more about this later)"
   ]
  },
  {
   "cell_type": "markdown",
   "id": "aea4290c",
   "metadata": {},
   "source": [
    "For convenience, we can express the prior probability distribution with its probability density function (PDF):"
   ]
  },
  {
   "cell_type": "markdown",
   "id": "667a4b39",
   "metadata": {
    "execution": {
     "iopub.execute_input": "2023-04-18T15:10:06.593769Z",
     "iopub.status.busy": "2023-04-18T15:10:06.591705Z",
     "iopub.status.idle": "2023-04-18T15:10:06.598499Z",
     "shell.execute_reply": "2023-04-18T15:10:06.599120Z"
    }
   },
   "source": [
    "$$f(X = x)$$"
   ]
  },
  {
   "cell_type": "markdown",
   "id": "96ed3deb",
   "metadata": {},
   "source": [
    "Similarly, we can express the second term as a PDF:"
   ]
  },
  {
   "cell_type": "markdown",
   "id": "425ad660",
   "metadata": {
    "execution": {
     "iopub.execute_input": "2023-04-18T15:10:06.604878Z",
     "iopub.status.busy": "2023-04-18T15:10:06.603984Z",
     "iopub.status.idle": "2023-04-18T15:10:06.608325Z",
     "shell.execute_reply": "2023-04-18T15:10:06.608954Z"
    }
   },
   "source": [
    "$$f(X = x | H = h, T = t)$$"
   ]
  },
  {
   "cell_type": "markdown",
   "id": "b088d1db",
   "metadata": {},
   "source": [
    "Bayes’ theorem connects the two terms in the following way (Puga et al., 2015):"
   ]
  },
  {
   "cell_type": "markdown",
   "id": "771f0e32",
   "metadata": {},
   "source": [
    "$$f(X = x | H = h, T = t) = \\dfrac{P(H = h, T =t | X = x) \\times f(X = x)}{P(H = h, T =t)}$$"
   ]
  },
  {
   "cell_type": "markdown",
   "id": "163ecb88",
   "metadata": {},
   "source": [
    "Given that the conjugate prior of the binomial distribution is the beta distribution, the PDF we need is the beta PDF:"
   ]
  },
  {
   "cell_type": "markdown",
   "id": "5527c6c6",
   "metadata": {},
   "source": [
    "$$\\dfrac{x^{\\alpha-1}(1-x)^{\\beta-1}}{B(\\alpha , \\beta)}$$"
   ]
  },
  {
   "cell_type": "markdown",
   "id": "f8c3eff6",
   "metadata": {},
   "source": [
    "where"
   ]
  },
  {
   "cell_type": "markdown",
   "id": "a3daea41",
   "metadata": {
    "ExecuteTime": {
     "end_time": "2023-04-18T16:34:53.996173Z",
     "start_time": "2023-04-18T16:34:53.990746Z"
    }
   },
   "source": [
    "$$B(\\alpha,\\beta) = \\dfrac{\\Gamma(\\alpha)\\Gamma(\\beta)}{\\Gamma(\\alpha + \\beta)}$$"
   ]
  },
  {
   "cell_type": "markdown",
   "id": "fa3de634",
   "metadata": {},
   "source": [
    "and"
   ]
  },
  {
   "cell_type": "markdown",
   "id": "055dae78",
   "metadata": {
    "ExecuteTime": {
     "end_time": "2023-04-18T15:55:21.167087Z",
     "start_time": "2023-04-18T15:55:21.160818Z"
    },
    "execution": {
     "iopub.execute_input": "2023-04-18T15:10:06.645146Z",
     "iopub.status.busy": "2023-04-18T15:10:06.644242Z",
     "iopub.status.idle": "2023-04-18T15:10:06.648609Z",
     "shell.execute_reply": "2023-04-18T15:10:06.649229Z"
    }
   },
   "source": [
    "$$\\Gamma$$"
   ]
  },
  {
   "cell_type": "markdown",
   "id": "a5957eab",
   "metadata": {},
   "source": [
    "is the Gamma function."
   ]
  },
  {
   "cell_type": "markdown",
   "id": "1e7ab5e5",
   "metadata": {},
   "source": [
    "In the context of this research, the two parameters of the beta PDF, $\\alpha$ and $\\beta$ are the average number of times women are present and absent, i.e. _H_ and _T_. Precisely, to compute the distribution of women’s presence and absence in the lost whole of news sheets that once circularted, we need to accomplish two steps. First, we set the prior distribution so that the probability of absence and presence are equally likely:"
   ]
  },
  {
   "cell_type": "markdown",
   "id": "02fd0d18",
   "metadata": {},
   "source": [
    "$$B(\\alpha,\\beta) = B(1,1)$$"
   ]
  },
  {
   "cell_type": "markdown",
   "id": "d248604b",
   "metadata": {},
   "source": [
    "Next, we need to update this prior belief in light of the evidence we collect throughout the bootstrapping as follows:"
   ]
  },
  {
   "cell_type": "markdown",
   "id": "91bdf253",
   "metadata": {},
   "source": [
    "$$B(\\alpha,\\beta) = B(1 + h, 1 + t)$$"
   ]
  },
  {
   "cell_type": "markdown",
   "id": "0d806d34",
   "metadata": {},
   "source": [
    "Notice that the update step in case of the beta distribution is straightforward and it involves only addition. Following the update step, we get the most likely prior distribution given the evidence:"
   ]
  },
  {
   "cell_type": "markdown",
   "id": "73f78acd",
   "metadata": {
    "ExecuteTime": {
     "end_time": "2023-04-18T16:00:38.052982Z",
     "start_time": "2023-04-18T16:00:38.046521Z"
    }
   },
   "source": [
    "$$f(X = x | H = h, T = t)$$"
   ]
  },
  {
   "cell_type": "markdown",
   "id": "4c7716cc",
   "metadata": {},
   "source": [
    "###  Markovian simulation"
   ]
  },
  {
   "cell_type": "markdown",
   "id": "8369e3fa",
   "metadata": {},
   "source": [
    "The Markovian simulation of texts is based on the state space model <cite data-cite=\"14123371/UYSIAQ49\"></cite>. The textual universe underlying the MIA-Euronews Corpus was therefore represented as a state space with individual words as discrete states. Next the transition probabilities between words as states were computed from the corpus data and subsequently encoded in a transition matrix."
   ]
  },
  {
   "cell_type": "markdown",
   "id": "ac35e3e9",
   "metadata": {},
   "source": [
    "Let this transition matrix be _P_; as a corollary of the Chapman-Kolmogorov equation <cite data-cite=\"14123371/ZLSFSNT7\"></cite>, we can use _P_ to simulate the development of the underlying Markovian system after _n_ steps and with _m_ as the starting step:"
   ]
  },
  {
   "cell_type": "markdown",
   "id": "5c20e31e",
   "metadata": {
    "ExecuteTime": {
     "end_time": "2023-04-18T16:07:11.349248Z",
     "start_time": "2023-04-18T16:07:11.343599Z"
    }
   },
   "source": [
    "$$P^{n+m}  = P^n \\times P^m$$"
   ]
  },
  {
   "cell_type": "markdown",
   "id": "cd4f2f9d",
   "metadata": {},
   "source": [
    "In practice, as the equation demonstrates, throughout the simulation, we need to raise P on the power of _n+m_. Given that a Markovian system is ergodic, the simulation will reach a stable probability distribution (π) that satisfies the following equation <cite data-cite=\"14123371/SSU5AKJG\"></cite>:"
   ]
  },
  {
   "cell_type": "markdown",
   "id": "7ae506a2",
   "metadata": {},
   "source": [
    "$$\\pi . P = \\pi$$"
   ]
  },
  {
   "cell_type": "markdown",
   "id": "486dc976",
   "metadata": {},
   "source": [
    "The stationary probability distribution π is a non-negative row vector that sums to one; it is the left eigenvector of the transition matrix and it remains unchanged if multiplied by the transition matrix. The stationary probability has a number of features that are important in the context of this research. First, it expresses the non-conditional probability of each state of a finite random system modeled as a Markovian system. The stationary probability of a given state is the maximum probability that the simulated system will be in that state irrespectively of the starting distribution. Hence, the stationary probability distribution is a limiting distribution as follows <cite data-cite=\"14123371/SSU5AKJG\"></cite>:"
   ]
  },
  {
   "cell_type": "markdown",
   "id": "7d387f75",
   "metadata": {},
   "source": [
    "$$\\lim_{k \\to \\infty} {P^{k}} = 1\\pi$$ "
   ]
  },
  {
   "cell_type": "markdown",
   "id": "55fc5324",
   "metadata": {},
   "source": [
    "Throughout this paper I therefore described it as the ‘overall probability’ of a given word in the news system. Second, the stationary probability distribution expresses the significance of each state in a dynamic system represented with a Markovian framework <cite data-cite=\"14123371/3EPZQA95\"></cite>; it thus shows how important a given word is in the MIA-Euronews Corpus."
   ]
  },
  {
   "cell_type": "markdown",
   "id": "4a9e361b",
   "metadata": {},
   "source": [
    "The transition matrix can be also used to run random walks on the underlying Markovian system <cite data-cite=\"14123371/JKKJM8EU\"></cite> and to simulate how states (words in the context of this research) are following each other.  First, one needs to pick (ideally randomly) a given starting state. Second, the row corresponding to this state in the transition matrix is treated as a probability distribution and it is used to randomly select the next state. Throughout the random walk one has to repeat the second step for a reasonably large number of times (or until the random walk reaches convergence). With the help of this random walk, I could observe how words are likely to follow each other. Precisely, I could uncover the words that are most likely to occur before or after terms denoting women."
   ]
  },
  {
   "cell_type": "markdown",
   "id": "13dcd709",
   "metadata": {},
   "source": [
    "At the same time, as explained earlier, the likeliness that word B follows or precedes word A is not necessarily informative about the strength of relationship between them. To estimate the strength of association, one needs to take into consideration the independent probability of A and B. For instance, the fact that _donna _(woman)_ is very likely to be followed by _essere_ (to be) does not indicate a strong associative relationship given that _essere_ is a very common term. Again, I used Bayes theorem and its terminology to describe and resolve this problem as follows:"
   ]
  },
  {
   "cell_type": "markdown",
   "id": "22a000ce",
   "metadata": {},
   "source": [
    "1. Evidence: the probability (P) of B given A (the result of the random walk on the transition matrix)"
   ]
  },
  {
   "cell_type": "markdown",
   "id": "cbf5c69f",
   "metadata": {},
   "source": [
    "P (B | A)"
   ]
  },
  {
   "cell_type": "markdown",
   "id": "0d12e14d",
   "metadata": {},
   "source": [
    "2. Priors: the probability of B independently of A (the stationary probability of B) and the probability of A independently of B (the stationary probability of A)"
   ]
  },
  {
   "cell_type": "markdown",
   "id": "274f7226",
   "metadata": {},
   "source": [
    "P (B) and P (A)"
   ]
  },
  {
   "cell_type": "markdown",
   "id": "4810f661",
   "metadata": {},
   "source": [
    "3. Posterior: probability of A given B (the expression of how much our knowledge about B and A is changing as result of the evidence)"
   ]
  },
  {
   "cell_type": "markdown",
   "id": "1a76b70e",
   "metadata": {},
   "source": [
    "P (A | B)"
   ]
  },
  {
   "cell_type": "markdown",
   "id": "0ce1c122",
   "metadata": {},
   "source": [
    "To calculate the posterior, I again drew on Bayes theorem (see above). In short, the higher the posterior probability, the more the two terms are related to each other."
   ]
  },
  {
   "cell_type": "markdown",
   "id": "8357e98f",
   "metadata": {},
   "source": [
    "### Semantic modeling"
   ]
  },
  {
   "cell_type": "markdown",
   "id": "9b8ee30c",
   "metadata": {},
   "source": [
    "To model the semantic space underlying the MIA-Euronews Corpus, I applied a standard word2vector model <cite data-cite=\"14123371/P5F3GFFK\"></cite>. First, I represented the corpus with a TF-IDF model and then trained the word2vector model (<cite data-cite=\"14123371/HTR8TI92\"></cite>). To identify terms semantically related to words denoting women, I used cosine similarity. I projected the semantic space into two dimensions with the help of Uniform Manifold Approximation and Projection <cite data-cite=\"14123371/RQKEYHQP\"></cite>."
   ]
  },
  {
   "cell_type": "markdown",
   "id": "87bfa37b",
   "metadata": {},
   "source": [
    "## Data Availability"
   ]
  },
  {
   "cell_type": "markdown",
   "id": "4aa3e032",
   "metadata": {},
   "source": [
    "The data used for this research is freely and publicly available in the MIA database of the Medici Archive Project ([http://mia.medici.org/](http://mia.medici.org/))."
   ]
  },
  {
   "cell_type": "markdown",
   "id": "b6ded8d6",
   "metadata": {},
   "source": [
    "## Funding"
   ]
  },
  {
   "cell_type": "markdown",
   "id": "c45bb2c2",
   "metadata": {},
   "source": [
    "This research was funded by the Irish Research Council."
   ]
  },
  {
   "cell_type": "markdown",
   "id": "b50368c7",
   "metadata": {},
   "source": [
    "## Acknowledgements"
   ]
  },
  {
   "cell_type": "markdown",
   "id": "b6c2b581",
   "metadata": {},
   "source": [
    "The author is thankful to the researchers who accomplished the transcriptions of news sheets in the MIA-Euronews Corpus and made them publicly available in the MIA database. The author is also thankful to Alessio Assionitis, the director of the Medici Archive Project, and to Brendan Dooley, the Principal Investigator of the Euronews Project, for facilitating this research. The author is especially grateful to the research team of the Euronews Project for their contribution to the MIA-Euronews Corpus: Davie Boerio, Wouter Kreuze, Sara Mansutti, Carlotta Paltrinieri, and Lorenzo Allori. The author is specially thankful to Davide Boerio for calling his attention on the story of woman ambassador."
   ]
  },
  {
   "cell_type": "markdown",
   "id": "70f140c6",
   "metadata": {
    "tags": [
     "hidden"
    ]
   },
   "source": [
    "## Bibliography"
   ]
  },
  {
   "cell_type": "markdown",
   "id": "d6639d72",
   "metadata": {
    "tags": [
     "hidden"
    ]
   },
   "source": [
    "<div class=\"cite2c-biblio\"></div>"
   ]
  }
 ],
 "metadata": {
  "celltoolbar": "Edit Metadata",
  "cite2c": {
   "citations": {
    "14123371/27AKK3NB": {
     "ISBN": "UVA:X000846383",
     "editor": [
      {
       "family": "Pavone",
       "given": "C."
      }
     ],
     "event-place": "Rome",
     "id": "14123371/27AKK3NB",
     "issued": {
      "year": 1983
     },
     "publisher": "Ministero per i beni culturali e ambientali, Ufficio centrale per i beni archivistici",
     "publisher-place": "Rome",
     "title": "Guida generale degli archivi di Stato italiani",
     "type": "book",
     "volume": "II (F-M)"
    },
    "14123371/3EPZQA95": {
     "ISBN": "978-0-521-73182-9",
     "author": [
      {
       "family": "Meyn",
       "given": "Sean"
      },
      {
       "family": "Tweedie",
       "given": "Richard L."
      }
     ],
     "id": "14123371/3EPZQA95",
     "issued": {
      "month": 4,
      "year": 2009
     },
     "publisher": "Cambridge University Press",
     "title": "Markov chains and stochastic stability",
     "type": "book"
    },
    "14123371/3FLLGXTK": {
     "ISBN": "0-8039-5381-X",
     "author": [
      {
       "family": "Mooney",
       "given": "Christopher Z."
      },
      {
       "family": "Mooney",
       "given": "Christopher F."
      },
      {
       "family": "Mooney",
       "given": "Christopher L."
      },
      {
       "family": "Duval",
       "given": "Robert D."
      },
      {
       "family": "Duvall",
       "given": "Robert"
      }
     ],
     "id": "14123371/3FLLGXTK",
     "issued": {
      "month": 8,
      "year": 1993
     },
     "publisher": "SAGE",
     "title": "Bootstrapping: A nonparametric approach to statistical inference",
     "type": "book"
    },
    "14123371/4Y5IPFUQ": {
     "DOI": "10.1038/nmeth.3335",
     "author": [
      {
       "family": "Puga",
       "given": "Jorge López"
      },
      {
       "family": "Krzywinski",
       "given": "Martin"
      },
      {
       "family": "Altman",
       "given": "Naomi"
      }
     ],
     "container-title": "Nature Methods",
     "id": "14123371/4Y5IPFUQ",
     "issue": "4",
     "issued": {
      "month": 3,
      "year": 2015
     },
     "page": "277–278",
     "page-first": "277",
     "title": "Bayes’ theorem",
     "type": "article-journal",
     "volume": "12"
    },
    "14123371/6ZGYXXI9": {
     "ISBN": "0-521-63875-5",
     "author": [
      {
       "family": "Barry",
       "given": "Jonathan"
      },
      {
       "family": "Hester",
       "given": "Marianne"
      },
      {
       "family": "Roberts",
       "given": "Gareth"
      }
     ],
     "id": "14123371/6ZGYXXI9",
     "issued": {
      "month": 3,
      "year": 1998
     },
     "publisher": "Cambridge University Press",
     "title": "Witchcraft in Early Modern Europe: Studies in culture and belief",
     "type": "book"
    },
    "14123371/72FIBYUM": {
     "author": [
      {
       "family": "Müller",
       "given": "Miriam"
      }
     ],
     "container-title": "Married Women and the Law: Coverture in England and the Common Law World",
     "editor": [
      {
       "family": "Stretton",
       "given": "Tim"
      },
      {
       "family": "Kesselring",
       "given": "Krista J."
      }
     ],
     "id": "14123371/72FIBYUM",
     "issued": {
      "month": 12,
      "year": 2013
     },
     "page": "91–113",
     "page-first": "91",
     "publisher": "McGill-Queen’s Press - MQUP",
     "title": "Peasant Women, Agency and Status in mid-thirteenth to late fourteenth- century England: some Reconsiderations",
     "type": "chapter"
    },
    "14123371/79VHQSU7": {
     "DOI": "10.22148/001c.19102",
     "author": [
      {
       "family": "Riddell",
       "given": "Allen"
      },
      {
       "family": "Betancourt",
       "given": "Michael"
      }
     ],
     "container-title": "Journal of Cultural Analytics",
     "id": "14123371/79VHQSU7",
     "issue": "1",
     "issued": {
      "month": 2,
      "year": 2021
     },
     "title": "Reassembling the English Novel, 1789–1919",
     "type": "article-journal",
     "volume": "6"
    },
    "14123371/7CFN7DES": {
     "ISBN": "978-0-19-820886-0",
     "author": [
      {
       "family": "Rublack",
       "given": "Ulinka"
      }
     ],
     "id": "14123371/7CFN7DES",
     "issued": {
      "year": 2001
     },
     "publisher": "Oxford University Press on Demand",
     "title": "The crimes of women in early modern Germany",
     "type": "book"
    },
    "14123371/7NI4YVUD": {
     "author": [
      {
       "family": "Whyte",
       "given": "Niola"
      }
     ],
     "container-title": "Women, Agency and the Law, 1300–1700",
     "editor": [
      {
       "family": "Kane",
       "given": "Bronach"
      },
      {
       "family": "Williamson",
       "given": "Fiona"
      }
     ],
     "id": "14123371/7NI4YVUD",
     "issued": {
      "month": 10,
      "year": 2015
     },
     "page": "141–157",
     "page-first": "141",
     "publisher": "Routledge",
     "title": "“ ‘With a Sword Drawne in her Hande’: Defending the Boundaries of Household Space in Seventeenth-Century Wales”",
     "type": "chapter"
    },
    "14123371/7VYWEYJC": {
     "URL": "https://ceur-ws.org/Vol-2989/short_paper9.pdf",
     "author": [
      {
       "family": "Tiihonen",
       "given": "Iiro"
      },
      {
       "family": "Tolonen",
       "given": "Mikko"
      },
      {
       "family": "Lahti",
       "given": "Leo"
      }
     ],
     "container-title": "Proceedings of the Conference on Computational Humanities Research",
     "id": "14123371/7VYWEYJC",
     "issued": {
      "year": 2021
     },
     "title": "Probabilistic Analysis of Early Modern British Book Prices",
     "type": "paper-conference"
    },
    "14123371/8RKKSR7C": {
     "ISBN": "0-271-04263-X",
     "author": [
      {
       "family": "Hardwick",
       "given": "Julie"
      }
     ],
     "id": "14123371/8RKKSR7C",
     "issued": {
      "month": 11,
      "year": 2010
     },
     "publisher": "Penn State Press",
     "title": "Practice of patriarchy: Gender and the politics of household authority in early modern France",
     "type": "book"
    },
    "14123371/92BVCMAX": {
     "author": [
      {
       "family": "Filosa",
       "given": "Elsa"
      }
     ],
     "container-title": "Women’s Agency and Self-Fashioning in Early Modern Tuscany: (1300-1600)",
     "editor": [
      {
       "family": "Lorenzini",
       "given": "Simona"
      },
      {
       "family": "Pellegrino",
       "given": "Deborah"
      }
     ],
     "id": "14123371/92BVCMAX",
     "issued": {
      "month": 6,
      "year": 2022
     },
     "publisher": "Viella Libreria Editrice",
     "title": "Lapa Acciaiuoli: A Businesswoman",
     "type": "chapter"
    },
    "14123371/ADTRIRVX": {
     "ISBN": "978-1-139-43511-6",
     "author": [
      {
       "family": "Walker",
       "given": "Garthine"
      }
     ],
     "id": "14123371/ADTRIRVX",
     "issued": {
      "month": 6,
      "year": 2003
     },
     "publisher": "Cambridge University Press",
     "title": "Crime, gender and social order in early modern England",
     "type": "book"
    },
    "14123371/BI7JMMQL": {
     "ISBN": "UOM:39015025916266",
     "author": [
      {
       "family": "Firenze",
       "given": "Archivio di Stato di"
      }
     ],
     "id": "14123371/BI7JMMQL",
     "issued": {
      "year": 1966
     },
     "title": "Archivio mediceo del Principato: Inventario sommario",
     "type": "book"
    },
    "14123371/C6LGWEUN": {
     "URL": "http://dx.doi.org/10.1093/acprof:oso/9780198527688.003.0001",
     "author": [
      {
       "family": "Bini",
       "given": "D. A."
      },
      {
       "family": "Latouche",
       "given": "G."
      },
      {
       "family": "Meini",
       "given": "B."
      }
     ],
     "container-title": "Numerical Methods for Structured Markov Chains",
     "id": "14123371/C6LGWEUN",
     "issued": {
      "month": 2,
      "year": 2005
     },
     "page": "3–22",
     "page-first": "3",
     "publisher": "Oxford University PressOxford",
     "title": "INTRODUCTION TO MARKOV CHAINS",
     "type": "chapter"
    },
    "14123371/C9YWKU9W": {
     "ISBN": "STANFORD:36105029881344",
     "author": [
      {
       "family": "Infelise",
       "given": "Mario"
      }
     ],
     "id": "14123371/C9YWKU9W",
     "issued": {
      "year": 2002
     },
     "title": "Prima dei giornali: Alle origini della pubblica informazione, secoli XVI e XVII",
     "type": "book"
    },
    "14123371/DNJG2PAA": {
     "ISBN": "978-951-858-156-0",
     "author": [
      {
       "family": "Droste",
       "given": "Heiko"
      },
      {
       "family": "Salmi-Niklander",
       "given": "Kirsti"
      }
     ],
     "id": "14123371/DNJG2PAA",
     "issued": {
      "month": 11,
      "year": 2019
     },
     "publisher": "BoD - Books on Demand",
     "title": "Handwritten newspapers: An alternative medium during the early modern and modern periods",
     "type": "book"
    },
    "14123371/DSZ34NVF": {
     "ISBN": "OCLC:609789371",
     "author": [
      {
       "family": "Harris",
       "given": "Zellig Sabbettai"
      }
     ],
     "id": "14123371/DSZ34NVF",
     "issued": {
      "year": 1954
     },
     "title": "Distributional structure",
     "type": "book"
    },
    "14123371/EG2Q7AVT": {
     "ISBN": "978-1-108-49699-5",
     "author": [
      {
       "family": "Wiesner-Hanks",
       "given": "Merry E."
      }
     ],
     "id": "14123371/EG2Q7AVT",
     "issued": {
      "month": 1,
      "year": 2019
     },
     "publisher": "Cambridge University Press",
     "title": "Women and gender in early modern europe",
     "type": "book"
    },
    "14123371/ENB8JPD5": {
     "ISBN": "0-521-22323-7",
     "author": [
      {
       "family": "Flandrin",
       "given": "Jean Louis"
      }
     ],
     "id": "14123371/ENB8JPD5",
     "issued": {
      "month": 6,
      "year": 1979
     },
     "publisher": "Cambridge University Press",
     "title": "Families in former times",
     "type": "book"
    },
    "14123371/GLQDXGC6": {
     "author": [
      {
       "family": "Brizio",
       "given": "Elena"
      }
     ],
     "container-title": "Women’s Agency and Self-Fashioning in Early Modern Tuscany: (1300-1600)",
     "editor": [
      {
       "family": "Lorenzini",
       "given": "Simona"
      },
      {
       "family": "Pellegrino",
       "given": "Deborah"
      }
     ],
     "id": "14123371/GLQDXGC6",
     "issued": {
      "month": 6,
      "year": 2022
     },
     "publisher": "Viella Libreria Editrice",
     "title": "Family Affairs: How a Woman Cared for Her Casa and Its Honour in Cinquecento Siena",
     "type": "chapter"
    },
    "14123371/HCD6U8AY": {
     "DOI": "10.1126/science.abl7655",
     "author": [
      {
       "family": "Kestemont",
       "given": "Mike"
      },
      {
       "family": "Karsdorp",
       "given": "Folgert"
      },
      {
       "family": "de Bruijn",
       "given": "Elisabeth"
      },
      {
       "family": "Driscoll",
       "given": "Matthew"
      },
      {
       "family": "Kapitan",
       "given": "Katarzyna A."
      },
      {
       "family": "Ó Macháin",
       "given": "Pádraig"
      },
      {
       "family": "Sawyer",
       "given": "Daniel"
      },
      {
       "family": "Sleiderink",
       "given": "Remco"
      },
      {
       "family": "Chao",
       "given": "Anne"
      }
     ],
     "container-title": "Science",
     "id": "14123371/HCD6U8AY",
     "issue": "6582",
     "issued": {
      "month": 2,
      "year": 2022
     },
     "page": "765–769",
     "page-first": "765",
     "title": "Forgotten books: The application of unseen species models to the survival of culture",
     "type": "article-journal",
     "volume": "375"
    },
    "14123371/HTR8TI92": {
     "author": [
      {
       "family": "Manning",
       "given": "Christopher D."
      },
      {
       "family": "Raghavan",
       "given": "Prabhakar"
      },
      {
       "family": "Schütze",
       "given": "Hinrich"
      }
     ],
     "container-title": "Introduction to Information Retrieval",
     "id": "14123371/HTR8TI92",
     "issued": {
      "year": 2008
     },
     "page": "100–123",
     "page-first": "100",
     "publisher": "Cambridge University Press",
     "title": "Scoring, term weighting, and the vector space model",
     "type": "chapter"
    },
    "14123371/I2G6YMGM": {
     "ISBN": "978-1-134-63074-5",
     "author": [
      {
       "family": "Baron",
       "given": "Sabrina Alcorn"
      },
      {
       "family": "Dooley",
       "given": "Brendan"
      }
     ],
     "id": "14123371/I2G6YMGM",
     "issued": {
      "month": 7,
      "year": 2005
     },
     "publisher": "Routledge",
     "title": "The politics of information in early modern Europe",
     "type": "book"
    },
    "14123371/IE4PH3CB": {
     "ISBN": "978-1-4443-0797-9",
     "author": [
      {
       "family": "Wittgenstein",
       "given": "Ludwig"
      }
     ],
     "id": "14123371/IE4PH3CB",
     "issued": {
      "month": 3,
      "year": 2010
     },
     "publisher": "John Wiley & Sons",
     "title": "Philosophical investigations",
     "type": "book"
    },
    "14123371/JKKJM8EU": {
     "ISBN": "978-3-642-62015-7",
     "author": [
      {
       "family": "Chung",
       "given": "Kai Lai"
      }
     ],
     "id": "14123371/JKKJM8EU",
     "issued": {
      "month": 12,
      "year": 2012
     },
     "publisher": "Springer Science & Business Media",
     "title": "Markov chains: With stationary transition probabilities",
     "type": "book"
    },
    "14123371/KUDG2GZW": {
     "author": [
      {
       "family": "Howell",
       "given": "Martha"
      }
     ],
     "container-title": "Women and Gender in the Early Modern Low Countries, 1500 - 1750",
     "editor": [
      {
       "family": "Moran",
       "given": "Sarah Joan"
      },
      {
       "family": "Pipkin",
       "given": "Amanda C."
      }
     ],
     "id": "14123371/KUDG2GZW",
     "issued": {
      "year": 2019
     },
     "page": "21–30",
     "page-first": "21",
     "publisher": "Brill",
     "title": "The Problem of Women’s Agency in Late Medieval and Early Modern Europe",
     "type": "chapter"
    },
    "14123371/L9CZRPZQ": {
     "URL": "http://dx.doi.org/10.1163/9789004277199_032",
     "author": [
      {
       "family": "Barker",
       "given": "Sheila"
      }
     ],
     "container-title": "News Networks in Early Modern Europe",
     "editor": [
      {
       "family": "Raymond",
       "given": "Joed"
      },
      {
       "family": "Moxham",
       "given": "Noah"
      }
     ],
     "id": "14123371/L9CZRPZQ",
     "issued": {
      "month": 1,
      "year": 2016
     },
     "page": "716–738",
     "page-first": "716",
     "publisher": "BRILL",
     "title": "‘Secret and Uncertain’: A history of Avvisi at the court of the medici grand dukes",
     "type": "chapter"
    },
    "14123371/LYRC68NN": {
     "ISBN": "0-7456-0840-X",
     "author": [
      {
       "family": "Mączak",
       "given": "Antoni"
      }
     ],
     "id": "14123371/LYRC68NN",
     "issued": {
      "year": 1995
     },
     "publisher": "John Wiley & Sons",
     "title": "Travel in early modern Europe",
     "type": "book"
    },
    "14123371/N2365VZ4": {
     "ISBN": "978-90-485-5093-7",
     "author": [
      {
       "family": "Wiesner-Hanks",
       "given": "Merry"
      }
     ],
     "id": "14123371/N2365VZ4",
     "issued": {
      "month": 12,
      "year": 2020
     },
     "publisher": "Amsterdam University Press",
     "title": "Challenging women’s agency and activism in early modernity",
     "type": "book"
    },
    "14123371/P5F3GFFK": {
     "URL": "http://dx.doi.org/10.21437/interspeech.2010-343",
     "author": [
      {
       "family": "Mikolov",
       "given": "Tomáš"
      },
      {
       "family": "Karafiát",
       "given": "Martin"
      },
      {
       "family": "Burget",
       "given": "Lukáš"
      },
      {
       "family": "Černocký",
       "given": "Jan"
      },
      {
       "family": "Khudanpur",
       "given": "Sanjeev"
      }
     ],
     "container-title": "Interspeech 2010",
     "event-place": "ISCA",
     "id": "14123371/P5F3GFFK",
     "issued": {
      "month": 9,
      "year": 2010
     },
     "publisher": "ISCA",
     "publisher-place": "ISCA",
     "title": "Recurrent neural network based language model",
     "type": "paper-conference"
    },
    "14123371/Q2467ZE9": {
     "URL": "http://dx.doi.org/10.1017/9781108755528.004",
     "author": [
      {
       "family": "Blum",
       "given": "Avrim"
      }
     ],
     "container-title": "Foundations of Data Science",
     "id": "14123371/Q2467ZE9",
     "issued": {
      "month": 1,
      "year": 2020
     },
     "page": "62–108",
     "page-first": "62",
     "publisher": "Cambridge University Press",
     "title": "Random walks and markov chains",
     "type": "chapter"
    },
    "14123371/Q73WEBWI": {
     "DOI": "10.1016/0024-3841(49)90085-6",
     "author": [
      {
       "family": "Firth",
       "given": "J.R."
      }
     ],
     "container-title": "Lingua",
     "id": "14123371/Q73WEBWI",
     "issued": {
      "year": 1949
     },
     "page": "393–404",
     "page-first": "393",
     "title": "The semantics of linguistic science",
     "type": "article-journal",
     "volume": "1"
    },
    "14123371/QQHU33XT": {
     "author": [
      {
       "family": "Montenach",
       "given": "Anne"
      }
     ],
     "container-title": "Female Agency in the Urban Economy: Gender in European Towns, 1640-1830",
     "editor": [
      {
       "family": "Simonton",
       "given": "Deborah"
      },
      {
       "family": "Montenach",
       "given": "Anne"
      }
     ],
     "id": "14123371/QQHU33XT",
     "issued": {
      "month": 4,
      "year": 2013
     },
     "page": "17–35",
     "page-first": "17",
     "publisher": "Routledge",
     "title": "Legal Trade and Black Markets: Food Trades in Lyon in the late seven- teenth and early eighteenth century",
     "type": "chapter"
    },
    "14123371/QUFFHSCV": {
     "DOI": "10.1162/coli_a_00016",
     "author": [
      {
       "family": "Baroni",
       "given": "Marco"
      },
      {
       "family": "Lenci",
       "given": "Alessandro"
      }
     ],
     "container-title": "Computational Linguistics",
     "id": "14123371/QUFFHSCV",
     "issue": "4",
     "issued": {
      "month": 12,
      "year": 2010
     },
     "page": "673–721",
     "page-first": "673",
     "title": "Distributional memory: A general framework for corpus-based semantics",
     "type": "article-journal",
     "volume": "36"
    },
    "14123371/QV4LV2AA": {
     "ISBN": "978-0-19-927060-6",
     "author": [
      {
       "family": "Froide",
       "given": "Amy M."
      }
     ],
     "id": "14123371/QV4LV2AA",
     "issued": {
      "month": 2,
      "year": 2005
     },
     "publisher": "Oxford University Press",
     "title": "Never married: Singlewomen in early modern england",
     "type": "book"
    },
    "14123371/RQKEYHQP": {
     "DOI": "10.21105/joss.00861",
     "author": [
      {
       "family": "McInnes",
       "given": "Leland"
      },
      {
       "family": "Healy",
       "given": "John"
      },
      {
       "family": "Saul",
       "given": "Nathaniel"
      },
      {
       "family": "Großberger",
       "given": "Lukas"
      }
     ],
     "container-title": "Journal of Open Source Software",
     "id": "14123371/RQKEYHQP",
     "issue": "29",
     "issued": {
      "month": 9,
      "year": 2018
     },
     "page": "861",
     "page-first": "861",
     "title": "UMAP: Uniform manifold approximation and projection",
     "type": "article-journal",
     "volume": "3"
    },
    "14123371/SSU5AKJG": {
     "ISBN": "OCLC:233637829",
     "author": [
      {
       "family": "Papoulis",
       "given": "Athanasios"
      }
     ],
     "id": "14123371/SSU5AKJG",
     "issued": {
      "year": 1965
     },
     "title": "Probability, random variables, and stochastic processes: Solutions to the problems in probability, random variables and stochastic processes",
     "type": "book"
    },
    "14123371/SWZQ7BFG": {
     "URL": "http://dx.doi.org/10.1163/9789004277199_012",
     "author": [
      {
       "family": "Ettinghausen",
       "given": "Henry"
      }
     ],
     "container-title": "News Networks in Early Modern Europe",
     "id": "14123371/SWZQ7BFG",
     "issued": {
      "month": 1,
      "year": 2016
     },
     "page": "261–279",
     "page-first": "261",
     "publisher": "BRILL",
     "title": "International relations: Spanish, Italian, French, English and German printed single event newsletters prior to renaudot’s gazette",
     "type": "chapter"
    },
    "14123371/T6CNXASM": {
     "ISBN": "2-85816-361-8",
     "author": [
      {
       "family": "Dolan",
       "given": "Claire"
      }
     ],
     "id": "14123371/T6CNXASM",
     "issued": {
      "year": 1998
     },
     "publisher": "Presses Univ. du Mirail",
     "title": "Le notaire, la famille et la ville: Aix-en-Provence à la fin du XVIe siècle",
     "type": "book"
    },
    "14123371/T8QUN2KM": {
     "DOI": "10.1214/aos/1176350061",
     "author": [
      {
       "family": "Lo",
       "given": "Albert Y."
      }
     ],
     "container-title": "The Annals of Statistics",
     "id": "14123371/T8QUN2KM",
     "issue": "3",
     "issued": {
      "month": 9,
      "year": 1986
     },
     "title": "Bayesian statistical inference for sampling a finite population",
     "type": "article-journal",
     "volume": "14"
    },
    "14123371/TUA88M8S": {
     "author": [
      {
       "family": "Harline",
       "given": "Craig"
      }
     ],
     "container-title": "Attending to Early Modern Women: Conflict and Concord",
     "id": "14123371/TUA88M8S",
     "issued": {
      "month": 7,
      "year": 2013
     },
     "page": "3–23",
     "page-first": "3",
     "publisher": "University of Delaware",
     "title": "Big Sister as Intermediary: how Maria Rolandus tried to win back her way- ward brother",
     "type": "chapter"
    },
    "14123371/URZW6Q9G": {
     "ISBN": "0-674-95520-X",
     "author": [
      {
       "family": "Davis",
       "given": "Henry Charles Lea Professor of History Emeritus Natalie Zemon"
      },
      {
       "family": "Davis",
       "given": "Natalie Zemon"
      }
     ],
     "id": "14123371/URZW6Q9G",
     "issued": {
      "year": 1995
     },
     "publisher": "Harvard University Press",
     "title": "Women on the Margins: Three seventeenth-century lives",
     "type": "book"
    },
    "14123371/UYSIAQ49": {
     "ISBN": "978-3-540-44125-0",
     "author": [
      {
       "family": "Hinrichsen",
       "given": "Diederich"
      },
      {
       "family": "Pritchard",
       "given": "Anthony J."
      }
     ],
     "id": "14123371/UYSIAQ49",
     "issued": {
      "month": 8,
      "year": 2011
     },
     "publisher": "Springer Science & Business Media",
     "title": "Mathematical systems theory I: Modelling, state space analysis, stability and robustness",
     "type": "book"
    },
    "14123371/VUNYRXSG": {
     "ISBN": "0-271-04212-5",
     "author": [
      {
       "family": "Benson",
       "given": "Pamela Joseph"
      }
     ],
     "id": "14123371/VUNYRXSG",
     "issued": {
      "month": 11,
      "year": 2010
     },
     "publisher": "Penn State Press",
     "title": "Invention of the Renaissance Woman: The Challenge of Female Independence in the Literature and Thought of Italy and England",
     "type": "book"
    },
    "14123371/WI9Z4FWN": {
     "ISBN": "978-3-05-005159-8",
     "author": [
      {
       "family": "Bauer",
       "given": "Oswald"
      }
     ],
     "id": "14123371/WI9Z4FWN",
     "issued": {
      "month": 7,
      "year": 2011
     },
     "publisher": "Oldenbourg Verlag",
     "title": "Zeitungen vor der Zeitung: Die Fuggerzeitungen (1568-1605) und das frühmoderne Nachrichtensystem",
     "type": "book"
    },
    "14123371/XTI8JBV7": {
     "ISBN": "978-1-78816-344-6",
     "author": [
      {
       "family": "Weduwen",
       "given": "Arthur der"
      },
      {
       "family": "Pettegree",
       "given": "Andrew"
      }
     ],
     "id": "14123371/XTI8JBV7",
     "issued": {
      "month": 10,
      "year": 2021
     },
     "publisher": "Profile Books",
     "title": "The library: A fragile history",
     "type": "book"
    },
    "14123371/YUIGK4W8": {
     "ISBN": "978-90-04-27686-4",
     "author": [
      {
       "family": "Davies",
       "given": "Simon"
      },
      {
       "family": "Fletcher",
       "given": "Puck"
      }
     ],
     "id": "14123371/YUIGK4W8",
     "issued": {
      "month": 7,
      "year": 2014
     },
     "publisher": "BRILL",
     "title": "News in Early Modern Europe: Currents and Connections",
     "type": "book"
    },
    "14123371/ZLSFSNT7": {
     "ISBN": "978-0-471-66719-3",
     "URL": "https://onlinelibrary.wiley.com/doi/abs/10.1002/0471667196.ess0225.pub2",
     "accessed": {
      "day": 8,
      "month": 2,
      "year": 2023
     },
     "container-title": "Encyclopedia of Statistical Sciences",
     "id": "14123371/ZLSFSNT7",
     "issued": {
      "year": 2006
     },
     "language": "en",
     "note": "_eprint: https://onlinelibrary.wiley.com/doi/pdf/10.1002/0471667196.ess0225.pub2\nDOI: 10.1002/0471667196.ess0225.pub2",
     "publisher": "John Wiley & Sons, Ltd",
     "title": "Chapman–Kolmogorov Equation",
     "type": "chapter"
    },
    "undefined": {
     "ISBN": "UOM:39015025916266",
     "author": [
      {
       "family": "Firenze",
       "given": "Archivio di Stato di"
      }
     ],
     "id": "undefined",
     "issued": {
      "year": 1966
     },
     "title": "Archivio mediceo del Principato: Inventario sommario",
     "type": "book"
    }
   }
  },
  "kernelspec": {
   "display_name": "Python 3 (ipykernel)",
   "language": "python",
   "name": "python3"
  },
  "language_info": {
   "codemirror_mode": {
    "name": "ipython",
    "version": 3
   },
   "file_extension": ".py",
   "mimetype": "text/x-python",
   "name": "python",
   "nbconvert_exporter": "python",
   "pygments_lexer": "ipython3",
   "version": "3.7.13"
  },
  "toc": {
   "base_numbering": 1,
   "nav_menu": {},
   "number_sections": true,
   "sideBar": true,
   "skip_h1_title": false,
   "title_cell": "Table of Contents",
   "title_sidebar": "Contents",
   "toc_cell": false,
   "toc_position": {
    "height": "calc(100% - 180px)",
    "left": "10px",
    "top": "150px",
    "width": "688px"
   },
   "toc_section_display": true,
   "toc_window_display": false
  },
  "varInspector": {
   "cols": {
    "lenName": 16,
    "lenType": 16,
    "lenVar": 40
   },
   "kernels_config": {
    "python": {
     "delete_cmd_postfix": "",
     "delete_cmd_prefix": "del ",
     "library": "var_list.py",
     "varRefreshCmd": "print(var_dic_list())"
    },
    "r": {
     "delete_cmd_postfix": ") ",
     "delete_cmd_prefix": "rm(",
     "library": "var_list.r",
     "varRefreshCmd": "cat(var_dic_list()) "
    }
   },
   "types_to_exclude": [
    "module",
    "function",
    "builtin_function_or_method",
    "instance",
    "_Feature"
   ],
   "window_display": false
  }
 },
 "nbformat": 4,
 "nbformat_minor": 5
}
